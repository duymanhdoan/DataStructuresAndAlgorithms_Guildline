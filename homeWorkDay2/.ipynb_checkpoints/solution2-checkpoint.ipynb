{
 "cells": [
  {
   "cell_type": "markdown",
   "metadata": {},
   "source": [
    "### Function \n",
    "Bài 1. Viết một hàm số python có tham số đầu vào là 1 danh sách và các giá trị muốn xóa\n",
    "khỏi danh sách đó. Kết quả đầu ra là 1 danh sách đã được xóa đi các giá trị nhập vào. Ví\n",
    "dụ: Truyền vào _inlist = [5,8,11,9,11,8,8] và giá trị cần xóa là 8 và 11, thì danh sách đầu\n",
    "ra thu được sẽ là: _outlist = [5,9].\n",
    "\n",
    "Bài 2. Viết một hàm Python để tính toán giai thừa của một số (một số nguyên không âm).\n",
    "Gợi ý: Sử dụng hàm đệ quy n! = (n-1)!*n.\n",
    "\n",
    "Bài 3. Viết một hàm Python chấp nhận một chuỗi và tính toán số chữ hoa và chữ thường.\n",
    "Vd: Chuỗi mẫu: ‘The Brow Fox’  Kết quả mong đợi: Số ký tự chữ hoa: 3; Số ký tự chữ\n",
    "thường: 7.\n"
   ]
  },
  {
   "cell_type": "markdown",
   "metadata": {},
   "source": [
    "### List \n",
    "Bài 4: Viết chương trình python tính tổng của các phần tử trong một list sau: _list= [1,\n",
    "2, 3, 4, 5, 6, 7, 8, 9].\n",
    "\n",
    "Bài 5: Nhập vào từ bàn phím số n và list cho trước, tìm các từ có độ dài lớn hơn n từ\n",
    "list đó.\n",
    "\n",
    "Bài 6: Viết chương trình tạo một list mới bằng cách loại bỏ các phần tử có giá trị giống\n",
    "nhau trong list đầu vào. Ví dụ: nhập list đầu vào là _list= ['abc', 'xyz', 'abc', '12', ‘ii’, ‘12’,\n",
    "‘5a’]  kết quả list mới là _new= ['xyz', ‘ii’, ‘5a’]"
   ]
  },
  {
   "cell_type": "code",
   "execution_count": null,
   "metadata": {},
   "outputs": [],
   "source": [
    "2s = 2*1^8."
   ]
  },
  {
   "cell_type": "code",
   "execution_count": 3,
   "metadata": {},
   "outputs": [
    {
     "ename": "SyntaxError",
     "evalue": "invalid syntax (<ipython-input-3-dbae373f1a97>, line 2)",
     "output_type": "error",
     "traceback": [
      "\u001b[0;36m  File \u001b[0;32m\"<ipython-input-3-dbae373f1a97>\"\u001b[0;36m, line \u001b[0;32m2\u001b[0m\n\u001b[0;31m    a = 4, b = 2 -> (a+b)/2 = 3\u001b[0m\n\u001b[0m                 ^\u001b[0m\n\u001b[0;31mSyntaxError\u001b[0m\u001b[0;31m:\u001b[0m invalid syntax\n"
     ]
    }
   ],
   "source": [
    "n = 4 [1,2,3,4] \n",
    "a = 4, b = 2 -> (a+b)/2 = 3\n",
    "[2] \n",
    "3 thao thac"
   ]
  },
  {
   "cell_type": "markdown",
   "metadata": {},
   "source": [
    "                                 Problem. Numbers on Whiteboard\n",
    "                                    ```\n",
    "                                    time limit per test\n",
    "                                    2 seconds\n",
    "                                    memory limit per test\n",
    "                                    256 megabytes\n",
    "                                    input\n",
    "                                    standard input\n",
    "                                    output\n",
    "                                    standard output\n",
    "                                    ```\n",
    "\n",
    "Cho một dãy số nguyên từ 1 ….. n. Trong một lần thực hiện bạn được phép xóa 2 số a và b bất kỳ và thay thế bằng một số nguyên (a + b)/2 được làm tròn lên. \n",
    "\n",
    "Bạn được thực hiện n−1 tính toán như vậy sao cho thu được số nhỏ nhất có thể còn lại. \n",
    "\n",
    "+ Cho ví dụ:  Nếu n=4, Ta sẽ có những hoạt động tối ưu như sau:\n",
    "+ Chọn a=4 và b=2, Số mới thu được là  3, Dãy mới thu được sẽ là [1,3,3] ;\n",
    "+ Chọn a=3 và b=3, Số mới thu được là  3, Dãy mới thu được sẽ là [1,3] ;\n",
    "+ Chọn a=1 và b=3, Số mới thu được là  2, Dãy mới thu được sẽ là [2] ;\n",
    "\n",
    "+ Rất dễ dàng nhận thấy sau  n−1 lần thực hiện, số còn lại là số duy nhất. Mục tiêu của bạn là tối thiểu nó. \n",
    "\n",
    "#### Input\n",
    "    Dòng đầu tiên chưa một số nguyên  t (1≤t≤1000) — Số lượng trường hợp xảy ra.\n",
    "    Trên mỗi dòng chứa một trường hợp chứa 1 số nguyên n (2≤n≤2⋅10^5) — n là số nguyên dương đại diện cho dãy số 1… n.\n",
    "    Đảm bảo rằng tổng 2 số lớn nhất của n không vượt quá 2*10^5\n",
    "#### Output\n",
    "    Trong mỗi trường hợp, Dòng đầu tiên in số nguyên nhỏ nhất còn lại sau cùng sau  n−1 lần thực hiện. Mỗi dòng tiếp theo n−1 dòng. Hiển thị 2 số nguyên  a và b được chọn để xóa trong mỗi lần thực hiện. \n",
    "\n",
    "##### Example\n",
    "##### input\n",
    "        1\n",
    "        4\n",
    "##### output\n",
    "\n",
    "        2\n",
    "        2 4\n",
    "        3 3\n",
    "        3 1\n"
   ]
  },
  {
   "cell_type": "code",
   "execution_count": null,
   "metadata": {},
   "outputs": [],
   "source": [
    "n = 4 \n",
    "1 ,2 ,3 ,4 \n",
    "1 ,2 , 4 \n",
    "1 , 3\n",
    "2 \n",
    "\n",
    "n = 8 \n",
    "1 ,2 ,3 ,4 ,5 ,6 ,7 ,8 \n",
    "1 ,2 ,3 , 4 ,5 ,6, 8\n",
    "1 , 2, 3, 4 ,5 , 7\n",
    "1 ,2 ,3 ,4 , 6\n",
    "1 ,2 ,3 ,5 \n",
    "1 ,2 ,4 \n",
    "1, 3. \n",
    "2. \n",
    "\n",
    "n = 2 \n",
    "1 , 2\n",
    "2 \n",
    "\n",
    "n = 3\n",
    "1 ,2 ,3 \n",
    "1 ,3 \n",
    "2 \n",
    "\n"
   ]
  },
  {
   "cell_type": "code",
   "execution_count": null,
   "metadata": {},
   "outputs": [],
   "source": []
  },
  {
   "cell_type": "markdown",
   "metadata": {},
   "source": [
    "                                Problem. Three Indices\n",
    "                                time limit per test\n",
    "                                2 seconds\n",
    "                                memory limit per test\n",
    "                                256 megabytes\n",
    "                                input\n",
    "                                standard input\n",
    "                                output\n",
    "                                standard output\n",
    "\n",
    "+ Bạn được đưa cho p1,p2,…,pn hoán vị. Lưu ý, dãy n được gọi là hoán vị khi mỗi phần tử xuất hiện duy nhất 1 lần. \n",
    "+ Tìm ba vị trí i, j và k như sau:\n",
    "    \n",
    "    • 1≤i<j<k≤n;\n",
    "    \n",
    "    • pi<pj và pj>pk.\n",
    "    \n",
    "    • Hoặc ba vị trí đó không tồn tại.\n",
    "##### Input\n",
    "    Dòng đầu tiên chưa 1 số nguyên T (1≤T≤200) — số lượng test cases.\n",
    "    Hai dòng tiếp theo chứa test cases . Trong đó dòng đầu tiên chưa số lượng dãy số nguyên  n (3≤n≤1000) — Độ dài của dãy hoán vị p.\n",
    "    Dòng thứ hai chứa n số nguyên p1,p2,…,pn (1≤pi≤n; pi≠pj if i≠j) — hoán vị pi.\n",
    "##### Output\n",
    "    Mỗi một test cases:\n",
    "        • Nếu tồn tại các vị trí i, j và k, hiện thị YES (viết hoa) và các chỉ số tương ứng.;\n",
    "        • Nếu không tồn tại thì hiện thị NO (viết hoa).\n",
    "    Nếu có nhiều đáp án, in ra 1 trong số đó.\n",
    "\n",
    "#### Example\n",
    "##### Input\n",
    "    3\n",
    "    4\n",
    "    2 1 4 3\n",
    "    6\n",
    "    4 6 1 2 5 3\n",
    "    5\n",
    "    5 3 1 2 4\n",
    "##### Output\n",
    "    YES\n",
    "    2 3 4\n",
    "    YES\n",
    "    3 5 6\n",
    "    NO\n"
   ]
  },
  {
   "cell_type": "code",
   "execution_count": null,
   "metadata": {},
   "outputs": [],
   "source": []
  },
  {
   "cell_type": "markdown",
   "metadata": {},
   "source": [
    "                                 Problem. ADD STRINGS \n",
    "\n",
    "    Cho 2 số không âm, num1 and num2 đại diện dưới 2 chuỗi string, Trả về tổng của   num1 và num2 ở dạng string.\n",
    "    Bài này yêu cầu không sử dụng thư viện sẵn có, hay các hàm có liên quan để  \n",
    "    convert str → int. \n",
    "#### Example 1:\n",
    "##### Input: \n",
    "     num1 = \"11\", num2 = \"123\"\n",
    "##### Output: \n",
    "    \"134\"\n",
    "#### Example 2:\n",
    "##### Input: \n",
    "    num1 = \"456\", num2 = \"77\"\n",
    "##### Output: \n",
    "    \"533\"\n",
    "##### Example 3:\n",
    "##### Input: \n",
    "    num1 = \"0\", num2 = \"0\"\n",
    "##### Output: \n",
    "    \"0\"\n",
    "##### Constraints:\n",
    "    • 1 <= num1.length, num2.length <= 104\n",
    "    • num1 và num2 chỉ toàn các ký tự số.\n",
    "    • num1 và num2 Không có bất kỳ số 0 nào ở đầu ngoại trừ chỉ có 0.\n"
   ]
  },
  {
   "cell_type": "code",
   "execution_count": null,
   "metadata": {},
   "outputs": [],
   "source": [
    "456 \n",
    " 77 \n",
    "533 \n",
    "\n",
    "Fibonaci "
   ]
  }
 ],
 "metadata": {
  "kernelspec": {
   "display_name": "Python 3",
   "language": "python",
   "name": "python3"
  },
  "language_info": {
   "codemirror_mode": {
    "name": "ipython",
    "version": 3
   },
   "file_extension": ".py",
   "mimetype": "text/x-python",
   "name": "python",
   "nbconvert_exporter": "python",
   "pygments_lexer": "ipython3",
   "version": "3.8.3"
  }
 },
 "nbformat": 4,
 "nbformat_minor": 4
}
