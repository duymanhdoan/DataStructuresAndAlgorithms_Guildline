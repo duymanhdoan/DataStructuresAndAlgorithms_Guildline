{
 "cells": [
  {
   "cell_type": "markdown",
   "metadata": {},
   "source": [
    "### Function \n",
    "Bài 1. Viết một hàm số python có tham số đầu vào là 1 danh sách và các giá trị muốn xóa\n",
    "khỏi danh sách đó. Kết quả đầu ra là 1 danh sách đã được xóa đi các giá trị nhập vào. Ví\n",
    "dụ: Truyền vào _inlist = [5,8,11,9,11,8,8] và giá trị cần xóa là 8 và 11, thì danh sách đầu\n",
    "ra thu được sẽ là: _outlist = [5,9].\n",
    "\n",
    "Bài 2. Viết một hàm Python để tính toán giai thừa của một số (một số nguyên không âm).\n",
    "Gợi ý: Sử dụng hàm đệ quy n! = (n-1)!*n.\n",
    "\n",
    "Bài 3. Viết một hàm Python chấp nhận một chuỗi và tính toán số chữ hoa và chữ thường.\n",
    "Vd: Chuỗi mẫu: ‘The Brow Fox’  Kết quả mong đợi: Số ký tự chữ hoa: 3; Số ký tự chữ\n",
    "thường: 7.\n"
   ]
  },
  {
   "cell_type": "code",
   "execution_count": 55,
   "metadata": {},
   "outputs": [],
   "source": [
    "_inlist = [5,8,11,9,11,8,8, 12, 8, 9, 8, 5, 8, 11, 11, 5, 5, 6, 6, 7, 12] \n",
    "elem_erase = [8,11,5,12]"
   ]
  },
  {
   "cell_type": "code",
   "execution_count": 58,
   "metadata": {},
   "outputs": [
    {
     "name": "stdout",
     "output_type": "stream",
     "text": [
      "[9, 9, 6, 6, 7]\n"
     ]
    }
   ],
   "source": [
    "def remove_elem(_inlist, elem):\n",
    "    while _inlist.count(elem) != 0: \n",
    "        _inlist.remove(elem)\n",
    "    _inlist\n",
    "    return _inlist\n",
    "\n",
    "\n",
    "if __name__ == \"__main__\":\n",
    "    _inlist = [5,8,11,9,11,8,8, 12, 8, 9, 8, 5, 8, 11, 11, 5, 5, 6, 6, 7, 12] \n",
    "    elem_erase = [8,11,5,12]\n",
    "    \n",
    "    for elem in elem_erase: \n",
    "        _inlist = remove_elem(_inlist, elem)\n",
    "    print(_inlist)\n",
    "    "
   ]
  },
  {
   "cell_type": "code",
   "execution_count": 59,
   "metadata": {},
   "outputs": [
    {
     "data": {
      "text/plain": [
       "[9, 9, 6, 6, 7]"
      ]
     },
     "execution_count": 59,
     "metadata": {},
     "output_type": "execute_result"
    }
   ],
   "source": [
    "def remove_list(_inlist = [5,8,11,9,11,8,8], elem_erase = [8,11])->list: \n",
    "    tmp = []\n",
    "    for i in _inlist: \n",
    "        check = True \n",
    "        for j in elem_erase: \n",
    "            if i == j: \n",
    "                check = False  \n",
    "        if check: \n",
    "            tmp.append(i) \n",
    "    return tmp \n",
    "\n",
    "remove_list([5,8,11,9,11,8,8, 12, 8, 9, 8, 5, 8, 11, 11, 5, 5, 6, 6, 7, 12],\n",
    "            \n",
    "            [8,11,5,12] )"
   ]
  },
  {
   "cell_type": "code",
   "execution_count": 63,
   "metadata": {},
   "outputs": [
    {
     "data": {
      "text/plain": [
       "120"
      ]
     },
     "execution_count": 63,
     "metadata": {},
     "output_type": "execute_result"
    }
   ],
   "source": [
    "#4! = 4*3*2*1 = 24 \n",
    "def gt(n): \n",
    "    answer = 1 \n",
    "    for i in range(1,n+1,1): \n",
    "        answer *= i \n",
    "    return answer \n",
    "gt(5)"
   ]
  },
  {
   "cell_type": "code",
   "execution_count": null,
   "metadata": {},
   "outputs": [],
   "source": [
    "n! = n*(n-1)!\n",
    "(n-1)! = (n-1)*(n-2)!\n",
    "4! = 4*3*2*1"
   ]
  },
  {
   "cell_type": "code",
   "execution_count": 64,
   "metadata": {},
   "outputs": [
    {
     "data": {
      "text/plain": [
       "120"
      ]
     },
     "execution_count": 64,
     "metadata": {},
     "output_type": "execute_result"
    }
   ],
   "source": [
    "def Factorial(n): \n",
    "    if n == 1: \n",
    "        return 1 \n",
    "    else:\n",
    "        return n*Factorial(n-1) \n",
    "\n",
    "Factorial(5)"
   ]
  },
  {
   "cell_type": "code",
   "execution_count": 70,
   "metadata": {},
   "outputs": [
    {
     "data": {
      "text/plain": [
       "(3, 7)"
      ]
     },
     "execution_count": 70,
     "metadata": {},
     "output_type": "execute_result"
    }
   ],
   "source": [
    "def count_digit(s = \"The Brow Fox\"): \n",
    "    cnt_upper = 0\n",
    "    cnt_lower = 0\n",
    "    for i in s: \n",
    "        if i >'A' and i <'Z': \n",
    "            cnt_upper += 1 \n",
    "        elif i>'a' and i < 'z':\n",
    "            cnt_lower += 1 \n",
    "    return cnt_upper, cnt_lower \n",
    "count_digit()"
   ]
  },
  {
   "cell_type": "markdown",
   "metadata": {},
   "source": [
    "### List \n",
    "Bài 4: Viết chương trình python tính tổng của các phần tử trong một list sau: _list= [1,\n",
    "2, 3, 4, 5, 6, 7, 8, 9].\n",
    "\n",
    "Bài 5: Nhập vào từ bàn phím số n và list cho trước, tìm các từ có độ dài lớn hơn n từ\n",
    "list đó.\n",
    "\n",
    "Bài 6: Viết chương trình tạo một list mới bằng cách loại bỏ các phần tử có giá trị giống\n",
    "nhau trong list đầu vào. Ví dụ: nhập list đầu vào là _list= ['abc', 'xyz', 'abc', '12', ‘ii’, ‘12’,\n",
    "‘5a’]  kết quả list mới là _new= ['xyz', ‘ii’, ‘5a’]"
   ]
  },
  {
   "cell_type": "code",
   "execution_count": 11,
   "metadata": {},
   "outputs": [
    {
     "data": {
      "text/plain": [
       "45"
      ]
     },
     "execution_count": 11,
     "metadata": {},
     "output_type": "execute_result"
    }
   ],
   "source": [
    "sum([1, 2, 3, 4, 5, 6, 7, 8, 9])"
   ]
  },
  {
   "cell_type": "code",
   "execution_count": 12,
   "metadata": {},
   "outputs": [
    {
     "name": "stdout",
     "output_type": "stream",
     "text": [
      "banana\n",
      "apple\n",
      "orange\n"
     ]
    }
   ],
   "source": [
    "a = [\"banana\", \"apple\",\"orange\", \"arc\"]\n",
    "n = 4 \n",
    "\n",
    "for substr in a: \n",
    "    if len(substr) > n: \n",
    "        print(substr)"
   ]
  },
  {
   "cell_type": "code",
   "execution_count": 92,
   "metadata": {},
   "outputs": [
    {
     "name": "stdout",
     "output_type": "stream",
     "text": [
      "['xyz', 'ii', '5a']\n"
     ]
    }
   ],
   "source": [
    "#cach1 \n",
    "def oke(inlist, elem):\n",
    "    return inlist.count(elem) == 1 \n",
    "        \n",
    "def remove(_list, elem): # n*n\n",
    "    while _list.count(elem)!=0:\n",
    "        _list.remove(elem) \n",
    "    return _list\n",
    "    \n",
    "\n",
    "if __name__ == \"__main__\":\n",
    "    \n",
    "    inlist= [1,1,2,2,3,3,4,4,5,5] => n = 10 \n",
    "    \n",
    "    # th tất cả phần tử trong mảng khác nhau -> n^2 \n",
    "    # th tất cả phần tử trong mảng là 1.  n + n^2 \n",
    "    # th mỗi phần tử lặp lại 2 lần: n/2 * (n + 2*n) 3/2n^2 = n^2 \n",
    "    # => n^2\n",
    "    tmp = inlist\n",
    "    \n",
    "    for elem in inlist: # -> N   \n",
    "        if oke(tmp, elem) is False: # -> N \n",
    "            tmp = remove(tmp, elem) # -> N*N\n",
    "            \n",
    "    # n*(n*n*n) = n^4    n = 100 => (n^2)^4 = 8s\n",
    "    \n",
    "    for i in range(n)\n",
    "        for j in range(n) \n",
    "    \n",
    "    \n",
    "    print(tmp)\n",
    "    # N*(N*N)  = N^3 (N = 10^5)^3 = 10^15 "
   ]
  },
  {
   "cell_type": "code",
   "execution_count": 15,
   "metadata": {},
   "outputs": [
    {
     "data": {
      "text/plain": [
       "['xyz', 'ii', '5a']"
      ]
     },
     "execution_count": 15,
     "metadata": {},
     "output_type": "execute_result"
    }
   ],
   "source": [
    "_list= ['abc', 'xyz', 'abc', '12', 'ii', '12', '5a'] \n",
    "_tmp = []\n",
    "for i in _list: \n",
    "    if _list.count(i) == 1: \n",
    "        _tmp.append(i)\n",
    "_tmp\n",
    "\n"
   ]
  },
  {
   "cell_type": "code",
   "execution_count": 113,
   "metadata": {},
   "outputs": [
    {
     "data": {
      "text/plain": [
       "['xyz', 'ii', '5a']"
      ]
     },
     "execution_count": 113,
     "metadata": {},
     "output_type": "execute_result"
    }
   ],
   "source": [
    "#cach 2\n",
    "#n_dict = {'abc':2, 'xyz':1, '12':2, 'ii':1, '5a':1}\n",
    "_list= ['abc', 'xyz', 'abc', '12', 'ii', '12', '5a'] \n",
    "# len(_list) = 7 -> n\n",
    "n_dict = {}\n",
    "answer = []\n",
    "for elem in _list: \n",
    "    n_dict[elem] = 0\n",
    "\n",
    "for elem in _list: \n",
    "    n_dict[elem] += 1\n",
    "\n",
    "for elem in n_dict: \n",
    "    if n_dict[elem] == 1: \n",
    "        answer.append(elem)\n",
    "\n",
    "answer\n",
    "\n",
    "dpt(O) = 3*n # N = 2*n  || n^4\n",
    "# n*(n*n*n) = n^4    n = 100 => (n^2)^4 = 8s"
   ]
  },
  {
   "cell_type": "markdown",
   "metadata": {},
   "source": [
    "                                 Problem. Numbers on Whiteboard\n",
    "                                    ```\n",
    "                                    time limit per test\n",
    "                                    2 seconds\n",
    "                                    memory limit per test\n",
    "                                    256 megabytes\n",
    "                                    input\n",
    "                                    standard input\n",
    "                                    output\n",
    "                                    standard output\n",
    "                                    ```\n",
    "\n",
    "Cho một dãy số nguyên từ 1 ….. n. Trong một lần thực hiện bạn được phép xóa 2 số a và b bất kỳ và thay thế bằng một số nguyên (a + b)/2 được làm tròn lên. \n",
    "\n",
    "Bạn được thực hiện n−1 tính toán như vậy sao cho thu được số nhỏ nhất có thể còn lại. \n",
    "\n",
    "+ Cho ví dụ:  Nếu n=4, Ta sẽ có những hoạt động tối ưu như sau:\n",
    "+ Chọn a=4 và b=2, Số mới thu được là  3, Dãy mới thu được sẽ là [1,3,3] ;\n",
    "+ Chọn a=3 và b=3, Số mới thu được là  3, Dãy mới thu được sẽ là [1,3] ;\n",
    "+ Chọn a=1 và b=3, Số mới thu được là  2, Dãy mới thu được sẽ là [2] ;\n",
    "\n",
    "+ Rất dễ dàng nhận thấy sau  n−1 lần thực hiện, số còn lại là số duy nhất. Mục tiêu của bạn là tối thiểu nó. \n",
    "\n",
    "#### Input\n",
    "    Dòng đầu tiên chưa một số nguyên  t (1≤t≤1000) — Số lượng trường hợp xảy ra.\n",
    "    Trên mỗi dòng chứa một trường hợp chứa 1 số nguyên n (2≤n≤2⋅10^5) — n là số nguyên dương đại diện cho dãy số 1… n.\n",
    "    Đảm bảo rằng tổng 2 số lớn nhất của n không vượt quá 2*10^5\n",
    "#### Output\n",
    "    Trong mỗi trường hợp, Dòng đầu tiên in số nguyên nhỏ nhất còn lại sau cùng sau  n−1 lần thực hiện. Mỗi dòng tiếp theo n−1 dòng. Hiển thị 2 số nguyên  a và b được chọn để xóa trong mỗi lần thực hiện. \n",
    "\n",
    "##### Example\n",
    "##### input\n",
    "        1\n",
    "        4\n",
    "##### output\n",
    "\n",
    "        2\n",
    "        2 4\n",
    "        3 3\n",
    "        3 1\n"
   ]
  },
  {
   "cell_type": "code",
   "execution_count": null,
   "metadata": {},
   "outputs": [],
   "source": [
    "n = 4 \n",
    "1 ,2 ,3 ,4 \n",
    "1 ,2 , 4 \n",
    "1 , 3\n",
    "2 \n",
    "\n",
    "n = 8 \n",
    "1 ,2 ,3 ,4 ,5 ,6 ,7 ,8 \n",
    "1 ,2 ,3 , 4 ,5 ,6, 8\n",
    "1 , 2, 3, 4 ,5 , 7\n",
    "1 ,2 ,3 ,4 , 6\n",
    "1 ,2 ,3 ,5 \n",
    "1 ,2 ,4 \n",
    "1, 3. \n",
    "2. \n",
    "\n",
    "n = 2 \n",
    "1 , 2\n",
    "2 \n",
    "\n",
    "n = 3\n",
    "1 ,2 ,3 \n",
    "1 ,3 \n",
    "2 \n",
    "\n",
    "(n + (n-1))/2 = n \n",
    "(n + (n-2))/2 = n-1\n",
    "((n-1) + (n-3))/2 = n-2 \n",
    "((n-2) + (n-4))/2 = n-3 \n",
    "\n",
    "3 4 \n",
    "2 4 \n",
    "1 3 \n",
    "1 2 3 4 "
   ]
  },
  {
   "cell_type": "code",
   "execution_count": 28,
   "metadata": {},
   "outputs": [
    {
     "name": "stdout",
     "output_type": "stream",
     "text": [
      "1\n",
      "4\n",
      "2\n",
      "3 4\n",
      "2 4\n",
      "1 3\n"
     ]
    }
   ],
   "source": [
    "test_case = int(input()) \n",
    "\n",
    "while test_case != 0 : \n",
    "    n = int(input()) \n",
    "    print(2)\n",
    "    second  = n \n",
    "    first = n-1\n",
    "    for i in range(n,1,-1): \n",
    "        print(first, second)\n",
    "        second = (second + first + 1)//2 \n",
    "        first -= 1\n",
    "    test_case -= 1 \n",
    "        "
   ]
  },
  {
   "cell_type": "markdown",
   "metadata": {},
   "source": [
    "                                Problem. Three Indices\n",
    "                                time limit per test\n",
    "                                2 seconds\n",
    "                                memory limit per test\n",
    "                                256 megabytes\n",
    "                                input\n",
    "                                standard input\n",
    "                                output\n",
    "                                standard output\n",
    "\n",
    "+ Bạn được đưa cho p1,p2,…,pn hoán vị. Lưu ý, dãy n được gọi là hoán vị khi mỗi phần tử xuất hiện duy nhất 1 lần. \n",
    "+ Tìm ba vị trí i, j và k như sau:\n",
    "    \n",
    "    • 1≤i<j<k≤n;\n",
    "    \n",
    "    • pi<pj và pj>pk.\n",
    "    \n",
    "    • Hoặc ba vị trí đó không tồn tại.\n",
    "##### Input\n",
    "    Dòng đầu tiên chưa 1 số nguyên T (1≤T≤200) — số lượng test cases.\n",
    "    Hai dòng tiếp theo chứa test cases . Trong đó dòng đầu tiên chưa số lượng dãy số nguyên  n (3≤n≤1000) — Độ dài của dãy hoán vị p.\n",
    "    Dòng thứ hai chứa n số nguyên p1,p2,…,pn (1≤pi≤n; pi≠pj if i≠j) — hoán vị pi.\n",
    "##### Output\n",
    "    Mỗi một test cases:\n",
    "        • Nếu tồn tại các vị trí i, j và k, hiện thị YES (viết hoa) và các chỉ số tương ứng.;\n",
    "        • Nếu không tồn tại thì hiện thị NO (viết hoa).\n",
    "    Nếu có nhiều đáp án, in ra 1 trong số đó.\n",
    "\n",
    "#### Example\n",
    "##### Input\n",
    "    3\n",
    "    4\n",
    "    2 1 4 3\n",
    "    6\n",
    "    4 6 1 2 5 3\n",
    "    5\n",
    "    5 3 1 2 4\n",
    "##### Output\n",
    "    YES\n",
    "    2 3 4\n",
    "    YES\n",
    "    3 5 6\n",
    "    NO\n"
   ]
  },
  {
   "cell_type": "code",
   "execution_count": 43,
   "metadata": {},
   "outputs": [],
   "source": [
    "def calc(p = []):  \n",
    "    n = len(p)\n",
    "    for i in range(0,n-2): \n",
    "        for j in range(i+1,n-1): \n",
    "            for k in range(j+1,n): \n",
    "                if p[i] < p[j] and p[j] > p[k]: \n",
    "                    return True, i , j, k\n",
    "    return False, -1, -1, -1 "
   ]
  },
  {
   "cell_type": "code",
   "execution_count": 45,
   "metadata": {},
   "outputs": [
    {
     "name": "stdout",
     "output_type": "stream",
     "text": [
      "3\n",
      "4\n",
      "2 1 4 3\n",
      "YES\n",
      "1 3 4\n",
      "6\n",
      "4 6 1 2 5 3\n",
      "YES\n",
      "1 2 3\n",
      "5\n",
      "5 3 1 2 4\n",
      "NO\n"
     ]
    }
   ],
   "source": [
    "test_case = int(input())\n",
    "while test_case != 0: \n",
    "    n = int(input()) \n",
    "    tmp = list(input().split(' '))\n",
    "    _inlist = []\n",
    "    for i in tmp:\n",
    "        _inlist.append(int(i))  \n",
    "    valid, i, j, k = calc(_inlist)\n",
    "    if valid: \n",
    "        print(\"YES\")\n",
    "        print(i+1,j+1,k+1)\n",
    "    else:\n",
    "        print('NO')\n",
    "    test_case -= 1"
   ]
  },
  {
   "cell_type": "code",
   "execution_count": null,
   "metadata": {},
   "outputs": [],
   "source": [
    "3\n",
    "4\n",
    "2 1 4 3\n",
    "6\n",
    "4 6 1 2 5 3\n",
    "5\n",
    "5 3 1 2 4"
   ]
  },
  {
   "cell_type": "markdown",
   "metadata": {},
   "source": [
    "                                 Problem. ADD STRINGS \n",
    "\n",
    "    Cho 2 số không âm, num1 and num2 đại diện dưới 2 chuỗi string, Trả về tổng của   num1 và num2 ở dạng string.\n",
    "    Bài này yêu cầu không sử dụng thư viện sẵn có, hay các hàm có liên quan để  \n",
    "    convert str → int. \n",
    "#### Example 1:\n",
    "##### Input: \n",
    "     num1 = \"11\", num2 = \"123\"\n",
    "##### Output: \n",
    "    \"134\"\n",
    "#### Example 2:\n",
    "##### Input: \n",
    "    num1 = \"456\", num2 = \"77\"\n",
    "##### Output: \n",
    "    \"533\"\n",
    "##### Example 3:\n",
    "##### Input: \n",
    "    num1 = \"0\", num2 = \"0\"\n",
    "##### Output: \n",
    "    \"0\"\n",
    "##### Constraints:\n",
    "    • 1 <= num1.length, num2.length <= 104\n",
    "    • num1 và num2 chỉ toàn các ký tự số.\n",
    "    • num1 và num2 Không có bất kỳ số 0 nào ở đầu ngoại trừ chỉ có 0.\n"
   ]
  },
  {
   "cell_type": "code",
   "execution_count": 175,
   "metadata": {},
   "outputs": [
    {
     "data": {
      "text/plain": [
       "'00000'"
      ]
     },
     "execution_count": 175,
     "metadata": {},
     "output_type": "execute_result"
    }
   ],
   "source": [
    "s='0'* (max(len(a),len(b)) - min(len(a),len(b))) + b \n",
    "s\n",
    "a = '55555'\n",
    "b = '1'"
   ]
  },
  {
   "cell_type": "code",
   "execution_count": 2,
   "metadata": {},
   "outputs": [
    {
     "name": "stdout",
     "output_type": "stream",
     "text": [
      "10\n"
     ]
    }
   ],
   "source": [
    "def cmp_string(a, b): \n",
    "    '''\n",
    "     hàm cộng số 0 vào đầu chuỗi string ngắn hơn cho 2 chuỗi có độ dài bằng nhau\n",
    "    '''\n",
    "    n = max(len(a),len(b)) \n",
    "    if len(a) != n: \n",
    "        for i in range(1,n - len(a)+1): \n",
    "            a = '0'+ a\n",
    "    else: \n",
    "        for i in range(1,n - len(b)+1): \n",
    "            b = '0'+ b\n",
    "    return a,b\n",
    "\n",
    "def erase_0(wrong): \n",
    "    '''\n",
    "    xóa đi số 0 đứng ở trước. \n",
    "    '''\n",
    "    str_ = wrong[::-1]\n",
    "    index = 0\n",
    "    for i, j in enumerate(str_): \n",
    "        if j !='0':\n",
    "            index = i \n",
    "            break \n",
    "    return str_[index:]\n",
    "\n",
    "def add(a, b): \n",
    "    '''\n",
    "    thực hiện phép công 2 số . \n",
    "    '''\n",
    "    ans = \"\"\n",
    "    rem = 0\n",
    "    n = len(a)\n",
    "    for index in range(0,n): \n",
    "        var = (int(a[n - index - 1]) + int(b[n - index - 1]) + rem)%10 \n",
    "        ans += str(var)\n",
    "        rem = (int(a[n - index - 1]) + int(b[n - index - 1]) + rem)//10 \n",
    "        #print(ans, rem)\n",
    "    if rem != 0: \n",
    "        ans += str(rem)    \n",
    "\n",
    "    return erase_0(ans)\n",
    "\n",
    "\n",
    "if __name__ == \"__main__\":\n",
    "    \n",
    "    a = '9' \n",
    "    b = '1' \n",
    "    a,b = cmp_string(a,b) \n",
    "    c = add(a,b)\n",
    "    print(c)\n",
    "    "
   ]
  },
  {
   "cell_type": "code",
   "execution_count": null,
   "metadata": {},
   "outputs": [],
   "source": []
  }
 ],
 "metadata": {
  "kernelspec": {
   "display_name": "Python 3",
   "language": "python",
   "name": "python3"
  },
  "language_info": {
   "codemirror_mode": {
    "name": "ipython",
    "version": 3
   },
   "file_extension": ".py",
   "mimetype": "text/x-python",
   "name": "python",
   "nbconvert_exporter": "python",
   "pygments_lexer": "ipython3",
   "version": "3.8.3"
  }
 },
 "nbformat": 4,
 "nbformat_minor": 4
}
