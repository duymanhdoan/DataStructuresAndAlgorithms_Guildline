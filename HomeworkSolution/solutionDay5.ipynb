{
 "cells": [
  {
   "cell_type": "code",
   "execution_count": 17,
   "metadata": {},
   "outputs": [],
   "source": [
    "def priority(op): \n",
    "    if op == '+':\n",
    "        return 0\n",
    "    elif op == '-': \n",
    "        return 1\n",
    "    else:\n",
    "        return 2\n",
    "    \n",
    "def process_op(val, op): \n",
    "    r = val.pop()\n",
    "    l = val.pop() \n",
    "    if op == '+':\n",
    "        val.append(l+r)\n",
    "    elif op == '-':\n",
    "        val.append(l-r)\n",
    "    elif op == '*': \n",
    "        val.append(l*r)\n",
    "    elif op == '/': \n",
    "        val.append(l/r)\n",
    "        \n",
    "    return val \n",
    "\n",
    "def isdigit (c): \n",
    "    f = False \n",
    "    valid = \"0123456789\"\n",
    "    return valid.find(c)!= -1 \n",
    "\n",
    "def evaluate(number): \n",
    "    val = []\n",
    "    op  = []\n",
    "    # buoc 1\n",
    "    for elem in number: \n",
    "        if elem.isnumeric() is True: \n",
    "            val.append(int(elem))\n",
    "        else: \n",
    "            while len(op)!=0 and priority(op[-1]) >= priority(elem): \n",
    "                val = process_op(val, op[-1]) \n",
    "                op.pop()\n",
    "            op.append(elem) \n",
    "    # buoc 2\n",
    "\n",
    "    while len(op)!= 0: \n",
    "        val = process_op(val,op[-1]) \n",
    "        op.pop()\n",
    "\n",
    "    return val[-1]\n"
   ]
  },
  {
   "cell_type": "code",
   "execution_count": 18,
   "metadata": {},
   "outputs": [
    {
     "data": {
      "text/plain": [
       "1038.5"
      ]
     },
     "execution_count": 18,
     "metadata": {},
     "output_type": "execute_result"
    }
   ],
   "source": [
    "evaluate(['20','*','2','-','10', '*','30', '/','200','+','1000'])"
   ]
  },
  {
   "cell_type": "code",
   "execution_count": 12,
   "metadata": {},
   "outputs": [
    {
     "data": {
      "text/plain": [
       "['', '20', '2', '10', '30', '200', '1000']"
      ]
     },
     "execution_count": 12,
     "metadata": {},
     "output_type": "execute_result"
    }
   ],
   "source": [
    "s_trc = '2*3-4*5'\n",
    "s_sau = \"20*2-10*30/200+1000\" \n",
    "\n",
    "toanhang = "
   ]
  },
  {
   "cell_type": "code",
   "execution_count": 11,
   "metadata": {},
   "outputs": [
    {
     "name": "stdout",
     "output_type": "stream",
     "text": [
      " 20 2 10 30 200 1000 "
     ]
    }
   ],
   "source": [
    "s = \"20*2-10*30/200+1000\"\n",
    "s = \" \" + s + \" \"\n",
    "def isdigit (c): \n",
    "    f = False \n",
    "    valid = \"0123456789\"\n",
    "    return valid.find(c)!= -1 \n",
    "number = [] \n",
    "tmp = \"\"\n",
    "for  index , i  in enumerate(s): \n",
    "    if isdigit(i) is True: \n",
    "        tmp += i\n",
    "    else: \n",
    "        number.append(tmp)\n",
    "        tmp = \"\"\n",
    "   \n",
    "        \n",
    "# print(tmp,end=\"\\n\")\n",
    "for elem in number: \n",
    "    print(elem,end=' ')"
   ]
  }
 ],
 "metadata": {
  "kernelspec": {
   "display_name": "Python 3",
   "language": "python",
   "name": "python3"
  },
  "language_info": {
   "codemirror_mode": {
    "name": "ipython",
    "version": 3
   },
   "file_extension": ".py",
   "mimetype": "text/x-python",
   "name": "python",
   "nbconvert_exporter": "python",
   "pygments_lexer": "ipython3",
   "version": "3.8.3"
  }
 },
 "nbformat": 4,
 "nbformat_minor": 4
}
