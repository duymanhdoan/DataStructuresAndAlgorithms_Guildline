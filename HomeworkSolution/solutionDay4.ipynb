{
 "cells": [
  {
   "cell_type": "markdown",
   "metadata": {},
   "source": [
    "#### Bài 1.  \n",
    "\n",
    "Số nguyên tố là số chỉ chia hết cho 1 và chính nó. Bao gồm chính xác có 2 ước. Bạn nhận được một số  N ( 2 ≤ N ≤ 10^7 ) là số nguyên tố. Tìm bất cứ 2 số nguyên tố nào đó là a và b thỏa mãn điều kiện a + b = n. \n",
    "\n",
    "    - Nếu tồn tại hãy in ra a và b. \n",
    "\t- Nếu không hãy in ra -1. \n",
    "    \n",
    "    \n",
    "####    Examples\n",
    "        input\n",
    "        5\n",
    "        output\n",
    "        2 3\n",
    "        input\n",
    "        11\n",
    "        output\n",
    "        -1\n",
    "\n"
   ]
  },
  {
   "cell_type": "code",
   "execution_count": 16,
   "metadata": {},
   "outputs": [
    {
     "ename": "KeyboardInterrupt",
     "evalue": "",
     "output_type": "error",
     "traceback": [
      "\u001b[0;31m---------------------------------------------------------------------------\u001b[0m",
      "\u001b[0;31mKeyboardInterrupt\u001b[0m                         Traceback (most recent call last)",
      "\u001b[0;32m<ipython-input-16-b602cfdec091>\u001b[0m in \u001b[0;36m<module>\u001b[0;34m\u001b[0m\n\u001b[1;32m     28\u001b[0m \u001b[0;31m#     n = int(input())\u001b[0m\u001b[0;34m\u001b[0m\u001b[0;34m\u001b[0m\u001b[0;34m\u001b[0m\u001b[0m\n\u001b[1;32m     29\u001b[0m \u001b[0;34m\u001b[0m\u001b[0m\n\u001b[0;32m---> 30\u001b[0;31m     \u001b[0marr_primes\u001b[0m \u001b[0;34m=\u001b[0m \u001b[0mprimes_sieve\u001b[0m\u001b[0;34m(\u001b[0m\u001b[0;36m1000000000\u001b[0m\u001b[0;34m+\u001b[0m\u001b[0;36m7\u001b[0m\u001b[0;34m)\u001b[0m\u001b[0;34m\u001b[0m\u001b[0;34m\u001b[0m\u001b[0m\n\u001b[0m\u001b[1;32m     31\u001b[0m     \u001b[0;32mfor\u001b[0m \u001b[0mn\u001b[0m \u001b[0;32min\u001b[0m \u001b[0marr_primes\u001b[0m\u001b[0;34m:\u001b[0m\u001b[0;34m\u001b[0m\u001b[0;34m\u001b[0m\u001b[0m\n\u001b[1;32m     32\u001b[0m         \u001b[0msub_primes\u001b[0m \u001b[0;34m=\u001b[0m \u001b[0;34m[\u001b[0m\u001b[0;34m]\u001b[0m\u001b[0;34m\u001b[0m\u001b[0;34m\u001b[0m\u001b[0m\n",
      "\u001b[0;32m<ipython-input-16-b602cfdec091>\u001b[0m in \u001b[0;36mprimes_sieve\u001b[0;34m(limit)\u001b[0m\n\u001b[1;32m     11\u001b[0m             \u001b[0;32mcontinue\u001b[0m\u001b[0;34m\u001b[0m\u001b[0;34m\u001b[0m\u001b[0m\n\u001b[1;32m     12\u001b[0m         \u001b[0;32mfor\u001b[0m \u001b[0mf\u001b[0m \u001b[0;32min\u001b[0m \u001b[0mrange\u001b[0m\u001b[0;34m(\u001b[0m\u001b[0mi\u001b[0m\u001b[0;34m*\u001b[0m\u001b[0;36m2\u001b[0m\u001b[0;34m,\u001b[0m \u001b[0mlimitn\u001b[0m\u001b[0;34m,\u001b[0m \u001b[0mi\u001b[0m\u001b[0;34m)\u001b[0m\u001b[0;34m:\u001b[0m\u001b[0;34m\u001b[0m\u001b[0;34m\u001b[0m\u001b[0m\n\u001b[0;32m---> 13\u001b[0;31m             \u001b[0mnot_prime\u001b[0m\u001b[0;34m[\u001b[0m\u001b[0mf\u001b[0m\u001b[0;34m]\u001b[0m \u001b[0;34m=\u001b[0m \u001b[0;32mTrue\u001b[0m\u001b[0;34m\u001b[0m\u001b[0;34m\u001b[0m\u001b[0m\n\u001b[0m\u001b[1;32m     14\u001b[0m \u001b[0;34m\u001b[0m\u001b[0m\n\u001b[1;32m     15\u001b[0m         \u001b[0mprimes\u001b[0m\u001b[0;34m.\u001b[0m\u001b[0mappend\u001b[0m\u001b[0;34m(\u001b[0m\u001b[0mi\u001b[0m\u001b[0;34m)\u001b[0m\u001b[0;34m\u001b[0m\u001b[0;34m\u001b[0m\u001b[0m\n",
      "\u001b[0;31mKeyboardInterrupt\u001b[0m: "
     ]
    }
   ],
   "source": [
    "import math \n",
    "\n",
    "\n",
    "def primes_sieve(limit):\n",
    "    limitn = limit+1\n",
    "    not_prime = [False] * limitn\n",
    "    primes = []\n",
    "\n",
    "    for i in range(2, limitn):\n",
    "        if not_prime[i]:\n",
    "            continue\n",
    "        for f in range(i*2, limitn, i):\n",
    "            not_prime[f] = True\n",
    "\n",
    "        primes.append(i)\n",
    "\n",
    "    return primes\n",
    "\n",
    "\n",
    "def Prime(n)-> bool:\n",
    "    status = True \n",
    "    for i in range(2,n): \n",
    "        if n % i == 0: \n",
    "            status = False \n",
    "    return status \n",
    "\n",
    "if __name__ == \"__main__\": \n",
    "#     n = int(input())\n",
    "    \n",
    "    arr_primes = primes_sieve(1000000000+7)\n",
    "    for n in arr_primes: \n",
    "        sub_primes = []\n",
    "        for i in range(2, n): \n",
    "            if Prime(i) is True: \n",
    "                sub_primes.append(i)\n",
    "\n",
    "        status = False\n",
    "        for elem in sub_primes:  \n",
    "            if (n-elem) in sub_primes: \n",
    "                print(elem, n - elem, n)\n",
    "                status = True\n",
    "                break \n",
    "        if status is False: \n",
    "            print(-1)\n",
    "        \n"
   ]
  },
  {
   "cell_type": "code",
   "execution_count": 2,
   "metadata": {},
   "outputs": [
    {
     "name": "stdout",
     "output_type": "stream",
     "text": [
      "496\n",
      "YES\n"
     ]
    }
   ],
   "source": [
    "def isvalidPerfectNumber(num): \n",
    "    Sum = 1 \n",
    "    for i in range(2,num): \n",
    "        if num%i == 0: \n",
    "            Sum += i\n",
    "    return Sum == num \n",
    "\n",
    "if __name__ == \"__main__\":\n",
    "    num = int(input())\n",
    "    print(\"YES\" if isvalidPerfectNumber(num) else \"NO\")\n",
    "    "
   ]
  },
  {
   "cell_type": "code",
   "execution_count": 3,
   "metadata": {},
   "outputs": [
    {
     "name": "stdout",
     "output_type": "stream",
     "text": [
      "5\n",
      "5 3\n",
      "1 1\n",
      "9 1\n",
      "4 1\n",
      "7 1\n"
     ]
    }
   ],
   "source": [
    "arr = [5, 5, 1, 9, 4, 5, 7]\n",
    "Dict = {}\n",
    "\n",
    "for elem in arr: \n",
    "    if elem not in Dict: \n",
    "        Dict[elem] = 1 \n",
    "    else: \n",
    "        Dict[elem] += 1 \n",
    "    \n",
    "print(len(Dict))\n",
    "for key in Dict: \n",
    "    print(key,Dict[key])\n",
    "\n"
   ]
  },
  {
   "cell_type": "code",
   "execution_count": 11,
   "metadata": {},
   "outputs": [
    {
     "name": "stdout",
     "output_type": "stream",
     "text": [
      "NO\n"
     ]
    }
   ],
   "source": [
    "\n",
    "def evaluateString(s): \n",
    "    mapping = {')':'(',']':'[','}':'{'}\n",
    "    stack = []\n",
    "    for letter in s: \n",
    "        if letter not in mapping: \n",
    "            stack.append(letter) \n",
    "        else: \n",
    "            if len(stack)!=0 and mapping[letter] == stack[-1]: \n",
    "                stack.pop()\n",
    "            else: \n",
    "                return False \n",
    "                \n",
    "    return len(stack)==0 \n",
    "\n",
    "\n",
    "print(\"YES\" if evaluateString(\"\") else \"NO\")\n",
    "\n",
    "\n"
   ]
  },
  {
   "cell_type": "code",
   "execution_count": null,
   "metadata": {},
   "outputs": [],
   "source": []
  }
 ],
 "metadata": {
  "kernelspec": {
   "display_name": "Python 3",
   "language": "python",
   "name": "python3"
  },
  "language_info": {
   "codemirror_mode": {
    "name": "ipython",
    "version": 3
   },
   "file_extension": ".py",
   "mimetype": "text/x-python",
   "name": "python",
   "nbconvert_exporter": "python",
   "pygments_lexer": "ipython3",
   "version": "3.8.3"
  }
 },
 "nbformat": 4,
 "nbformat_minor": 4
}
