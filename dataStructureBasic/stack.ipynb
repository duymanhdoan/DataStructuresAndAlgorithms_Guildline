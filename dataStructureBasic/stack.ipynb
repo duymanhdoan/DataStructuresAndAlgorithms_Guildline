{
 "cells": [
  {
   "cell_type": "markdown",
   "metadata": {},
   "source": [
    "## I. Stack\n",
    "----\n",
    "\n",
    "Xem thêm về [Stack](https://www.tutorialspoint.com/python/python_stack.htm)"
   ]
  },
  {
   "cell_type": "markdown",
   "metadata": {},
   "source": [
    "![Stack](https://lh3.googleusercontent.com/dqVcwfZWkFojn424DQq9wAYfEgvx9I7iaF1b2KR9esqwSAVTvAOD6oLLVEZ_kKdK0KX4KjuIK13BUUDWFIhd-0A5Y8Y3XmbRM-yrt3T_96vOaLhfmortauZYU7KutzwYrG9SIMSkKx70jSOzTJP4scmn5FdasUqd8iEPikCadxwct3Bh61bF_PdCFu_2ARw9HzUl54WqH45vHFtDDO87UZI4L7w4Dy9I12plH1-AAdPJTgX_oSNEcMLqMCUtVDW_R0AW0wq8-urS0wuncvUhmjAuFwElAbBHZqwUEgvVP84b7mAm1hNXzbQEjViHRPQbZdNOMrqeLzWX7zVFSJdayi5SS6y_Djksm_UB83LIjZDpOoKqR52C_h_cVxeHJiWHMY-yz2R6bg8O5Z-2nOmVvjLveeqiVmCS2FXZ9HzIajcgRrj3BCf2hwgP7Zq2REaNyc8K7w2c4asn6beIksrXT7sNClvYWSPP1trEsIB4lo9SxEtiGCle2Gec6nEcfJuanpjf7z781tI7h7jxUZ0Uco6hwGGAGFUNiypKoyHpwwLeDioexBiscdo6qDBS6X6qZY43ktQhRMoprZdq_8-DpIGmigpClt03cjktRZ8CmoZGCWMWxHINtOmoXJxe6OppuIpGl0XmkhRZNSvpKaUVxIiMhRcjASujSw=w430-h515-no)"
   ]
  },
  {
   "cell_type": "markdown",
   "metadata": {},
   "source": [
    "Stack trong Tiếng Việt có thể dịch ra là ngăn xếp, bạn có thể liên tưởng đến chồng đĩa CD trong nhà mình. Ngăn xếp có đặc điểm điển hình mang tên **LIFO(Last In First Out)** - chiếc CD đặt cuối cùng nằm trên cùng thì có thể lấy ra đầu tiên và ngược lại - chiếc CD được đặt vào đầu tiên nằm dưới đáy chỉ có thể lấy ra cuối cùng."
   ]
  },
  {
   "cell_type": "markdown",
   "metadata": {},
   "source": [
    "Ngăn xếp là một kiểu danh sách được trang bị hai phép toán bổ sung một phần tử vào cuối danh sách và loại bỏ một phần tử ở cuối danh sách. "
   ]
  },
  {
   "cell_type": "markdown",
   "metadata": {},
   "source": [
    "### 1. Khởi tạo một Stack"
   ]
  },
  {
   "cell_type": "markdown",
   "metadata": {},
   "source": [
    "![stack](https://www.tutorialspoint.com/data_structures_algorithms/images/stack_representation.jpg)"
   ]
  },
  {
   "cell_type": "markdown",
   "metadata": {},
   "source": [
    "**PUSH** là hành động thêm một phần tử lên trên cùng ngăn xếp"
   ]
  },
  {
   "cell_type": "markdown",
   "metadata": {},
   "source": [
    "**POP** là lấy đi một phần tử trên cùng của ngăn xếp"
   ]
  },
  {
   "cell_type": "code",
   "execution_count": 52,
   "metadata": {},
   "outputs": [],
   "source": [
    "class Stack:\n",
    "    def __init__(self):\n",
    "        self.stack = []\n",
    "    # Thêm(Push) một phần tử lên trên cùng ngăn xếp\n",
    "    def push(self, elem):\n",
    "        self.stack.append(elem)\n",
    "    # Pop(Xóa) đi phần tử trên cùng ngăn xếp\n",
    "    def pop(self):\n",
    "        if self.length()!=0:\n",
    "            self.stack.pop()\n",
    "        else: \n",
    "            print('empty')\n",
    "    def length(self): \n",
    "        return len(self.stack)\n",
    "    # duyệtcác phần tử trong Stack\n",
    "    def travel(self):\n",
    "        if len(self.stack) > 0:\n",
    "            for elem in self.stack:\n",
    "                print(elem, end=' ')\n",
    "        else: \n",
    "            print('empty')\n",
    "    def isEmpty(self): \n",
    "        return len(self.stack) == 0\n",
    "    "
   ]
  },
  {
   "cell_type": "code",
   "execution_count": 53,
   "metadata": {},
   "outputs": [],
   "source": [
    "st = Stack()"
   ]
  },
  {
   "cell_type": "code",
   "execution_count": 54,
   "metadata": {},
   "outputs": [
    {
     "name": "stdout",
     "output_type": "stream",
     "text": [
      "empty\n"
     ]
    }
   ],
   "source": [
    "st.travel()"
   ]
  },
  {
   "cell_type": "code",
   "execution_count": 55,
   "metadata": {},
   "outputs": [],
   "source": [
    "# Thêm phần tử 3 lên trên cùng của ngăn xếp\n",
    "st.push(3)\n",
    "st.push(5)\n",
    "st.push(7)"
   ]
  },
  {
   "cell_type": "code",
   "execution_count": 56,
   "metadata": {},
   "outputs": [
    {
     "name": "stdout",
     "output_type": "stream",
     "text": [
      "3 5 7 "
     ]
    }
   ],
   "source": [
    "st.travel()"
   ]
  },
  {
   "cell_type": "code",
   "execution_count": 57,
   "metadata": {},
   "outputs": [],
   "source": [
    "# Xóa đi phần tử trên cùng của ngăn xếp\n",
    "st.pop()"
   ]
  },
  {
   "cell_type": "code",
   "execution_count": 58,
   "metadata": {},
   "outputs": [
    {
     "name": "stdout",
     "output_type": "stream",
     "text": [
      "3 5 "
     ]
    }
   ],
   "source": [
    "st.travel()"
   ]
  },
  {
   "cell_type": "code",
   "execution_count": 59,
   "metadata": {},
   "outputs": [
    {
     "data": {
      "text/plain": [
       "'NO'"
      ]
     },
     "execution_count": 59,
     "metadata": {},
     "output_type": "execute_result"
    }
   ],
   "source": [
    "\"YES\" if st.isEmpty() else \"NO\""
   ]
  },
  {
   "cell_type": "code",
   "execution_count": 60,
   "metadata": {},
   "outputs": [
    {
     "name": "stdout",
     "output_type": "stream",
     "text": [
      "3 "
     ]
    }
   ],
   "source": [
    "st.pop() \n",
    "st.travel()"
   ]
  },
  {
   "cell_type": "code",
   "execution_count": 61,
   "metadata": {},
   "outputs": [
    {
     "data": {
      "text/plain": [
       "1"
      ]
     },
     "execution_count": 61,
     "metadata": {},
     "output_type": "execute_result"
    }
   ],
   "source": [
    "st.length()"
   ]
  },
  {
   "cell_type": "code",
   "execution_count": 63,
   "metadata": {},
   "outputs": [
    {
     "name": "stdout",
     "output_type": "stream",
     "text": [
      "empty\n"
     ]
    },
    {
     "data": {
      "text/plain": [
       "(0, True)"
      ]
     },
     "execution_count": 63,
     "metadata": {},
     "output_type": "execute_result"
    }
   ],
   "source": [
    "st.pop() \n",
    "st.length() , st.isEmpty()"
   ]
  },
  {
   "cell_type": "markdown",
   "metadata": {},
   "source": [
    "### 3. Ứng dụng "
   ]
  },
  {
   "cell_type": "markdown",
   "metadata": {},
   "source": [
    "- Stack được sử dụng nhiều trong các trình biên dịch để biên dịch các ngôn ngữ lập trình\n",
    "- Stack được sử dụng để kiểm tra tính chính xác của công thức toán học, công thức hoá học, ví dụ đảm bảo việc đóng mở ngoặc tròn là đầy đủ:\n",
    "    - Toán học 4 * ( 5 + 10)\n",
    "    - Hoá học (COO)2H3\n",
    "- Stack được sử dụng trong việc xây dựng các máy tính cá nhân đơn giản, Stack giúp quản lý thứ tự các phép tính, phép nào thực hiện trước, phép nào thực hiện sau.\n",
    "    "
   ]
  },
  {
   "cell_type": "markdown",
   "metadata": {},
   "source": [
    "### 4. Ví dụ"
   ]
  },
  {
   "cell_type": "code",
   "execution_count": null,
   "metadata": {},
   "outputs": [],
   "source": []
  },
  {
   "cell_type": "code",
   "execution_count": null,
   "metadata": {},
   "outputs": [],
   "source": []
  },
  {
   "cell_type": "code",
   "execution_count": null,
   "metadata": {},
   "outputs": [],
   "source": [
    "def ModifyArr(Arr): \n",
    "    \n",
    "    # do something in arr \n",
    "    \n",
    "    return arr\n",
    "\n",
    "Arr_B = [] # arr_B have n of emlem \n",
    "\n",
    "Arr_B = ModifyArr(Arr)  #\n"
   ]
  },
  {
   "cell_type": "code",
   "execution_count": null,
   "metadata": {},
   "outputs": [],
   "source": []
  },
  {
   "cell_type": "code",
   "execution_count": null,
   "metadata": {},
   "outputs": [],
   "source": []
  },
  {
   "cell_type": "code",
   "execution_count": null,
   "metadata": {},
   "outputs": [],
   "source": []
  },
  {
   "cell_type": "code",
   "execution_count": null,
   "metadata": {},
   "outputs": [],
   "source": []
  },
  {
   "cell_type": "code",
   "execution_count": null,
   "metadata": {},
   "outputs": [],
   "source": []
  },
  {
   "cell_type": "markdown",
   "metadata": {},
   "source": [
    "#### Leetcode 20"
   ]
  },
  {
   "cell_type": "markdown",
   "metadata": {},
   "source": [
    "![](images/Stack/1.png)"
   ]
  },
  {
   "cell_type": "markdown",
   "metadata": {},
   "source": [
    "Bài toán kiểm tra chuỗi bao gồm 3 dấu \"[]\", \"()\" và \"{}\" chính xác: "
   ]
  },
  {
   "cell_type": "markdown",
   "metadata": {},
   "source": [
    "[Link trên LeetCode](https://leetcode.com/problems/valid-parentheses/)"
   ]
  },
  {
   "cell_type": "markdown",
   "metadata": {},
   "source": [
    "Cho một chuỗi s được cấu thành bởi \"(\", \")\", \"[\", \"]\", \"{\", \"}\""
   ]
  },
  {
   "cell_type": "markdown",
   "metadata": {},
   "source": [
    "Xác định chuỗi này là đúng, chuỗi này đúng khi:\n",
    "    - Một ngoặc mở sẽ phải có một ngoặc đóng\n",
    "    - Và ngoặc đóng mở phải theo đúng thứ tự : \n",
    "        - \"(\" đi với \")\" \n",
    "        - \"[\" đi với \"]\"\n",
    "        - \"{\" đi với \"}\""
   ]
  },
  {
   "cell_type": "markdown",
   "metadata": {},
   "source": [
    "Ví dụ:\n",
    "    - Chuỗi đúng: \"()()()\", \"((()))()\", \"({}[]())\"\n",
    "    - Chuỗi sai: \"{](\", \"(\", \"((]]\""
   ]
  },
  {
   "cell_type": "markdown",
   "metadata": {},
   "source": [
    "#### Cách giải "
   ]
  },
  {
   "cell_type": "markdown",
   "metadata": {},
   "source": [
    "- Tạo một stack để lưu trữ\n",
    "- Duyệt qua từng phần tử của chuỗi đó\n",
    "- Nếu phần tử đó là một trong 3 ký tự mở ngoặc như \"(\", \"[\", \"{\" thì ta thêm vào stack\n",
    "- Nếu phần tử đó là một trong 3 ký tự đóng ngoặc như \")\", \"]\", \"}\" thì ta phải kiểm tra phần tử cuối cùng trong stack phải là ký tự mở ngoặc tương ứng:\n",
    "    - Nếu điều kiện này thoả mãn, pop phần tử cuối này ra khỏi stack\n",
    "    - Nếu điều kiện này không thoả mãn, return False\n",
    "    - Chú ý khi pop phần tử ra thì phải kiểm tra stack luôn có phần tử, nếu stack mà không có phần tử thì return False\n",
    "- Nếu chạy hết vòng lặp thì kiểm tra số lượng phần tử còn lại trong stack:\n",
    "    - Nếu stack vẫn còn phần tử tức là chuỗi chứa ngoặc mở mà chưa được đóng, return False\n",
    "    - Nếu stack rỗng thì trả về True vì số lượng ngoặc mở và đóng là tương đồng."
   ]
  },
  {
   "cell_type": "markdown",
   "metadata": {},
   "source": [
    "#### Code: (Code này chạy nhanh 97.83 % so với các bài submit bằng Python và tiết kiệm 100% bộ nhớ trên LeetCode)"
   ]
  },
  {
   "cell_type": "code",
   "execution_count": 3,
   "metadata": {},
   "outputs": [],
   "source": [
    "def isValid(s: str) -> bool:\n",
    "        stack = []\n",
    "        mapping = {\")\" : \"(\", \"]\": \"[\", \"}\": \"{\"}\n",
    "        \n",
    "        for letter in s:\n",
    "            if letter not in mapping:\n",
    "                stack.append(letter)\n",
    "            else:\n",
    "                if len(stack) > 0 and stack[-1] == mapping[letter]:\n",
    "                    stack.pop()\n",
    "                else:\n",
    "                    return False\n",
    "                \n",
    "        return len(stack) == 0"
   ]
  },
  {
   "cell_type": "code",
   "execution_count": 4,
   "metadata": {},
   "outputs": [
    {
     "data": {
      "text/plain": [
       "True"
      ]
     },
     "execution_count": 4,
     "metadata": {},
     "output_type": "execute_result"
    }
   ],
   "source": [
    "mapping = {\")\" : \"(\", \"]\": \"[\", \"}\": \"{\"}\n",
    "\"(\" not in mapping"
   ]
  },
  {
   "cell_type": "code",
   "execution_count": 4,
   "metadata": {},
   "outputs": [
    {
     "data": {
      "text/plain": [
       "True"
      ]
     },
     "execution_count": 4,
     "metadata": {},
     "output_type": "execute_result"
    }
   ],
   "source": [
    "isValid(\"()()()\")"
   ]
  },
  {
   "cell_type": "code",
   "execution_count": 5,
   "metadata": {},
   "outputs": [
    {
     "data": {
      "text/plain": [
       "True"
      ]
     },
     "execution_count": 5,
     "metadata": {},
     "output_type": "execute_result"
    }
   ],
   "source": [
    "isValid(\"((()))()\")"
   ]
  },
  {
   "cell_type": "code",
   "execution_count": 6,
   "metadata": {},
   "outputs": [
    {
     "data": {
      "text/plain": [
       "False"
      ]
     },
     "execution_count": 6,
     "metadata": {},
     "output_type": "execute_result"
    }
   ],
   "source": [
    "isValid(\"{](\")"
   ]
  },
  {
   "cell_type": "code",
   "execution_count": null,
   "metadata": {},
   "outputs": [],
   "source": []
  }
 ],
 "metadata": {
  "kernelspec": {
   "display_name": "Python 3",
   "language": "python",
   "name": "python3"
  },
  "language_info": {
   "codemirror_mode": {
    "name": "ipython",
    "version": 3
   },
   "file_extension": ".py",
   "mimetype": "text/x-python",
   "name": "python",
   "nbconvert_exporter": "python",
   "pygments_lexer": "ipython3",
   "version": "3.8.3"
  }
 },
 "nbformat": 4,
 "nbformat_minor": 2
}
