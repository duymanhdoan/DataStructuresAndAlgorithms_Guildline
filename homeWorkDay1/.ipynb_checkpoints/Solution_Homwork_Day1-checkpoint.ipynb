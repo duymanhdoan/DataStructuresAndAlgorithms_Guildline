{
 "cells": [
  {
   "cell_type": "markdown",
   "metadata": {},
   "source": [
    "##     Homework Day 1 - basic python. "
   ]
  },
  {
   "cell_type": "markdown",
   "metadata": {},
   "source": [
    "### Bài 11: Roman to Integer\n",
    "    Symbol       Value\n",
    "    I             1\n",
    "    V             5\n",
    "    X             10\n",
    "    L             50\n",
    "    C             100\n",
    "    D             500\n",
    "    M             1000\n",
    "    \n",
    "- Example 1:\n",
    "    \n",
    "    Input: s = \"III\"\n",
    "    \n",
    "    Output: 3\n",
    "\n",
    "- Example 2:\n",
    "\n",
    "    Input: s = \"IV\"\n",
    "    \n",
    "    Output: 4\n",
    "\n",
    "- Example 3:\n",
    "\n",
    "    Input: s = \"IX\"\n",
    "\n",
    "    Output: 9\n",
    "\n",
    "- Example 4:\n",
    "\n",
    "    Input: s = \"LVIII\"\n",
    "    \n",
    "    Output: 58\n",
    "    \n",
    "    Explanation: L = 50, V= 5, III = 3.\n",
    "\n",
    "- Example 5:\n",
    "\n",
    "    Input: s = \"MCMXCIV\"\n",
    "    \n",
    "    Output: 1994\n",
    "\n",
    "    Explanation: M = 1000, CM = 900, XC = 90 and IV = 4.\n",
    "\n",
    "    Constraints:\n",
    "        • 1 <= s.length <= 15\n",
    "        • s contains only the characters ('I', 'V', 'X', 'L', 'C', 'D', 'M').\n",
    "        • It is guaranteed that s is a valid roman numeral in the range [1, 3999].\n"
   ]
  },
  {
   "cell_type": "code",
   "execution_count": null,
   "metadata": {},
   "outputs": [],
   "source": [
    "s = \"MCMXCIV\"\n",
    "s[1]\n",
    "\n",
    "leng = 7 \n",
    "s = 0 \n"
   ]
  },
  {
   "cell_type": "code",
   "execution_count": null,
   "metadata": {},
   "outputs": [],
   "source": [
    "\n",
    "#TH không chọn. \n",
    "# nếu ký tự đứng trước mang giá trị nhỏ hơn ký tự đứng sau thì lấy ans - value[i-1] \n",
    "\n",
    "#TH chọn\n",
    "# ngược lại ans = ans + value[i]\n",
    "\n",
    "s = \"MCMXCIV\" \n",
    "i = 6 -> 'V' value['V'] = 5\n",
    "\n",
    "ans = 2015 \n",
    "\n"
   ]
  },
  {
   "cell_type": "code",
   "execution_count": 3,
   "metadata": {},
   "outputs": [
    {
     "data": {
      "text/plain": [
       "1000"
      ]
     },
     "execution_count": 3,
     "metadata": {},
     "output_type": "execute_result"
    }
   ],
   "source": [
    "value = {\"I\": 1, \"V\": 5, \"X\": 10, \"L\": 50, \"C\": 100, \"D\": 500, \"M\": 1000}\n",
    "value['M']"
   ]
  },
  {
   "cell_type": "code",
   "execution_count": 4,
   "metadata": {},
   "outputs": [
    {
     "data": {
      "text/plain": [
       "7"
      ]
     },
     "execution_count": 4,
     "metadata": {},
     "output_type": "execute_result"
    }
   ],
   "source": [
    "s = \"MCMXCIV\" \n",
    "len(s)\n",
    "\n",
    "value = {\"I\": 1, \"V\": 5, \"X\": 10, \"L\": 50, \"C\": 100, \"D\": 500, \"M\": 1000}"
   ]
  },
  {
   "cell_type": "code",
   "execution_count": 30,
   "metadata": {},
   "outputs": [],
   "source": [
    "\n",
    "    \n",
    "def romanToInt(s):\n",
    "        \"\"\"\n",
    "        :type s: str \n",
    "        :rtype: int\n",
    "        \n",
    "        s = \"CMXCIV\" \n",
    "        \n",
    "        #TH không chọn. \n",
    "        # nếu ký tự đứng trước mang giá trị nhỏ hơn ký tự đứng sau thì lấy ans - value[i-1] \n",
    "\n",
    "        #TH chọn\n",
    "        # ngược lại ans = ans + value[i]\n",
    "        \"\"\"\n",
    "        answer = 0\n",
    "        value = {\"I\": 1, \"V\": 5, \"X\": 10, \"L\": 50, \"C\": 100, \"D\": 500, \"M\": 1000}\n",
    "            \n",
    "        for i in range(len(s)): \n",
    "                if i == 0: \n",
    "                    answer = answer + value[s[i]]\n",
    "                else:  # CM\n",
    "                    if value[s[i]] > value[s[i-1]]:  \n",
    "                        answer = answer + value[s[i]] - 2*value[s[i-1]] \n",
    "                    else: \n",
    "                        answer = answer + value[s[i]]\n",
    "\n",
    "        return answer"
   ]
  },
  {
   "cell_type": "code",
   "execution_count": 31,
   "metadata": {},
   "outputs": [
    {
     "data": {
      "text/plain": [
       "4"
      ]
     },
     "execution_count": 31,
     "metadata": {},
     "output_type": "execute_result"
    }
   ],
   "source": [
    "romanToInt(\"IV\")"
   ]
  },
  {
   "cell_type": "markdown",
   "metadata": {},
   "source": [
    "###  Bài 13: Shuffle String"
   ]
  },
  {
   "cell_type": "markdown",
   "metadata": {},
   "source": [
    "##### Given a string s and an integer array indices of the same length.The string s will be shuffled such that the character at the ith position moves to indices[i] in the shuffled string.Return the shuffled string.\n",
    " \n",
    "![Example 1](/home/minglee/Documents/Guildline_ML/shuffle_string.png)\n",
    "    \n",
    "Input: s = \"codeleet\", indices = [4,5,6,7,0,2,1,3]\n",
    "\n",
    "Output: \"leetcode\"\n",
    "\n",
    "Explanation: As shown, \"codeleet\" becomes \"leetcode\" after shuffling.\n",
    "    \n",
    "Example 2:\n",
    "    \n",
    "Input: s = \"abc\", indices = [0,1,2]\n",
    "    \n",
    "Output: \"abc\"\n",
    "    \n",
    "Explanation: After shuffling, each character remains in its position.\n",
    "    \n",
    "Example 3:\n",
    "    \n",
    "Input: s = \"aiohn\", indices = [3,1,4,2,0]\n",
    "    \n",
    "Output: \"nihao\"\n",
    "    \n",
    "Example 4:\n",
    "    \n",
    "Input: s = \"aaiougrt\", indices = [4,0,2,6,7,3,1,5]\n",
    "    \n",
    "Output: \"arigatou\"\n",
    "    \n",
    "Example 5:\n",
    "    \n",
    "Input: s = \"art\", indices = [1,0,2]\n",
    "    \n",
    "Output: \"rat\"\n",
    "    \n",
    "##### Constraints:\n",
    "    • s.length == indices.length == n\n",
    "    • 1 <= n <= 100\n",
    "    • s contains only lower-case English letters.\n",
    "    • 0 <= indices[i] < n\n",
    "    • All values of indices are unique (i.e. indices is a permutation of the integers from 0 to n - 1).\n"
   ]
  },
  {
   "cell_type": "code",
   "execution_count": null,
   "metadata": {},
   "outputs": [],
   "source": [
    "Input: s = \"codeleet\", indices = [4,5,6,7,0,2,1,3]\n",
    "    \n",
    "    "
   ]
  },
  {
   "cell_type": "code",
   "execution_count": 41,
   "metadata": {},
   "outputs": [
    {
     "name": "stdout",
     "output_type": "stream",
     "text": [
      "0 4\n",
      "1 5\n",
      "2 6\n",
      "3 7\n",
      "4 0\n",
      "5 2\n",
      "6 1\n",
      "7 3\n"
     ]
    }
   ],
   "source": [
    "indices = [4,5,6,7,0,2,1,3]\n",
    "for index, value in enumerate(indices): \n",
    "    print(index, value)"
   ]
  },
  {
   "cell_type": "code",
   "execution_count": 38,
   "metadata": {},
   "outputs": [],
   "source": [
    "def restoreString(s: str, indices: list) -> str:\n",
    "    ans = \"\"\n",
    "    for i in range(len(s)): \n",
    "        for index, value in enumerate(indices): \n",
    "            if value == i: \n",
    "                ans += s[index]\n",
    "    return ans \n"
   ]
  },
  {
   "cell_type": "code",
   "execution_count": 51,
   "metadata": {},
   "outputs": [
    {
     "data": {
      "text/plain": [
       "[(4, 'a'),\n",
       " (0, 'a'),\n",
       " (2, 'i'),\n",
       " (6, 'o'),\n",
       " (7, 'u'),\n",
       " (3, 'g'),\n",
       " (1, 'r'),\n",
       " (5, 't')]"
      ]
     },
     "execution_count": 51,
     "metadata": {},
     "output_type": "execute_result"
    }
   ],
   "source": [
    "s = \"aaiougrt\"\n",
    "indices = [4,0,2,6,7,3,1,5]\n",
    "a = zip(indices,s)\n",
    "tmp = []\n",
    "for i in a: \n",
    "    tmp.append(i)\n",
    "tmp"
   ]
  },
  {
   "cell_type": "code",
   "execution_count": 50,
   "metadata": {},
   "outputs": [
    {
     "data": {
      "text/plain": [
       "'arigatou'"
      ]
     },
     "execution_count": 50,
     "metadata": {},
     "output_type": "execute_result"
    }
   ],
   "source": [
    "\n",
    "ans = \"\"\n",
    "tmp.sort()\n",
    "for value in tmp: \n",
    "    ans += value[1]\n",
    "    \n",
    "ans "
   ]
  },
  {
   "cell_type": "code",
   "execution_count": 40,
   "metadata": {},
   "outputs": [
    {
     "data": {
      "text/plain": [
       "'arigatou'"
      ]
     },
     "execution_count": 40,
     "metadata": {},
     "output_type": "execute_result"
    }
   ],
   "source": [
    "restoreString(\"aaiougrt\", [4,0,2,6,7,3,1,5])"
   ]
  },
  {
   "cell_type": "markdown",
   "metadata": {},
   "source": [
    "### Bài 12: Decode String"
   ]
  },
  {
   "cell_type": "markdown",
   "metadata": {},
   "source": [
    "##### Given an encoded string, return its decoded string.The encoding rule is: k[encoded_string], where the encoded_string inside the square brackets is being repeated exactly k times. Note that k is guaranteed to be a positive integer.You may assume that the input string is always valid; No extra white spaces, square brackets are well-formed, etc.Furthermore, you may assume that the original data does not contain any digits and that digits are only for those repeat numbers, k. For example, there won't be input like 3a or 2[4].\n",
    "\n",
    "Example 1:\n",
    "    \n",
    "Input: s = \"3[a]2[bc]\"\n",
    "    \n",
    "Output: \"aaabcbc\"\n",
    "    \n",
    "Example 2:\n",
    "    \n",
    "Input: s = \"3[a2[c]]\"\n",
    "    \n",
    "Output: \"accaccacc\"\n",
    "    \n",
    "Example 3:\n",
    "    \n",
    "Input: s = \"2[abc]3[cd]ef\"\n",
    "    \n",
    "Output: \"abcabccdcdcdef\"\n",
    "    \n",
    "Example 4:\n",
    "    \n",
    "Input: s = \"abc3[cd]xyz\"\n",
    "    \n",
    "Output: \"abccdcdcdxyz\"\n",
    "    "
   ]
  },
  {
   "cell_type": "code",
   "execution_count": 2,
   "metadata": {},
   "outputs": [],
   "source": [
    "def decodeString(s):\n",
    "        n=len(s)\n",
    "        top=-1\n",
    "        stack=[\"\"]*n\n",
    "        res=\"\"\n",
    "        latest=-1\n",
    "        q=[0]*n\n",
    "        qtop=-1\n",
    "        for index in range(0,n):\n",
    "            i=s[index]\n",
    "            if(i!=\"]\"):\n",
    "                if(i.isnumeric() and top>=0 and stack[top].isnumeric()):\n",
    "                    stack[top]+=i\n",
    "                else:\n",
    "                    if(i==\"[\"):\n",
    "                        qtop+=1\n",
    "                        q[qtop]=top+1\n",
    "                    top+=1\n",
    "                    stack[top]=i\n",
    "            else:\n",
    "                temp=\"\"\n",
    "                for l in range(q[qtop]+1,top+1):\n",
    "                    temp+=stack[l]\n",
    "                    top-=1\n",
    "                top-=1\n",
    "                qtop-=1\n",
    "                num=stack[top]\n",
    "                decrypt=\"\"\n",
    "                for k in range(int(num)):\n",
    "                    decrypt+=temp\n",
    "                stack[top]=decrypt\n",
    "        for i in range(top+1):\n",
    "            res+=stack[i]\n",
    "        return res"
   ]
  },
  {
   "cell_type": "code",
   "execution_count": 3,
   "metadata": {},
   "outputs": [
    {
     "data": {
      "text/plain": [
       "'accaccacc'"
      ]
     },
     "execution_count": 3,
     "metadata": {},
     "output_type": "execute_result"
    }
   ],
   "source": [
    "decodeString(\"3[a2[c]]\")"
   ]
  }
 ],
 "metadata": {
  "kernelspec": {
   "display_name": "Python 3",
   "language": "python",
   "name": "python3"
  },
  "language_info": {
   "codemirror_mode": {
    "name": "ipython",
    "version": 3
   },
   "file_extension": ".py",
   "mimetype": "text/x-python",
   "name": "python",
   "nbconvert_exporter": "python",
   "pygments_lexer": "ipython3",
   "version": "3.8.3"
  }
 },
 "nbformat": 4,
 "nbformat_minor": 4
}
