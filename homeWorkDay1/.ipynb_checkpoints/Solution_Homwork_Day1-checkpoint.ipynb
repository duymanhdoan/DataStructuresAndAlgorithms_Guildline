{
 "cells": [
  {
   "cell_type": "markdown",
   "metadata": {},
   "source": [
    "##     Homework Day 1 - basic python. "
   ]
  },
  {
   "cell_type": "markdown",
   "metadata": {},
   "source": [
    "Bài 1: Tính và in ra tích của 10 số tự nhiên đầu tiên . [0 →10]."
   ]
  },
  {
   "cell_type": "code",
   "execution_count": 11,
   "metadata": {},
   "outputs": [
    {
     "data": {
      "text/plain": [
       "3628800"
      ]
     },
     "execution_count": 11,
     "metadata": {},
     "output_type": "execute_result"
    }
   ],
   "source": [
    "s = 1\n",
    "for elem in range(1,11,1):\n",
    "    s *=elem \n",
    "s"
   ]
  },
  {
   "cell_type": "markdown",
   "metadata": {},
   "source": [
    "Bài 2: Nhập vào số nguyên dương  n từ bàn phím. Tính và in ra n! (giai thừa). "
   ]
  },
  {
   "cell_type": "code",
   "execution_count": 17,
   "metadata": {},
   "outputs": [
    {
     "data": {
      "text/plain": [
       "120"
      ]
     },
     "execution_count": 17,
     "metadata": {},
     "output_type": "execute_result"
    }
   ],
   "source": [
    "def gt(n):\n",
    "    if n == 1: \n",
    "        return 1\n",
    "    else:\n",
    "        return n*gt(n-1)\n",
    "gt(5)"
   ]
  },
  {
   "cell_type": "markdown",
   "metadata": {},
   "source": [
    "Bài 3: Nhập vào số nguyên dương n từ bàn phím. Kiểm tra xem số n có phải là số nguyên tốt hay không. Nếu là số nguyên tố thì in ra dòng text : “Đây là số nguyên tố”. Nếu không thì in ra: “Không phải là số nguyên tố”. "
   ]
  },
  {
   "cell_type": "code",
   "execution_count": 23,
   "metadata": {},
   "outputs": [
    {
     "data": {
      "text/plain": [
       "4"
      ]
     },
     "execution_count": 23,
     "metadata": {},
     "output_type": "execute_result"
    }
   ],
   "source": [
    "int(math.sqrt(10)+1)"
   ]
  },
  {
   "cell_type": "code",
   "execution_count": 32,
   "metadata": {},
   "outputs": [
    {
     "name": "stdout",
     "output_type": "stream",
     "text": [
      "5\n"
     ]
    },
    {
     "data": {
      "text/plain": [
       "'Đây là số nguyên tố'"
      ]
     },
     "execution_count": 32,
     "metadata": {},
     "output_type": "execute_result"
    }
   ],
   "source": [
    "from math import sqrt\n",
    "yes,no = \"Đây là số nguyên tố\",\"Không phải là số nguyên tố\" \n",
    "\n",
    "def validPrime(prime): \n",
    "    for i in range(2,int(math.sqrt(prime)+1)):\n",
    "        if prime%i == 0: \n",
    "            return False \n",
    "    return True \n",
    "\n",
    "n = int(input()) \n",
    "yes if validPrime(n) is True else no"
   ]
  },
  {
   "cell_type": "markdown",
   "metadata": {},
   "source": [
    "Bài 10: Nhập n, tính tổng các số chẵn nhỏ hơn n."
   ]
  },
  {
   "cell_type": "code",
   "execution_count": 33,
   "metadata": {},
   "outputs": [
    {
     "name": "stdout",
     "output_type": "stream",
     "text": [
      "Nhap vao so nguyen bat ky10\n",
      "20\n"
     ]
    }
   ],
   "source": [
    "n = int(input(\"Nhap vao so nguyen bat ky\"))\n",
    "s = 0\n",
    "for i in range(2, n, 2):\n",
    "    s += i\n",
    "print(s)"
   ]
  },
  {
   "cell_type": "markdown",
   "metadata": {},
   "source": [
    " Bài 5: nhập vào số nguyên từ bàn phím. In ra tích của 2 nhân với các giá trị nhỏ n. \n",
    "    \n",
    "    Input: \t4\n",
    "\n",
    "    Output: \t\n",
    "        2 = 2 * 1\n",
    "\n",
    "        4 = 2 * 2\n",
    "\n",
    "        6 = 2 * 3\n",
    "\n",
    "        8 = 2 * 4"
   ]
  },
  {
   "cell_type": "code",
   "execution_count": 35,
   "metadata": {},
   "outputs": [
    {
     "name": "stdout",
     "output_type": "stream",
     "text": [
      "2 = 2 * 1\n",
      "4 = 2 * 2\n",
      "6 = 2 * 3\n",
      "8 = 2 * 4\n"
     ]
    }
   ],
   "source": [
    "n = 4 \n",
    "for i in range(1,n+1): \n",
    "    print(\"{} = 2 * {}\".format(2*i,i))"
   ]
  },
  {
   "cell_type": "markdown",
   "metadata": {},
   "source": [
    " Bài 6: In ra các số trong khoảng từ 10 → 50 thỏa mã điều kiện chia hết cho 2 , vừa chia hết cho 3. "
   ]
  },
  {
   "cell_type": "code",
   "execution_count": 36,
   "metadata": {},
   "outputs": [
    {
     "data": {
      "text/plain": [
       "[12, 18, 24, 30, 36, 42, 48]"
      ]
     },
     "execution_count": 36,
     "metadata": {},
     "output_type": "execute_result"
    }
   ],
   "source": [
    "[elem for elem in range(10,51) if elem%2==0 and elem%3==0]"
   ]
  },
  {
   "cell_type": "markdown",
   "metadata": {},
   "source": [
    "Bài 7: Viết một chương trình chấp nhận chuỗi là các dòng được nhập vào, chuyển các dòng này thành chữ in hoa và in ra màn hình. Giả sử đầu vào là:\n",
    "\n",
    "Example 1:\n",
    "\n",
    "Input:\n",
    "\n",
    "Hello world\n",
    "\n",
    "Practice makes perfect\n",
    "\n",
    "Output:\n",
    "\n",
    "HELLO WORLD\n",
    "\n",
    "PRACTICE MAKES PERFECT"
   ]
  },
  {
   "cell_type": "code",
   "execution_count": 38,
   "metadata": {},
   "outputs": [
    {
     "name": "stdout",
     "output_type": "stream",
     "text": [
      "nhap stringHello world\n",
      "HELLO WORLD\n",
      "nhap stringPractice makes perfect\n",
      "PRACTICE MAKES PERFECT\n"
     ]
    }
   ],
   "source": [
    "testcase = 2 \n",
    "for loop in range(testcase): \n",
    "    s = input(\"nhap string\").upper()\n",
    "    print(s)"
   ]
  },
  {
   "cell_type": "markdown",
   "metadata": {},
   "source": [
    "#### Bài 8: Viết một chương trình chấp nhận đầu vào là một chuỗi các từ tách biệt bởi khoảng trắng, loại bỏ các từ trùng lặp rồi in chúng.\n",
    "\n",
    "Example 1:\n",
    "\n",
    "Input   :    hello world    and practice   makes perfect and   hello world    again\n",
    "\n",
    "Output: hello world and practice makes perfect again "
   ]
  },
  {
   "cell_type": "code",
   "execution_count": 57,
   "metadata": {},
   "outputs": [
    {
     "name": "stdout",
     "output_type": "stream",
     "text": [
      "nhap chuoi s aa bb  aa bb cc aa cc dd aa bb cc dd ee ff \n"
     ]
    },
    {
     "data": {
      "text/plain": [
       "'aa bb cc dd ee ff '"
      ]
     },
     "execution_count": 57,
     "metadata": {},
     "output_type": "execute_result"
    }
   ],
   "source": [
    "#s = \" aa bb  aa bb cc aa cc dd aa bb cc dd ee ff \"\n",
    "s = input(\"nhap chuoi s\").strip().replace('  ',' ')\n",
    "\n",
    "valid = answer = \"\"\n",
    "\n",
    "for word in s.split(' '):\n",
    "    valid += word\n",
    "    if valid.count(word) == 1: \n",
    "        answer += word + \" \"\n",
    "    \n",
    "answer "
   ]
  },
  {
   "cell_type": "markdown",
   "metadata": {},
   "source": [
    "#### Bài 9: Đề bài: Yêu cầu người dùng cung cấp một chuỗi và cho biết đó có phải một palindrome không \n",
    "chú ý: palindrome là một chuỗi có thể được viết xuôi hay viết ngược vẫn chỉ cho ra chính nó)."
   ]
  },
  {
   "cell_type": "code",
   "execution_count": 65,
   "metadata": {},
   "outputs": [
    {
     "data": {
      "text/plain": [
       "'YES'"
      ]
     },
     "execution_count": 65,
     "metadata": {},
     "output_type": "execute_result"
    }
   ],
   "source": [
    "s = \"abcdcba\"\n",
    "ans = \"YES\" if s[:len(s)//2] == s[:-len(s)//2] else \"NO\"\n",
    "ans "
   ]
  },
  {
   "cell_type": "markdown",
   "metadata": {},
   "source": [
    "##### Bài 10:Viết một chương trình chấp nhận chuỗi từ được phân tách bằng khoảng trống và in các từ chỉ gồm chữ số.\n",
    "Example 1:\n",
    "\n",
    "Input: 3 quantrimang.com và 2 python. \n",
    "\n",
    "Output: [‘3’, ‘2’]\n",
    "\n",
    "gợi ý dùng:   import re \n",
    "\n",
    "re.findall(“\\d+”,s)) "
   ]
  },
  {
   "cell_type": "code",
   "execution_count": 66,
   "metadata": {},
   "outputs": [
    {
     "data": {
      "text/plain": [
       "['3', '2']"
      ]
     },
     "execution_count": 66,
     "metadata": {},
     "output_type": "execute_result"
    }
   ],
   "source": [
    "import re\n",
    "s = \"3 quantrimang.com và 2 python\"\n",
    "re.findall(\"\\d+\",s)"
   ]
  },
  {
   "cell_type": "markdown",
   "metadata": {},
   "source": [
    "### Bài 11: Roman to Integer\n",
    "    Symbol       Value\n",
    "    I             1\n",
    "    V             5\n",
    "    X             10\n",
    "    L             50\n",
    "    C             100\n",
    "    D             500\n",
    "    M             1000\n",
    "    \n",
    "- Example 1:\n",
    "    \n",
    "    Input: s = \"III\"\n",
    "    \n",
    "    Output: 3\n",
    "\n",
    "- Example 2:\n",
    "\n",
    "    Input: s = \"IV\"\n",
    "    \n",
    "    Output: 4\n",
    "\n",
    "- Example 3:\n",
    "\n",
    "    Input: s = \"IX\"\n",
    "\n",
    "    Output: 9\n",
    "\n",
    "- Example 4:\n",
    "\n",
    "    Input: s = \"LVIII\"\n",
    "    \n",
    "    Output: 58\n",
    "    \n",
    "    Explanation: L = 50, V= 5, III = 3.\n",
    "\n",
    "- Example 5:\n",
    "\n",
    "    Input: s = \"MCMXCIV\"\n",
    "    \n",
    "    Output: 1994\n",
    "\n",
    "    Explanation: M = 1000, CM = 900, XC = 90 and IV = 4.\n",
    "\n",
    "    Constraints:\n",
    "        • 1 <= s.length <= 15\n",
    "        • s contains only the characters ('I', 'V', 'X', 'L', 'C', 'D', 'M').\n",
    "        • It is guaranteed that s is a valid roman numeral in the range [1, 3999].\n"
   ]
  },
  {
   "cell_type": "code",
   "execution_count": null,
   "metadata": {},
   "outputs": [],
   "source": [
    "s = \"MCMXCIV\"\n",
    "s[1]\n",
    "\n",
    "leng = 7 \n",
    "s = 0 \n"
   ]
  },
  {
   "cell_type": "code",
   "execution_count": null,
   "metadata": {},
   "outputs": [],
   "source": [
    "\n",
    "#TH không chọn. \n",
    "# nếu ký tự đứng trước mang giá trị nhỏ hơn ký tự đứng sau thì lấy ans - value[i-1] \n",
    "\n",
    "#TH chọn\n",
    "# ngược lại ans = ans + value[i]\n",
    "\n",
    "s = \"MCMXCIV\" \n",
    "i = 6 -> 'V' value['V'] = 5\n",
    "\n",
    "ans = 2015 \n",
    "\n"
   ]
  },
  {
   "cell_type": "code",
   "execution_count": 3,
   "metadata": {},
   "outputs": [
    {
     "data": {
      "text/plain": [
       "1000"
      ]
     },
     "execution_count": 3,
     "metadata": {},
     "output_type": "execute_result"
    }
   ],
   "source": [
    "value = {\"I\": 1, \"V\": 5, \"X\": 10, \"L\": 50, \"C\": 100, \"D\": 500, \"M\": 1000}\n",
    "value['M']"
   ]
  },
  {
   "cell_type": "code",
   "execution_count": 4,
   "metadata": {},
   "outputs": [
    {
     "data": {
      "text/plain": [
       "7"
      ]
     },
     "execution_count": 4,
     "metadata": {},
     "output_type": "execute_result"
    }
   ],
   "source": [
    "s = \"MCMXCIV\" \n",
    "len(s)\n",
    "\n",
    "value = {\"I\": 1, \"V\": 5, \"X\": 10, \"L\": 50, \"C\": 100, \"D\": 500, \"M\": 1000}"
   ]
  },
  {
   "cell_type": "code",
   "execution_count": 30,
   "metadata": {},
   "outputs": [],
   "source": [
    "\n",
    "    \n",
    "def romanToInt(s):\n",
    "        \"\"\"\n",
    "        :type s: str \n",
    "        :rtype: int\n",
    "        \n",
    "        s = \"CMXCIV\" \n",
    "        \n",
    "        #TH không chọn. \n",
    "        # nếu ký tự đứng trước mang giá trị nhỏ hơn ký tự đứng sau thì lấy ans - value[i-1] \n",
    "\n",
    "        #TH chọn\n",
    "        # ngược lại ans = ans + value[i]\n",
    "        \"\"\"\n",
    "        answer = 0\n",
    "        value = {\"I\": 1, \"V\": 5, \"X\": 10, \"L\": 50, \"C\": 100, \"D\": 500, \"M\": 1000}\n",
    "            \n",
    "        for i in range(len(s)): \n",
    "                if i == 0: \n",
    "                    answer = answer + value[s[i]]\n",
    "                else:  # CM\n",
    "                    if value[s[i]] > value[s[i-1]]:  \n",
    "                        answer = answer + value[s[i]] - 2*value[s[i-1]] \n",
    "                    else: \n",
    "                        answer = answer + value[s[i]]\n",
    "\n",
    "        return answer"
   ]
  },
  {
   "cell_type": "code",
   "execution_count": 31,
   "metadata": {},
   "outputs": [
    {
     "data": {
      "text/plain": [
       "4"
      ]
     },
     "execution_count": 31,
     "metadata": {},
     "output_type": "execute_result"
    }
   ],
   "source": [
    "romanToInt(\"IV\")"
   ]
  },
  {
   "cell_type": "markdown",
   "metadata": {},
   "source": [
    "###  Bài 13: Shuffle String"
   ]
  },
  {
   "cell_type": "markdown",
   "metadata": {},
   "source": [
    "##### Given a string s and an integer array indices of the same length.The string s will be shuffled such that the character at the ith position moves to indices[i] in the shuffled string.Return the shuffled string.\n",
    " \n",
    "![Example 1](/home/minglee/Documents/Guildline_ML/shuffle_string.png)\n",
    "    \n",
    "Input: s = \"codeleet\", indices = [4,5,6,7,0,2,1,3]\n",
    "\n",
    "Output: \"leetcode\"\n",
    "\n",
    "Explanation: As shown, \"codeleet\" becomes \"leetcode\" after shuffling.\n",
    "    \n",
    "Example 2:\n",
    "    \n",
    "Input: s = \"abc\", indices = [0,1,2]\n",
    "    \n",
    "Output: \"abc\"\n",
    "    \n",
    "Explanation: After shuffling, each character remains in its position.\n",
    "    \n",
    "Example 3:\n",
    "    \n",
    "Input: s = \"aiohn\", indices = [3,1,4,2,0]\n",
    "    \n",
    "Output: \"nihao\"\n",
    "    \n",
    "Example 4:\n",
    "    \n",
    "Input: s = \"aaiougrt\", indices = [4,0,2,6,7,3,1,5]\n",
    "    \n",
    "Output: \"arigatou\"\n",
    "    \n",
    "Example 5:\n",
    "    \n",
    "Input: s = \"art\", indices = [1,0,2]\n",
    "    \n",
    "Output: \"rat\"\n",
    "    \n",
    "##### Constraints:\n",
    "    • s.length == indices.length == n\n",
    "    • 1 <= n <= 100\n",
    "    • s contains only lower-case English letters.\n",
    "    • 0 <= indices[i] < n\n",
    "    • All values of indices are unique (i.e. indices is a permutation of the integers from 0 to n - 1).\n"
   ]
  },
  {
   "cell_type": "code",
   "execution_count": null,
   "metadata": {},
   "outputs": [],
   "source": [
    "Input: s = \"codeleet\", indices = [4,5,6,7,0,2,1,3]\n",
    "    \n",
    "    "
   ]
  },
  {
   "cell_type": "code",
   "execution_count": 41,
   "metadata": {},
   "outputs": [
    {
     "name": "stdout",
     "output_type": "stream",
     "text": [
      "0 4\n",
      "1 5\n",
      "2 6\n",
      "3 7\n",
      "4 0\n",
      "5 2\n",
      "6 1\n",
      "7 3\n"
     ]
    }
   ],
   "source": [
    "indices = [4,5,6,7,0,2,1,3]\n",
    "for index, value in enumerate(indices): \n",
    "    print(index, value)"
   ]
  },
  {
   "cell_type": "code",
   "execution_count": 38,
   "metadata": {},
   "outputs": [],
   "source": [
    "def restoreString(s: str, indices: list) -> str:\n",
    "    ans = \"\"\n",
    "    for i in range(len(s)): \n",
    "        for index, value in enumerate(indices): \n",
    "            if value == i: \n",
    "                ans += s[index]\n",
    "    return ans \n"
   ]
  },
  {
   "cell_type": "code",
   "execution_count": 51,
   "metadata": {},
   "outputs": [
    {
     "data": {
      "text/plain": [
       "[(4, 'a'),\n",
       " (0, 'a'),\n",
       " (2, 'i'),\n",
       " (6, 'o'),\n",
       " (7, 'u'),\n",
       " (3, 'g'),\n",
       " (1, 'r'),\n",
       " (5, 't')]"
      ]
     },
     "execution_count": 51,
     "metadata": {},
     "output_type": "execute_result"
    }
   ],
   "source": [
    "s = \"aaiougrt\"\n",
    "indices = [4,0,2,6,7,3,1,5]\n",
    "a = zip(indices,s)\n",
    "tmp = []\n",
    "for i in a: \n",
    "    tmp.append(i)\n",
    "tmp"
   ]
  },
  {
   "cell_type": "code",
   "execution_count": 50,
   "metadata": {},
   "outputs": [
    {
     "data": {
      "text/plain": [
       "'arigatou'"
      ]
     },
     "execution_count": 50,
     "metadata": {},
     "output_type": "execute_result"
    }
   ],
   "source": [
    "\n",
    "ans = \"\"\n",
    "tmp.sort()\n",
    "for value in tmp: \n",
    "    ans += value[1]\n",
    "    \n",
    "ans "
   ]
  },
  {
   "cell_type": "code",
   "execution_count": 40,
   "metadata": {},
   "outputs": [
    {
     "data": {
      "text/plain": [
       "'arigatou'"
      ]
     },
     "execution_count": 40,
     "metadata": {},
     "output_type": "execute_result"
    }
   ],
   "source": [
    "restoreString(\"aaiougrt\", [4,0,2,6,7,3,1,5])"
   ]
  },
  {
   "cell_type": "markdown",
   "metadata": {},
   "source": [
    "### Bài 12: Decode String"
   ]
  },
  {
   "cell_type": "markdown",
   "metadata": {},
   "source": [
    "##### Given an encoded string, return its decoded string.The encoding rule is: k[encoded_string], where the encoded_string inside the square brackets is being repeated exactly k times. Note that k is guaranteed to be a positive integer.You may assume that the input string is always valid; No extra white spaces, square brackets are well-formed, etc.Furthermore, you may assume that the original data does not contain any digits and that digits are only for those repeat numbers, k. For example, there won't be input like 3a or 2[4].\n",
    "\n",
    "Example 1:\n",
    "    \n",
    "Input: s = \"3[a]2[bc]\"\n",
    "    \n",
    "Output: \"aaabcbc\"\n",
    "    \n",
    "Example 2:\n",
    "    \n",
    "Input: s = \"3[a2[c]]\"\n",
    "    \n",
    "Output: \"accaccacc\"\n",
    "    \n",
    "Example 3:\n",
    "    \n",
    "Input: s = \"2[abc]3[cd]ef\"\n",
    "    \n",
    "Output: \"abcabccdcdcdef\"\n",
    "    \n",
    "Example 4:\n",
    "    \n",
    "Input: s = \"abc3[cd]xyz\"\n",
    "    \n",
    "Output: \"abccdcdcdxyz\"\n",
    "    "
   ]
  },
  {
   "cell_type": "code",
   "execution_count": 2,
   "metadata": {},
   "outputs": [],
   "source": [
    "def decodeString(s):\n",
    "        n=len(s)\n",
    "        top=-1\n",
    "        stack=[\"\"]*n\n",
    "        res=\"\"\n",
    "        latest=-1\n",
    "        q=[0]*n\n",
    "        qtop=-1\n",
    "        for index in range(0,n):\n",
    "            i=s[index]\n",
    "            if(i!=\"]\"):\n",
    "                if(i.isnumeric() and top>=0 and stack[top].isnumeric()):\n",
    "                    stack[top]+=i\n",
    "                else:\n",
    "                    if(i==\"[\"):\n",
    "                        qtop+=1\n",
    "                        q[qtop]=top+1\n",
    "                    top+=1\n",
    "                    stack[top]=i\n",
    "            else:\n",
    "                temp=\"\"\n",
    "                for l in range(q[qtop]+1,top+1):\n",
    "                    temp+=stack[l]\n",
    "                    top-=1\n",
    "                top-=1\n",
    "                qtop-=1\n",
    "                num=stack[top]\n",
    "                decrypt=\"\"\n",
    "                for k in range(int(num)):\n",
    "                    decrypt+=temp\n",
    "                stack[top]=decrypt\n",
    "        for i in range(top+1):\n",
    "            res+=stack[i]\n",
    "        return res"
   ]
  },
  {
   "cell_type": "code",
   "execution_count": 3,
   "metadata": {},
   "outputs": [
    {
     "data": {
      "text/plain": [
       "'accaccacc'"
      ]
     },
     "execution_count": 3,
     "metadata": {},
     "output_type": "execute_result"
    }
   ],
   "source": [
    "decodeString(\"3[a2[c]]\")"
   ]
  }
 ],
 "metadata": {
  "kernelspec": {
   "display_name": "Python 3",
   "language": "python",
   "name": "python3"
  },
  "language_info": {
   "codemirror_mode": {
    "name": "ipython",
    "version": 3
   },
   "file_extension": ".py",
   "mimetype": "text/x-python",
   "name": "python",
   "nbconvert_exporter": "python",
   "pygments_lexer": "ipython3",
   "version": "3.8.3"
  }
 },
 "nbformat": 4,
 "nbformat_minor": 4
}
