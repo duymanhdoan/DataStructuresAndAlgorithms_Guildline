{
 "cells": [
  {
   "cell_type": "markdown",
   "metadata": {},
   "source": [
    "### LIST. \n",
    "Bài 1:  Lấy hai lists, ví dụ như sau:\n",
    "\n",
    "a = [1, 1, 2, 3, 5, 8, 13, 21, 34, 55, 89]\n",
    "\n",
    "b = [1, 2, 3, 4, 5, 6, 7, 8, 9, 10, 11, 12, 13]\n",
    "\n",
    "Viết chương trình cho ra một list chỉ chứa những phần tử chung giữa các list đã cho (không được trùng nhau). \n",
    "\n",
    "Đảm bảo rằng chương trình có thể hoạt động trên hai lists có kích thước khác nhau.\n",
    "\n",
    "Bài 2: Nhập vào 1 list chứa các số nguyên dương a[i]. Đề bài đảm bảo luôn tồn tại cặp i, j thỏa mãn điều kiện. \n",
    "\n",
    "a[i] + a[j] = k. \n",
    "\n",
    "Nhiệm vụ của bạn là tìm tất các các cặp i, j sao cho thỏa mãn 2 điều kiện. \n",
    "\n",
    "→ I < j.\n",
    "\n",
    "→ a[i] + a[j] = k  \n",
    "\n",
    "Input: \n",
    "\n",
    "Dòng đầu chứa hai số n, k (2 <= n <= 1000). và  k( 0<= k <=10^9).   \n",
    "\n",
    "Dòng tiếp theo bao gồm n số nguyên là các giá trị của danh sách.\n",
    "\n",
    "Output: \n",
    "\n",
    "Dòng đầu tiên in ra số lượng các cặp thỏa mãn. \n",
    "\n",
    "Các dòng tiếp theo in ra 2 số i,j lần lượt là số lượng các cặp tương ứng. \n",
    "\n",
    "Example: \n",
    "\n",
    "\n",
    "####    Input :   \n",
    "        5  10 \n",
    "        2 9 1 7 3 5 5 4                 \n",
    "\n",
    "####    Output: \n",
    "        3\n",
    "        2 3 \n",
    "        4 5 \n",
    "        6 7\n"
   ]
  },
  {
   "cell_type": "code",
   "execution_count": 4,
   "metadata": {},
   "outputs": [
    {
     "data": {
      "text/plain": [
       "{1, 2, 3, 5, 8, 13}"
      ]
     },
     "execution_count": 4,
     "metadata": {},
     "output_type": "execute_result"
    }
   ],
   "source": [
    "def intersectionList(a = [1, 1, 2, 3, 5, 8, 13, 21, 34, 55, 89] ,\n",
    "                             b = [1, 2, 3, 4, 5, 6, 7, 8, 9, 10, 11, 12, 13])-> list:\n",
    "    fi_List = set(a)\n",
    "    se_List = set(b) \n",
    "    return fi_List & se_List\n",
    "intersectionList()"
   ]
  },
  {
   "cell_type": "code",
   "execution_count": 13,
   "metadata": {},
   "outputs": [
    {
     "name": "stdout",
     "output_type": "stream",
     "text": [
      "nhap n,k: 5 10\n",
      "2 9 1 7 3 5 5 4\n",
      "3\n",
      "(2, 3)\n",
      "(4, 5)\n",
      "(6, 7)\n"
     ]
    }
   ],
   "source": [
    "def Input(): \n",
    "    n , k = input(\"nhap n,k: \").split(' ')\n",
    "    n, k = int(n), int(k)\n",
    "    arr = list(input().split(' '))\n",
    "    n_arr = [int(x) for x in arr]\n",
    "    return n , k , n_arr\n",
    "\n",
    "def calc(n, k, arr): \n",
    "    ans = []\n",
    "    n = len(arr)\n",
    "    for i in range(0,n-1): \n",
    "        for j in range(i+1,n): \n",
    "            if arr[i] + arr[j] == k: \n",
    "                ans.append((i + 1, j + 1))\n",
    "    return ans \n",
    "\n",
    "\n",
    "n, k, arr  = Input()\n",
    "ans = calc (n, k, arr) \n",
    "\n",
    "print(len(ans))\n",
    "for elem in ans: \n",
    "    print(elem)\n",
    "\n",
    "#nhap n,k: 5 10\n",
    "#2 9 1 7 3 5 5 4"
   ]
  },
  {
   "cell_type": "code",
   "execution_count": 15,
   "metadata": {},
   "outputs": [
    {
     "name": "stdout",
     "output_type": "stream",
     "text": [
      "4\n",
      "D 300\n",
      "D 300\n",
      "W 200\n",
      "D 100\n"
     ]
    },
    {
     "data": {
      "text/plain": [
       "500"
      ]
     },
     "execution_count": 15,
     "metadata": {},
     "output_type": "execute_result"
    }
   ],
   "source": [
    "#Bai 1 \n",
    "\n",
    "#    4\n",
    "#    D 300\n",
    "#    D 300\n",
    "#    W 200\n",
    "#    D 100\n",
    "\n",
    "def calc_Money(): \n",
    "    n = int(input()) \n",
    "    s = 0\n",
    "    for i in range(n): \n",
    "        c , num = input().split(' ')\n",
    "        num = int(num) \n",
    "        if c == 'D': \n",
    "            s += num\n",
    "        else: \n",
    "            s -= num\n",
    "    return s \n",
    "\n",
    "calc_Money()"
   ]
  },
  {
   "cell_type": "markdown",
   "metadata": {},
   "source": [
    "### MATH\n",
    "Bài 1: Viết chương trình tính số tiền thực của một tài khoản ngân hàng dựa trên nhật ký giao dịch được nhập \n",
    "\n",
    "vào từ giao diện điều khiển.  Định dạng nhật ký được hiển thị như sau:\n",
    "\n",
    "D 100 ( D là tiền gửi). \n",
    "\n",
    "W 200 ( W là tiền rút ra). \n",
    "\n",
    "####    Input: \n",
    "      4\n",
    "        D 300\n",
    "        D 300\n",
    "        W 200\n",
    "        D 100\n",
    "\n",
    "####    Output: \n",
    "        500\n",
    "    \n",
    "    \n",
    "Bài 2: Dãy Fibonacci được tính dựa trên công thức sau: \n",
    "\n",
    "f(n=1)=1 \n",
    "\n",
    "f(n=2)=1 \n",
    "\n",
    "f(n=3)=2 \n",
    "\n",
    "f(n=4)=3\n",
    "\n",
    "f(n=5)=5\n",
    "\n",
    "f(n)=f(n-1)+f(n-2) nếu n>=3\n",
    "\n",
    "Hãy viết chương trình tính giá trị của f(n) với n là số được người dùng nhập vào. Ví dụ: Nếu n được nhập vào \n",
    "\n",
    "là 7 thì đầu ra của chương trình sẽ là 13.\n",
    "\n",
    "#### 1 1 2 3 5 8 13 21 34 ..... "
   ]
  },
  {
   "cell_type": "code",
   "execution_count": 21,
   "metadata": {},
   "outputs": [
    {
     "name": "stdout",
     "output_type": "stream",
     "text": [
      "10\n"
     ]
    },
    {
     "data": {
      "text/plain": [
       "55"
      ]
     },
     "execution_count": 21,
     "metadata": {},
     "output_type": "execute_result"
    }
   ],
   "source": [
    "n = int(input())\n",
    "\n",
    "fibonaci = [] \n",
    "\n",
    "for i in range(1,n+1): \n",
    "    if i == 1 or i == 2: \n",
    "        fibonaci.append(1)\n",
    "    else:\n",
    "        fibonaci.append(fibonaci[-1] + fibonaci[-2])\n",
    "\n",
    "fibonaci[n-1]"
   ]
  },
  {
   "cell_type": "code",
   "execution_count": null,
   "metadata": {},
   "outputs": [],
   "source": [
    "F(n) = f(n-1) + f(n-2) \n",
    "n = 1 -> f(1) = 1\n",
    "n = 2 -> f(2) = 1"
   ]
  },
  {
   "cell_type": "markdown",
   "metadata": {},
   "source": [
    "### DICTIONARY\n",
    "\n",
    "Bài 1:  Với số nguyên n nhất định, hãy viết chương trình để tạo ra một dictionary chứa (i, i*i) như là số \n",
    "\n",
    "nguyên từ 1 đến n (bao gồm cả 1 và n) sau đó in ra dictionary này. Ví dụ: Giả sử số n là 8 thì đầu ra sẽ \n",
    "\n",
    "là: {1: 1, 2: 4, 3: 9, 4: 16, 5: 25, 6: 36, 7: 49, 8: 64}.\n",
    "\n",
    "Bài 2: Định nghĩa một hàm có thể in dictionary chứa key là các số từ 1 đến 10 và values là các giá trị bình \n",
    "\n",
    "phương của chúng.\n",
    "\n",
    "Bài 3: Cho dictionary dict = {1:'a', 5:'h', 3:'x', 2:'l'} \n",
    "\n",
    "sắp xếp dict theo thứ tự giảm dần của các phần tử trong dict. \n",
    "\n",
    "Bài 4: Cho dictionary dict = {1:'a', 5:'h', 3:'x', 2:'l'} \n",
    "\n",
    "sắp xếp dict theo keys giảm dần và tăng dần. \n",
    "\n",
    "Bài 5: Nhập vào một chuỗi mật khẩu với T là số lần nhập. \n",
    "\n",
    "Sau đó T dòng mỗi dòng bao gồm 1 chuỗi string nhập từ bàn phím. \n",
    "\n",
    "- Nếu Chuỗi mật khẩu chưa tồn tại hãy in ra “OKE”\n",
    "\n",
    "- Nếu chuỗi mật khẩu đã tồn tại hãy đưa ra gợi ý ở cuối mật khẩu.\n",
    "\n",
    "####    Input. \n",
    "        6\n",
    "        iloveyou\n",
    "        iloveyou\n",
    "        ihateyou\n",
    "        abcd\n",
    "        abcd\n",
    "        abcd\n",
    "        abcd1\n",
    "        abcd12\n",
    "        abcd1234\n",
    "        \n",
    "####       Output.   \n",
    "\n",
    "        OKE\n",
    "        iloveyou1\n",
    "        OKE\n",
    "        OKE\n",
    "        abcd1\n",
    "        abcd2\n",
    "        abcd12\n",
    "        abcd123\n",
    "        OKE. \n"
   ]
  },
  {
   "cell_type": "markdown",
   "metadata": {},
   "source": [
    "Bài 1:  Với số nguyên n nhất định, hãy viết chương trình để tạo ra một dictionary chứa (i, i*i) như là số "
   ]
  },
  {
   "cell_type": "code",
   "execution_count": 3,
   "metadata": {},
   "outputs": [
    {
     "data": {
      "text/plain": [
       "{1: 1, 2: 4, 3: 9, 4: 16, 5: 25}"
      ]
     },
     "execution_count": 3,
     "metadata": {},
     "output_type": "execute_result"
    }
   ],
   "source": [
    "_dict = {} \n",
    "# keys = i \n",
    "# values = i*i \n",
    "# n -> [1,n]\n",
    "n = 5\n",
    "for i in range(1,n+1): \n",
    "    _dict[i] = i*i \n",
    "\n",
    "_dict"
   ]
  },
  {
   "cell_type": "code",
   "execution_count": 6,
   "metadata": {},
   "outputs": [
    {
     "data": {
      "text/plain": [
       "[5, 3, 2, 1]"
      ]
     },
     "execution_count": 6,
     "metadata": {},
     "output_type": "execute_result"
    }
   ],
   "source": [
    "sorted({1:'a', 5:'h', 3:'x', 2:'l'}, reverse=True)"
   ]
  },
  {
   "cell_type": "code",
   "execution_count": null,
   "metadata": {},
   "outputs": [],
   "source": []
  },
  {
   "cell_type": "markdown",
   "metadata": {},
   "source": [
    "\n",
    "####    Input.                                 Output\n",
    "        6 \n",
    "        iloveyou            OKE\n",
    "        iloveyou            iloveyou1\n",
    "        ihateyou            OKE \n",
    "        abcd                OKE \n",
    "        abcd                abcd1\n",
    "        abcd                abcd12\n",
    "        abcd1               abcd123     \n",
    "        abcd12              abcd1234\n",
    "        abcd1234            abcd12345\n",
    "     "
   ]
  },
  {
   "cell_type": "markdown",
   "metadata": {},
   "source": [
    "CACH1 \n",
    "\n",
    "database = [iloveyou, iloveyou, iloveyou1, ihateyou,\n",
    "            abcd, abcd1, abcd12, abcd123, \n",
    "            abcd1234, abcd12345, abcd1234, abcd123456 ]\n",
    "\n",
    "\n",
    "answer   = [OKE, iloveyou1, OKE, OKE, abcd1, \n",
    "            abcd12, abcd123,abcd1234,abcd12345,abcd123456 ]\n",
    "\n",
    "len(database) = n  # n do dai \n",
    " t so lan nhap \n",
    "\n",
    "n = 0 \n",
    "\n",
    "-> t = 1 -> 0 \n",
    "-> t = 2 -> 1 \n",
    "-> t = 3 -> 2 \n",
    "t = n -> n\n"
   ]
  },
  {
   "cell_type": "code",
   "execution_count": null,
   "metadata": {},
   "outputs": [],
   "source": [
    "database = [iloveyou, iloveyou, iloveyou1, ihateyou,\n",
    "            abcd, abcd1, abcd12, abcd123, \n",
    "            abcd1234, abcd12345, abcd1234, abcd123456 ]\n",
    "\n",
    "\n",
    "# -> kiểm tra pw đã có trong database  \n",
    "# -> tìm ra chuỗi gợi ý. "
   ]
  },
  {
   "cell_type": "code",
   "execution_count": 11,
   "metadata": {},
   "outputs": [
    {
     "name": "stdout",
     "output_type": "stream",
     "text": [
      "Nhập số lần thử:4\n",
      "Nhap mat khau:ab\n",
      "OKE\n",
      "Nhap mat khau:ab\n",
      "ab1\n",
      "Nhap mat khau:ab1\n",
      "ab11\n",
      "Nhap mat khau:ab11\n",
      "ab111\n"
     ]
    }
   ],
   "source": [
    "T=int(input(\"Nhập số lần thử:\")) \n",
    "\n",
    "list1=[] \n",
    "\n",
    "while T!=0: \n",
    "    password=str(input(\"Nhap mat khau:\")) \n",
    "    list1.append(password) \n",
    "    if list1.count(password)==1: \n",
    "        print('OKE') \n",
    "    else: \n",
    "        list1.append(password + str(list1.count(password)-1)) \n",
    "        print((password + str(list1.count(password)-1))) \n",
    "    T-=1"
   ]
  },
  {
   "cell_type": "code",
   "execution_count": null,
   "metadata": {},
   "outputs": [],
   "source": [
    "7\n",
    "ab\n",
    "ab\n",
    "ab\n",
    "ab\n",
    "ab3\n",
    "ab34\n",
    "ab345\n",
    "database = {ab:4,ab1:2,ab2:3, ab3:4, ab34:5,ab345:6, ab3456:7}\n",
    "\n",
    "database[ab34] \n",
    "answer   = []\n",
    "\n",
    "T(2*N) \n",
    "T(2) "
   ]
  },
  {
   "cell_type": "code",
   "execution_count": 17,
   "metadata": {},
   "outputs": [
    {
     "name": "stdout",
     "output_type": "stream",
     "text": [
      "7\n",
      "ab\n",
      "OKE\n",
      "ab\n",
      "ab1\n",
      "ab\n",
      "ab2\n",
      "ab\n",
      "ab3\n",
      "ab\n",
      "ab4\n",
      "ab4\n",
      "ab45\n",
      "ab45\n",
      "ab456\n"
     ]
    }
   ],
   "source": [
    "def solve(password, my_dict):\n",
    "    if my_dict.get(password) is None: \n",
    "        print('OKE')\n",
    "        my_dict[password] = 1\n",
    "    else: \n",
    "        n = my_dict[password]\n",
    "        new_password = password + str(n)\n",
    "        print(new_password)\n",
    "        my_dict[new_password] = n + 1\n",
    "        my_dict[password] += 1\n",
    "        \n",
    "    return my_dict \n",
    "\n",
    "my_dict = {}\n",
    "T = int(input())\n",
    "for i in range(T):\n",
    "    password = input()\n",
    "    my_dict = solve(password, my_dict)"
   ]
  },
  {
   "cell_type": "code",
   "execution_count": null,
   "metadata": {},
   "outputs": [],
   "source": []
  },
  {
   "cell_type": "code",
   "execution_count": 34,
   "metadata": {},
   "outputs": [],
   "source": [
    "# 6\n",
    "# iloveyou\n",
    "# iloveyou\n",
    "# ihateyou\n",
    "# abcd\n",
    "# abcd\n",
    "# abcd\n",
    "# abcd1\n",
    "# abcd12\n",
    "# abcd1234"
   ]
  },
  {
   "cell_type": "code",
   "execution_count": null,
   "metadata": {},
   "outputs": [],
   "source": []
  },
  {
   "cell_type": "markdown",
   "metadata": {},
   "source": [
    "###  SET \n",
    "\n",
    "Bài 1. Cô giáo Thảo thống kê chiều cao của các học sinh trong lớp 12A được kết quả như sau:\n",
    "\n",
    "161 182 161 154 176 170 167 171 170 174 150 142 148 165 170 178 156 145 149 163 162 159 165 165 170 180 155 \n",
    "\n",
    "159 155 153 152 162 180 168 169 168 167 170\n",
    "\n",
    "a. Hỏi lớp có bao nhiêu học sinh?\n",
    "\n",
    "b. Tính chiều cao trung bình của các học sinh trong lớp.\n",
    "\n",
    "c. Liệt kê các chiều cao khác nhau của học sinh trong lớp. Tính giá trị trung bình của chúng.\n",
    "\n",
    "Bài 2. Liệt kê tập hợp S gồm các kí tự của câu dưới đây, tính cả dấu cách. Viết chương trình in ra tập hợp S \n",
    "\n",
    "có bao nhiêu phần tử. Thêm vào tập S các phần tử là các kí tự xuất hiện trong câu sau:  “Anh duy dep zai va \n",
    "\n",
    "học gioi ahihi”\n",
    "\n",
    "Bài 3. Cho tập hợp A gồm có các phần tử sau, mỗi phần tử cách nhau bởi dấu cách trắng.\n",
    "\n",
    "A = “1 a 5 7 f 0 89 g I 11 88 3 p”.\n",
    "\n",
    "Viết chương trình liệt kê các tập con có hai phần tử trở lên của tập hợp A. In ra tất cả những tập con như vậy. "
   ]
  },
  {
   "cell_type": "code",
   "execution_count": 39,
   "metadata": {},
   "outputs": [
    {
     "data": {
      "text/plain": [
       "set"
      ]
     },
     "execution_count": 39,
     "metadata": {},
     "output_type": "execute_result"
    }
   ],
   "source": [
    "a = {1,2,3}\n",
    "type(a)"
   ]
  },
  {
   "cell_type": "code",
   "execution_count": 42,
   "metadata": {},
   "outputs": [
    {
     "name": "stdout",
     "output_type": "stream",
     "text": [
      "25\n",
      "161.96\n",
      "142 145 148 149 150 152 153 154 155 156 159 161 162 163 165 167 168 169 170 171 174 176 178 180 182 "
     ]
    }
   ],
   "source": [
    "students = {161, 182, 161, 154, 176, 170, 167, 171, 170, 174, 150, 142, 148, 165, 170\n",
    "        ,178, 156, 145, 149, 163, 162, 159, 165, 165, 170, 180, 155, 159, 155, 153\n",
    "        ,152, 162, 180, 168, 169, 168, 167, 170}\n",
    "\n",
    "# a. \n",
    "print(len(students))\n",
    "\n",
    "#b\n",
    "print( sum(students)/len(students))\n",
    "\n",
    "#c \n",
    "for i in students: \n",
    "    print(i,end = ' ')"
   ]
  },
  {
   "cell_type": "code",
   "execution_count": null,
   "metadata": {},
   "outputs": [],
   "source": [
    "\n"
   ]
  },
  {
   "cell_type": "markdown",
   "metadata": {},
   "source": [
    "### Tuple\n",
    "\n",
    "Bài 1: Viết một chương trình để tạo ra và in tuple chứa các số chẵn được lấy từ tuple (1,2,3,4,5,6,7,8,9,10).\n",
    "\n",
    "Bài 2: Cho một dãy số nguyên từ 1 đến n. Sử dụng tuple hiển thị ra màn hình nửa dãy đầu tăng dần, nửa dãy sau giảm dần. "
   ]
  },
  {
   "cell_type": "markdown",
   "metadata": {},
   "source": [
    "### D. Trông xe (Dict) \n",
    "- time limit per test\n",
    "- 4 seconds\n",
    "+ Một bãi đỗ xe nhận trông xe trong vòng một tháng. Mỗi xe sẽ được gắn một số hiệu là một số nguyên dương T (10102010 ≤ T ≤ 10109999). Hai xe khác nhau sẽ được gắn hai số hiệu khác nhau. Một xe có thể ra vào bãi đỗ xe nhiều lần, mỗi lần vào bãi đỗ xe, người trông xe sẽ ghi vào sổ sách số hiệu của chiếc xe đó. Cuối tháng dựa vào sổ ghi chép, người trông xe làm thống kê về số lần vào bãi đỗ xe của từng chiếc xe để tiến hành thu phí. Nếu một chiếc xe vào bãi đỗ xe p lần, cuối tháng chủ xe phải trả một lượng phí được tính như sau:\n",
    "\n",
    "- Nếu p ≤ 5, chi phí là: 100. - Nếu p > 5, chi phí là: 100 + (p-5)\n",
    "\n",
    "Yêu cầu: Tính tổng số phí người trông xe thu được vào cuối tháng.\n",
    "\n",
    "#### Input\n",
    "    - Dòng đầu chứa một số nguyên dương K (0 < K ≤ 10^6)\n",
    "    - K dòng tiếp theo, mỗi dòng chứa số hiệu một chiếc xe.\n",
    "#### Output\n",
    "    - Là tổng số phí thu được.\n",
    "\n",
    "#### Example\n",
    "#####  input\n",
    "    7\n",
    "    10102010\n",
    "    10108888\n",
    "    10102010\n",
    "    10102010\n",
    "    10102010\n",
    "    10102010\n",
    "    10102010\n",
    "    \n",
    "##### output\n",
    "    201    \n",
    "    "
   ]
  },
  {
   "cell_type": "code",
   "execution_count": 81,
   "metadata": {},
   "outputs": [
    {
     "name": "stdout",
     "output_type": "stream",
     "text": [
      "7\n",
      "10102010\n",
      "10108888\n",
      "10102010\n",
      "10102010\n",
      "10102010\n",
      "10102010\n",
      "10102010\n",
      "201\n"
     ]
    }
   ],
   "source": [
    "def solveProblem() ->int: \n",
    "    n = int(input())\n",
    "    _dict = {}\n",
    "    for i in range(n):\n",
    "        strID = input()\n",
    "        if _dict.get(strID) is None: \n",
    "            _dict[strID] = 1\n",
    "        else: \n",
    "            _dict[strID] += 1\n",
    "    answer = 0\n",
    "    \n",
    "    for elem in _dict.values(): \n",
    "        if elem < 5: \n",
    "            answer += 100 \n",
    "        else: \n",
    "            answer += 100 + (elem - 5) \n",
    "    return answer \n",
    "\n",
    "if __name__ == \"__main__\": \n",
    "    print(solveProblem())  \n",
    "    "
   ]
  },
  {
   "cell_type": "code",
   "execution_count": 82,
   "metadata": {},
   "outputs": [],
   "source": [
    "# 7\n",
    "# 10102010\n",
    "# 10108888\n",
    "# 10102010\n",
    "# 10102010\n",
    "# 10102010\n",
    "# 10102010\n",
    "# 10102010"
   ]
  },
  {
   "cell_type": "markdown",
   "metadata": {},
   "source": [
    "### Valid Parentheses (Dict + string)\n",
    "- Given a string s containing just the characters '(', ')', '{', '}', '[' and ']', determine if the input string is valid.\n",
    "- An input string is valid if:\n",
    "        1. Open brackets must be closed by the same type of brackets.\n",
    "        2. Open brackets must be closed in the correct order.\n",
    "\n",
    "#### Example 1:\n",
    "-  Input: s = \"()\"\n",
    "-  Output: true\n",
    "\n",
    "#### Example 2:\n",
    "-  Input: s = \"()[]{}\"\n",
    "-  Output: true\n",
    "\n",
    "#### Example 3:\n",
    "-  Input: s = \"(]\"\n",
    "-  Output: false\n",
    "\n",
    "#### Example 4:\n",
    "- Input: s = \"([)]\"\n",
    "- Output: false\n",
    "\n",
    "#### Example 5:\n",
    "-  Input: s = \"{[]}\"\n",
    "-  Output: true\n",
    "     Constraints:\n",
    "        • 1 <= s.length <= 104\n",
    "        • s consists of parentheses only '()[]{}'.\n"
   ]
  },
  {
   "cell_type": "code",
   "execution_count": 20,
   "metadata": {},
   "outputs": [
    {
     "name": "stdout",
     "output_type": "stream",
     "text": [
      "None\n"
     ]
    }
   ],
   "source": [
    "valid = {')':'(','}':'{',']':'['}\n",
    "print(valid.get('{'))"
   ]
  },
  {
   "cell_type": "code",
   "execution_count": 32,
   "metadata": {},
   "outputs": [
    {
     "name": "stdout",
     "output_type": "stream",
     "text": [
      "NO\n"
     ]
    }
   ],
   "source": [
    "def solve(s): \n",
    "    valid = {')':'(','}':'{',']':'['}\n",
    "    st = []\n",
    "    status = True \n",
    "    for i in s: \n",
    "        if valid.get(i) is not None and len(st)!=0 and st[-1] == valid[i]:\n",
    "            st.pop() \n",
    "        else: \n",
    "            st.append(i)\n",
    "    return len(st) == 0 \n",
    "\n",
    "if __name__ == \"__main__\":\n",
    "    s = \"{[]}(){}}\"\n",
    "    print('YES' if solve(s) else 'NO')"
   ]
  },
  {
   "cell_type": "markdown",
   "metadata": {},
   "source": [
    "### A. Generous NAM (DICT + STRING)\n",
    "- time limit per test\n",
    "- 2 seconds\n",
    "\n",
    "- Nam có một chuỗi bóng bay nhiều màu có n quả bóng. bóng thứ i có màu b[i]. Nam có k bạn bè. Bạn bè của Nam khó chịu khi 1 người nhận được 2 quả bóng cùng màu nhau. Nam muốn tất cả bạn bè của mình hạnh phúc. Nhưng không may Nam ko học giỏi toán. Hãy giúp Nam trả lời câu hỏi có thể làm tất cả bạn bè của anh ấy hạnh phúc hay không. \n",
    "- Có hãy ra “YES” ngược lại in ra “NO”. \n",
    "#### Input: \n",
    "    Dòng đầu tiên chứa 2 số nguyên n và k với (1<= n,k <= 100). Số lượng quả bóng và số lượng bạn bè của Nam. \n",
    "    Dòng tiếp theo chứa một chuỗi string s - màu của những quả bóng Nam có. \n",
    "#### Output: \n",
    "    In ra “YES” or “NO” trên 1 dòng. \n",
    "\n",
    "#### Examples\n",
    "    input\n",
    "        4 2\n",
    "        aabb\n",
    "    output\n",
    "        YES\n",
    "    \n",
    "    input\n",
    "        6 3\n",
    "        aacaab\n",
    "    output\n",
    "        NO\n",
    "\n",
    "- Note\n",
    "- Trong ví dụ đầu tiên Nam có thể cho quả bóng thứ 1 và 3 cho người bạn đầu tiên và quả bóng 2,4 cho người bạn thứ 2. In ra “YES”.  Trong ví dụ thứ 2 bạn không thể chia được quả bóng thỏa mãn điều kiện in ra “NO”"
   ]
  },
  {
   "cell_type": "code",
   "execution_count": 75,
   "metadata": {},
   "outputs": [
    {
     "name": "stdout",
     "output_type": "stream",
     "text": [
      "6 1\n",
      "aabbcc\n",
      "NO\n"
     ]
    }
   ],
   "source": [
    "def solveProblem(s, k) ->bool: \n",
    "    fi = set(s)\n",
    "    se = [0]*len(fi)\n",
    "    _dict = dict(zip(fi,se))\n",
    "    for char in s: \n",
    "        _dict[char] += 1\n",
    "    status = True \n",
    "    for i in _dict.values(): \n",
    "        if i > k: \n",
    "            status = False\n",
    "    return status  \n",
    "\n",
    "if __name__ == \"__main__\": \n",
    "    n , k = input().split(' ')\n",
    "    n = int(n)\n",
    "    k = int(k) \n",
    "    s = input()\n",
    "    print(\"YES\" if solveProblem(s, k) else \"NO\") \n"
   ]
  },
  {
   "cell_type": "code",
   "execution_count": 1,
   "metadata": {},
   "outputs": [
    {
     "name": "stdout",
     "output_type": "stream",
     "text": [
      "Nhập số lần thử:6\n",
      "Nhập mật khẩu:iloveyou\n",
      "OKE\n",
      "Nhập mật khẩu:iloveyou\n",
      "iloveyou1\n",
      "Nhập mật khẩu:iloveyou\n",
      "iloveyou2\n",
      "Nhập mật khẩu:iloveyou2\n",
      "iloveyou21\n",
      "Nhập mật khẩu:abcd\n",
      "OKE\n",
      "Nhập mật khẩu:abcd123\n",
      "OKE\n"
     ]
    }
   ],
   "source": [
    "T=int(input(\"Nhập số lần thử:\"))\n",
    "list1=[ ]\n",
    "while T!=0:\n",
    "    password=str(input(\"Nhập mật khẩu:\"))\n",
    "    list1.append(password)\n",
    "    if list1.count(password)==1:\n",
    "        print(\"OKE\")\n",
    "    else:\n",
    "        list1.append(password+str((list1.count(password)-1)))\n",
    "        print(password+str((list1.count(password)-1)))\n",
    "    T-=1"
   ]
  },
  {
   "cell_type": "code",
   "execution_count": null,
   "metadata": {},
   "outputs": [],
   "source": []
  }
 ],
 "metadata": {
  "kernelspec": {
   "display_name": "Python 3",
   "language": "python",
   "name": "python3"
  },
  "language_info": {
   "codemirror_mode": {
    "name": "ipython",
    "version": 3
   },
   "file_extension": ".py",
   "mimetype": "text/x-python",
   "name": "python",
   "nbconvert_exporter": "python",
   "pygments_lexer": "ipython3",
   "version": "3.8.3"
  }
 },
 "nbformat": 4,
 "nbformat_minor": 4
}
