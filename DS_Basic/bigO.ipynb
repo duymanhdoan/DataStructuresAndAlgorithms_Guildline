{
 "cells": [
  {
   "cell_type": "code",
   "execution_count": null,
   "metadata": {},
   "outputs": [],
   "source": [
    "for i in range(n): \n",
    "    # doan code thục hiện hành động A. \n",
    "\n",
    "for i in range(m): \n",
    "    # đoạn code thực hiện hành đông B. \n",
    "    \n",
    "    \n",
    "O(m + n) \n",
    "=> N = 10^5 , M = 10^9 => O(10^5+10^9) = MAX(M,N) = 10^9. \n",
    "\n",
    "\n",
    "f(n) = O(n)\n",
    "\n",
    "\n"
   ]
  },
  {
   "cell_type": "code",
   "execution_count": null,
   "metadata": {},
   "outputs": [],
   "source": [
    "for i in range(n): \n",
    "    for j in range(m): \n",
    "        # ĐOẠN CODE THỰC HIỆN HÀNH ĐÔNG C. \n",
    "\n",
    "=> 5*2\n",
    "=> O(N*M). \n",
    "N = 10^3 , M = 10^5 \n",
    "O(10^3 * 10^5) = 10^8."
   ]
  },
  {
   "cell_type": "code",
   "execution_count": null,
   "metadata": {},
   "outputs": [],
   "source": [
    "for i in range(n) \n",
    "\n",
    "for j in range(m) \n",
    "\n",
    "for k in range(p)\n",
    "=> MAX(MAX(N,M),P) "
   ]
  },
  {
   "cell_type": "code",
   "execution_count": null,
   "metadata": {},
   "outputs": [],
   "source": [
    "for i in range(n): \n",
    "    for j in range(m): \n",
    "        for k in range(p): \n",
    "            #THỤC HIEN HÀNH ĐỘNG A. \n",
    "n*m*p \n"
   ]
  },
  {
   "cell_type": "code",
   "execution_count": null,
   "metadata": {},
   "outputs": [],
   "source": [
    "for i in range(n): \n",
    "    for x in range(p): \n",
    "        # thực hiện hành động A. \n",
    "    for y in range(q): \n",
    "        # thục hiện hành đông B. \n",
    "\n",
    "max(p,q)*n. "
   ]
  },
  {
   "cell_type": "code",
   "execution_count": null,
   "metadata": {},
   "outputs": [],
   "source": [
    "for r in range(m): \n",
    "    \n",
    "    for i in range(p):\n",
    "    \n",
    "    for j in range(q): \n",
    "        for k in range(n) \n",
    "            for l in range(t): \n",
    "                \n",
    "m * (q*n*t) \n"
   ]
  },
  {
   "cell_type": "code",
   "execution_count": null,
   "metadata": {},
   "outputs": [],
   "source": [
    "a = [2, 3, 4, 5]  => n\n",
    "=> tốt nhất là 1\n",
    "=> xấu nhất là n. "
   ]
  },
  {
   "cell_type": "code",
   "execution_count": null,
   "metadata": {},
   "outputs": [],
   "source": [
    "a = [1, 2, 3, 4 ,5] "
   ]
  },
  {
   "cell_type": "code",
   "execution_count": null,
   "metadata": {},
   "outputs": [],
   "source": [
    "log2n -> \n",
    "\n",
    "\n",
    "2^3 = 8\n",
    "log2(8) = 3"
   ]
  },
  {
   "cell_type": "code",
   "execution_count": null,
   "metadata": {},
   "outputs": [],
   "source": [
    "log2(10^5) = 17"
   ]
  },
  {
   "cell_type": "code",
   "execution_count": 1,
   "metadata": {},
   "outputs": [
    {
     "data": {
      "text/plain": [
       "131072"
      ]
     },
     "execution_count": 1,
     "metadata": {},
     "output_type": "execute_result"
    }
   ],
   "source": [
    "2**17"
   ]
  },
  {
   "cell_type": "code",
   "execution_count": null,
   "metadata": {},
   "outputs": [],
   "source": [
    "n = 10^5 \n",
    "=> n*n = 10^10\n",
    "n*log2(n) = 17*10^5 = 10^6"
   ]
  },
  {
   "cell_type": "code",
   "execution_count": 2,
   "metadata": {},
   "outputs": [
    {
     "data": {
      "text/plain": [
       "1700000"
      ]
     },
     "execution_count": 2,
     "metadata": {},
     "output_type": "execute_result"
    }
   ],
   "source": [
    "17*10**5"
   ]
  },
  {
   "cell_type": "code",
   "execution_count": null,
   "metadata": {},
   "outputs": [],
   "source": [
    "for r in range(m):\n",
    "    \n",
    "    hàm tuyến tính . \n",
    "    \n",
    "    \n"
   ]
  },
  {
   "cell_type": "code",
   "execution_count": null,
   "metadata": {},
   "outputs": [],
   "source": []
  }
 ],
 "metadata": {
  "kernelspec": {
   "display_name": "Python 3",
   "language": "python",
   "name": "python3"
  },
  "language_info": {
   "codemirror_mode": {
    "name": "ipython",
    "version": 3
   },
   "file_extension": ".py",
   "mimetype": "text/x-python",
   "name": "python",
   "nbconvert_exporter": "python",
   "pygments_lexer": "ipython3",
   "version": "3.8.3"
  }
 },
 "nbformat": 4,
 "nbformat_minor": 4
}
