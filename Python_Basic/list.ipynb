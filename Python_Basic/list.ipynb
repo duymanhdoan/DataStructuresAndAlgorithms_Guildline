{
 "cells": [
  {
   "cell_type": "markdown",
   "metadata": {},
   "source": [
    "## List\n",
    "----"
   ]
  },
  {
   "cell_type": "markdown",
   "metadata": {},
   "source": [
    "Đọc thêm tại: [Python Lists](https://developers.google.com/edu/python/lists)\n",
    "\n",
    "List là một Collection mà trong đó các phần tử được **sắp xếp** và **có thể thay đổi(mutable)**. List có thể chứa 2 phần tử giống nhau"
   ]
  },
  {
   "cell_type": "markdown",
   "metadata": {},
   "source": [
    "### I. Khởi tạo một List"
   ]
  },
  {
   "cell_type": "markdown",
   "metadata": {},
   "source": [
    "![List Examples](https://lh3.googleusercontent.com/3U71KNkJ_R9Gtxv1k70O3zWP2Bg0CJ7rR26SIyoAouOzYkgxdk-T0TO_fm4ZkE-VeaTiws5vEwLszH5mIa5DXCSGSTlGRsDwCCsgfye3xNx2_6306YRgZ3sr0Vl3D3-oMcy2MnQpKeBMRfGQtLySNmUDBUgXPoGlKvNdFt7CnDzqNVKXnNr14RK8Ks8U7ybIb9zjDKX65qWhZCZnjJPdZNke73ZrNjjDhVTUoXsqOoSWy4uxcNN_0sw9EaYD4MBoqN4EhtxRDnCaSOvcsA0ULjRY5LuiWHXNS1pXmUs3JNTw5to8yrz8vT8lLFVcYW3WBUVPZL1rB-CLNEdSBKK5mgmmzGUfcYfBQG3sGJQa8JxcJrDyIWdUs7WW3gA7LAkp6v-nefiPjWYALZSFmfxPKfVCtGriT38YFeYlP3sI6UKi5wJ3JsmL0fYJNbzFwFLuw0Ov8P0NfmAnBhDvZ7h1QtKfATgezsyA9cHF16Am6RGw3iwEfCDXy5JmGL-IQda2S3I8dmOHWfKeC03S0T_EbbsuaPnajsd6oKX2XRwiT5j-ex0ykZVDEFyso_E9yC5oEt6TIxBZTexXohDNF543Q-U2a67Qd3v3Aa6_uu3c7WtoGj6k0h8mLQG9Dj0XPOj4qg98Bh3M4NCSs6RkTfQUGwXXWmrJgN2Tnw=w734-h102-no)"
   ]
  },
  {
   "cell_type": "code",
   "execution_count": 3,
   "metadata": {},
   "outputs": [],
   "source": [
    "# Cách 1\n",
    "colors_1 = [\"red\", \"blue\", \"green\"]"
   ]
  },
  {
   "cell_type": "code",
   "execution_count": 4,
   "metadata": {},
   "outputs": [
    {
     "data": {
      "text/plain": [
       "['red', 'blue', 'green']"
      ]
     },
     "execution_count": 4,
     "metadata": {},
     "output_type": "execute_result"
    }
   ],
   "source": [
    "colors_1"
   ]
  },
  {
   "cell_type": "code",
   "execution_count": 5,
   "metadata": {},
   "outputs": [],
   "source": [
    "# Cách 2\n",
    "colors_2 = list((\"red\", \"blue\", \"green\"))"
   ]
  },
  {
   "cell_type": "code",
   "execution_count": 6,
   "metadata": {},
   "outputs": [
    {
     "data": {
      "text/plain": [
       "['red', 'blue', 'green']"
      ]
     },
     "execution_count": 6,
     "metadata": {},
     "output_type": "execute_result"
    }
   ],
   "source": [
    "colors_2"
   ]
  },
  {
   "cell_type": "markdown",
   "metadata": {},
   "source": [
    "### II. Indexing"
   ]
  },
  {
   "cell_type": "markdown",
   "metadata": {},
   "source": [
    "Tương tự như String các phần tử trong List được sắp xếp theo thứ tự và mỗi phần tử đều có một chỉ mục(index) riêng"
   ]
  },
  {
   "cell_type": "code",
   "execution_count": 9,
   "metadata": {},
   "outputs": [
    {
     "name": "stdout",
     "output_type": "stream",
     "text": [
      "manh duy  \n"
     ]
    }
   ],
   "source": [
    "n = list(input().strip().split(' ')) "
   ]
  },
  {
   "cell_type": "code",
   "execution_count": 10,
   "metadata": {},
   "outputs": [
    {
     "data": {
      "text/plain": [
       "['manh', 'duy']"
      ]
     },
     "execution_count": 10,
     "metadata": {},
     "output_type": "execute_result"
    }
   ],
   "source": [
    "n"
   ]
  },
  {
   "cell_type": "code",
   "execution_count": 11,
   "metadata": {},
   "outputs": [
    {
     "data": {
      "text/plain": [
       "'red'"
      ]
     },
     "execution_count": 11,
     "metadata": {},
     "output_type": "execute_result"
    }
   ],
   "source": [
    "colors_1[0]"
   ]
  },
  {
   "cell_type": "code",
   "execution_count": 12,
   "metadata": {},
   "outputs": [
    {
     "data": {
      "text/plain": [
       "'green'"
      ]
     },
     "execution_count": 12,
     "metadata": {},
     "output_type": "execute_result"
    }
   ],
   "source": [
    "colors_1[-1]"
   ]
  },
  {
   "cell_type": "code",
   "execution_count": 13,
   "metadata": {},
   "outputs": [
    {
     "data": {
      "text/plain": [
       "'green'"
      ]
     },
     "execution_count": 13,
     "metadata": {},
     "output_type": "execute_result"
    }
   ],
   "source": [
    "colors_1[2]"
   ]
  },
  {
   "cell_type": "markdown",
   "metadata": {},
   "source": [
    "### III. Hàm cắt List (List Slices)"
   ]
  },
  {
   "cell_type": "markdown",
   "metadata": {},
   "source": [
    "![d](https://www.javatpoint.com/python/images/elementsinalists.png)"
   ]
  },
  {
   "cell_type": "markdown",
   "metadata": {},
   "source": [
    "Cú pháp: **list[begin:end:step]**\n",
    "    - begin: Chỉ mục của phần tử đầu tiên\n",
    "    - end: Chỉ mục của phần tử sau phần tử cuối cùng\n",
    "    - step: Khoảng cách chỉ mục của các phần tử sẽ được lấy ra\n",
    "    \n",
    "Hàm này sẽ **trả về một list mới** được cắt từ phần tử **ban đầu** cho đến **trước** phần tử kết thúc\n",
    "\n",
    "**Chú ý:** Việc cắt List này không ảnh hưởng đến List ban đầu"
   ]
  },
  {
   "cell_type": "code",
   "execution_count": 14,
   "metadata": {},
   "outputs": [],
   "source": [
    "numbers = [1, 2, 3, 4, 5]"
   ]
  },
  {
   "cell_type": "code",
   "execution_count": 15,
   "metadata": {},
   "outputs": [
    {
     "data": {
      "text/plain": [
       "[1, 2, 3, 4, 5]"
      ]
     },
     "execution_count": 15,
     "metadata": {},
     "output_type": "execute_result"
    }
   ],
   "source": [
    "numbers"
   ]
  },
  {
   "cell_type": "code",
   "execution_count": 16,
   "metadata": {},
   "outputs": [
    {
     "data": {
      "text/plain": [
       "[1, 2, 3, 4]"
      ]
     },
     "execution_count": 16,
     "metadata": {},
     "output_type": "execute_result"
    }
   ],
   "source": [
    "# Cắt list từ phần tử có chỉ mục là 0 đến phần tử có chỉ mục là 3\n",
    "numbers[0:4]"
   ]
  },
  {
   "cell_type": "code",
   "execution_count": 17,
   "metadata": {},
   "outputs": [
    {
     "data": {
      "text/plain": [
       "[1, 2, 3, 4]"
      ]
     },
     "execution_count": 17,
     "metadata": {},
     "output_type": "execute_result"
    }
   ],
   "source": [
    "# Kết quả tương đương\n",
    "numbers[0:4:1]"
   ]
  },
  {
   "cell_type": "code",
   "execution_count": 18,
   "metadata": {},
   "outputs": [
    {
     "data": {
      "text/plain": [
       "[1, 2, 3, 4, 5]"
      ]
     },
     "execution_count": 18,
     "metadata": {},
     "output_type": "execute_result"
    }
   ],
   "source": [
    "# List ban đầu vẫn được giữ nguyên\n",
    "numbers"
   ]
  },
  {
   "cell_type": "code",
   "execution_count": 19,
   "metadata": {},
   "outputs": [
    {
     "data": {
      "text/plain": [
       "[3, 4, 5]"
      ]
     },
     "execution_count": 19,
     "metadata": {},
     "output_type": "execute_result"
    }
   ],
   "source": [
    "# Cắt list từ phần tử có chỉ mục là 2 đến hết\n",
    "numbers[2:]"
   ]
  },
  {
   "cell_type": "code",
   "execution_count": 20,
   "metadata": {},
   "outputs": [
    {
     "data": {
      "text/plain": [
       "[3, 4, 5]"
      ]
     },
     "execution_count": 20,
     "metadata": {},
     "output_type": "execute_result"
    }
   ],
   "source": [
    "# Kết quả tương đương\n",
    "numbers[-3:]"
   ]
  },
  {
   "cell_type": "code",
   "execution_count": 21,
   "metadata": {},
   "outputs": [
    {
     "data": {
      "text/plain": [
       "[1, 2, 3, 4, 5]"
      ]
     },
     "execution_count": 21,
     "metadata": {},
     "output_type": "execute_result"
    }
   ],
   "source": [
    "# Copy cả list\n",
    "numbers[:]"
   ]
  },
  {
   "cell_type": "code",
   "execution_count": 22,
   "metadata": {},
   "outputs": [
    {
     "data": {
      "text/plain": [
       "[1, 3, 5]"
      ]
     },
     "execution_count": 22,
     "metadata": {},
     "output_type": "execute_result"
    }
   ],
   "source": [
    "# Cắt list từ đầu đến cuối nhưng có khoảng cách là 2\n",
    "# tức là cắt 3 phần tử có chỉ mục tương đương là 0, 2, 4\n",
    "numbers[::2]"
   ]
  },
  {
   "cell_type": "code",
   "execution_count": 23,
   "metadata": {},
   "outputs": [],
   "source": [
    "# Thủ thuật: Đảo ngược list"
   ]
  },
  {
   "cell_type": "code",
   "execution_count": 24,
   "metadata": {},
   "outputs": [
    {
     "data": {
      "text/plain": [
       "[5, 4, 3, 2, 1]"
      ]
     },
     "execution_count": 24,
     "metadata": {},
     "output_type": "execute_result"
    }
   ],
   "source": [
    "numbers[::-1]"
   ]
  },
  {
   "cell_type": "markdown",
   "metadata": {},
   "source": [
    "### IV. Các phương thức (Methods)"
   ]
  },
  {
   "cell_type": "markdown",
   "metadata": {},
   "source": [
    "##### 1. reverse()\n",
    "Đảo ngược vị trí các phần tử trong list"
   ]
  },
  {
   "cell_type": "code",
   "execution_count": 25,
   "metadata": {},
   "outputs": [],
   "source": [
    "cities = [\"Ha Noi\", \"Ho Chi Minh City\", \"Da Nang\"]"
   ]
  },
  {
   "cell_type": "code",
   "execution_count": 26,
   "metadata": {},
   "outputs": [],
   "source": [
    "cities.reverse()"
   ]
  },
  {
   "cell_type": "code",
   "execution_count": 27,
   "metadata": {},
   "outputs": [
    {
     "data": {
      "text/plain": [
       "['Da Nang', 'Ho Chi Minh City', 'Ha Noi']"
      ]
     },
     "execution_count": 27,
     "metadata": {},
     "output_type": "execute_result"
    }
   ],
   "source": [
    "# Bạn có thể thấy trong trường hợp này list đã bị thay đổi giá trị.\n",
    "# Điều này thể hiện tính khả biến(mutable) của list\n",
    "cities"
   ]
  },
  {
   "cell_type": "markdown",
   "metadata": {},
   "source": [
    "##### 2. append()\n",
    "Thêm một phần tử vào cuối list.\n",
    "\n",
    "**Chú ý:** Hàm này không trả về list mới mà thay đổi trực tiếp list ban đầu"
   ]
  },
  {
   "cell_type": "code",
   "execution_count": 28,
   "metadata": {},
   "outputs": [],
   "source": [
    "cities = [\"Ha Noi\", \"Ho Chi Minh City\", \"Da Nang\"]"
   ]
  },
  {
   "cell_type": "code",
   "execution_count": 29,
   "metadata": {},
   "outputs": [],
   "source": [
    "cities.append(\"Hai Phong\")"
   ]
  },
  {
   "cell_type": "code",
   "execution_count": 30,
   "metadata": {},
   "outputs": [
    {
     "data": {
      "text/plain": [
       "['Ha Noi', 'Ho Chi Minh City', 'Da Nang', 'Hai Phong']"
      ]
     },
     "execution_count": 30,
     "metadata": {},
     "output_type": "execute_result"
    }
   ],
   "source": [
    "cities"
   ]
  },
  {
   "cell_type": "markdown",
   "metadata": {},
   "source": [
    "##### 3. pop(index)\n",
    "Xóa đi một phần tử của list\n",
    "    - Nếu không có index thì hàm sẽ xóa đi phần tử cuối cùng của list\n",
    "    - Nếu có index, hàm sẽ xóa đi phần tử với index tương ứng"
   ]
  },
  {
   "cell_type": "code",
   "execution_count": 31,
   "metadata": {},
   "outputs": [],
   "source": [
    "cities = [\"Ha Noi\", \"Ho Chi Minh City\", \"Da Nang\"]"
   ]
  },
  {
   "cell_type": "code",
   "execution_count": 32,
   "metadata": {},
   "outputs": [
    {
     "data": {
      "text/plain": [
       "'Da Nang'"
      ]
     },
     "execution_count": 32,
     "metadata": {},
     "output_type": "execute_result"
    }
   ],
   "source": [
    "# Xóa đi phần tử cuối cùng\n",
    "cities.pop()"
   ]
  },
  {
   "cell_type": "code",
   "execution_count": 33,
   "metadata": {},
   "outputs": [
    {
     "data": {
      "text/plain": [
       "['Ha Noi', 'Ho Chi Minh City']"
      ]
     },
     "execution_count": 33,
     "metadata": {},
     "output_type": "execute_result"
    }
   ],
   "source": [
    "cities"
   ]
  },
  {
   "cell_type": "code",
   "execution_count": 34,
   "metadata": {},
   "outputs": [
    {
     "data": {
      "text/plain": [
       "'Ha Noi'"
      ]
     },
     "execution_count": 34,
     "metadata": {},
     "output_type": "execute_result"
    }
   ],
   "source": [
    "# Xóa đi phần tử đầu tiên - chỉ mục là 0\n",
    "cities.pop(0)"
   ]
  },
  {
   "cell_type": "code",
   "execution_count": 35,
   "metadata": {},
   "outputs": [
    {
     "data": {
      "text/plain": [
       "['Ho Chi Minh City']"
      ]
     },
     "execution_count": 35,
     "metadata": {},
     "output_type": "execute_result"
    }
   ],
   "source": [
    "cities"
   ]
  },
  {
   "cell_type": "markdown",
   "metadata": {},
   "source": [
    "##### 4. insert(index, elem)\n",
    "\n",
    "Thêm một phần tử vào list dựa trên một chỉ mục cho trước\n",
    "    - index: Vị trí sẽ thêm phần tử mới\n",
    "    - elem: Phần tử mới sẽ thêm\n",
    "    "
   ]
  },
  {
   "cell_type": "code",
   "execution_count": 36,
   "metadata": {},
   "outputs": [],
   "source": [
    "clc = [\"Hanoi\", 18, \"Listen to Music\"]\n",
    "# Thêm phần tử chuỗi \"THPT Nhi CHieu\" vào vị trí có chỉ mục là 2\n",
    "clc.insert(2, \"THPT Nhi Chieu\")"
   ]
  },
  {
   "cell_type": "code",
   "execution_count": 37,
   "metadata": {},
   "outputs": [
    {
     "data": {
      "text/plain": [
       "['Hanoi', 18, 'THPT Nhi Chieu', 'Listen to Music']"
      ]
     },
     "execution_count": 37,
     "metadata": {},
     "output_type": "execute_result"
    }
   ],
   "source": [
    "clc"
   ]
  },
  {
   "cell_type": "markdown",
   "metadata": {},
   "source": [
    "##### 5. extend(list2)\n",
    "Ghép một list mới vào list hiện tại"
   ]
  },
  {
   "cell_type": "code",
   "execution_count": 38,
   "metadata": {},
   "outputs": [],
   "source": [
    "cities = [\"Ha Noi\", \"Ho Chi Minh City\", \"Da Nang\"]\n",
    "cities_2 = [\"Binh Duong\", \"Thanh Hoa\", \"Ba Ria Vung Tau\"]\n",
    "\n",
    "cities.extend(cities_2)"
   ]
  },
  {
   "cell_type": "code",
   "execution_count": 39,
   "metadata": {},
   "outputs": [
    {
     "data": {
      "text/plain": [
       "['Ha Noi',\n",
       " 'Ho Chi Minh City',\n",
       " 'Da Nang',\n",
       " 'Binh Duong',\n",
       " 'Thanh Hoa',\n",
       " 'Ba Ria Vung Tau']"
      ]
     },
     "execution_count": 39,
     "metadata": {},
     "output_type": "execute_result"
    }
   ],
   "source": [
    "cities"
   ]
  },
  {
   "cell_type": "markdown",
   "metadata": {},
   "source": [
    "##### 6. index(elem)\n",
    "\n",
    "Tìm kiếm một phần tử cho trước trong list\n",
    "    - Trả về chỉ mục của phần tử đó\n",
    "    - Throw error nếu phần tử đang tìm kiếm không nằm trong list\n"
   ]
  },
  {
   "cell_type": "code",
   "execution_count": 40,
   "metadata": {},
   "outputs": [],
   "source": [
    "flowers = [\"hoa hong\", \"hoa lan\", \"hoa hue\"]"
   ]
  },
  {
   "cell_type": "code",
   "execution_count": 41,
   "metadata": {},
   "outputs": [
    {
     "data": {
      "text/plain": [
       "0"
      ]
     },
     "execution_count": 41,
     "metadata": {},
     "output_type": "execute_result"
    }
   ],
   "source": [
    "flowers.index(\"hoa hong\")"
   ]
  },
  {
   "cell_type": "code",
   "execution_count": 42,
   "metadata": {},
   "outputs": [
    {
     "ename": "ValueError",
     "evalue": "'hoa nhai' is not in list",
     "output_type": "error",
     "traceback": [
      "\u001b[0;31m---------------------------------------------------------------------------\u001b[0m",
      "\u001b[0;31mValueError\u001b[0m                                Traceback (most recent call last)",
      "\u001b[0;32m<ipython-input-42-25c3986b5730>\u001b[0m in \u001b[0;36m<module>\u001b[0;34m\u001b[0m\n\u001b[0;32m----> 1\u001b[0;31m \u001b[0mflowers\u001b[0m\u001b[0;34m.\u001b[0m\u001b[0mindex\u001b[0m\u001b[0;34m(\u001b[0m\u001b[0;34m\"hoa nhai\"\u001b[0m\u001b[0;34m)\u001b[0m\u001b[0;34m\u001b[0m\u001b[0;34m\u001b[0m\u001b[0m\n\u001b[0m",
      "\u001b[0;31mValueError\u001b[0m: 'hoa nhai' is not in list"
     ]
    }
   ],
   "source": [
    "flowers.index(\"hoa nhai\")"
   ]
  },
  {
   "cell_type": "markdown",
   "metadata": {},
   "source": [
    "##### 7. remove(elem)\n",
    "Tìm kiếm một phần tử trong list và xóa nó khỏi list\n",
    "    - Throw error nếu phần tử đang tìm kiếm không nằm trong list\n",
    "\n",
    "\n",
    "\n"
   ]
  },
  {
   "cell_type": "code",
   "execution_count": 43,
   "metadata": {},
   "outputs": [],
   "source": [
    "car_brands = [\"BMW\", \"Toyota\", \"Maserati\"]"
   ]
  },
  {
   "cell_type": "code",
   "execution_count": 44,
   "metadata": {},
   "outputs": [],
   "source": [
    "car_brands.remove(\"BMW\")"
   ]
  },
  {
   "cell_type": "code",
   "execution_count": 45,
   "metadata": {},
   "outputs": [
    {
     "data": {
      "text/plain": [
       "['Toyota', 'Maserati']"
      ]
     },
     "execution_count": 45,
     "metadata": {},
     "output_type": "execute_result"
    }
   ],
   "source": [
    "car_brands"
   ]
  },
  {
   "cell_type": "code",
   "execution_count": 46,
   "metadata": {},
   "outputs": [
    {
     "ename": "ValueError",
     "evalue": "list.remove(x): x not in list",
     "output_type": "error",
     "traceback": [
      "\u001b[0;31m---------------------------------------------------------------------------\u001b[0m",
      "\u001b[0;31mValueError\u001b[0m                                Traceback (most recent call last)",
      "\u001b[0;32m<ipython-input-46-2f1c98242b89>\u001b[0m in \u001b[0;36m<module>\u001b[0;34m\u001b[0m\n\u001b[0;32m----> 1\u001b[0;31m \u001b[0mcar_brands\u001b[0m\u001b[0;34m.\u001b[0m\u001b[0mremove\u001b[0m\u001b[0;34m(\u001b[0m\u001b[0;34m\"Bentley\"\u001b[0m\u001b[0;34m)\u001b[0m\u001b[0;34m\u001b[0m\u001b[0;34m\u001b[0m\u001b[0m\n\u001b[0m",
      "\u001b[0;31mValueError\u001b[0m: list.remove(x): x not in list"
     ]
    }
   ],
   "source": [
    "car_brands.remove(\"Bentley\")"
   ]
  },
  {
   "cell_type": "markdown",
   "metadata": {},
   "source": [
    "##### 8. sort()\n",
    "Sắp xếp list theo ký tự đầu tiên của từng phần tử\n",
    "    - Sắp xếp theo chiều xuôi nếu các phần tử là chuỗi bắt đầu bằng chữ cái trong bảng chữ cái\n",
    "    - Sắp xếp từ nhỏ đến lớn nếu các phần tử là integer/float"
   ]
  },
  {
   "cell_type": "code",
   "execution_count": 47,
   "metadata": {},
   "outputs": [],
   "source": [
    "names = [\"Ngoc\", \"An\", \"Van Anh\", \"Binh\"]"
   ]
  },
  {
   "cell_type": "code",
   "execution_count": 48,
   "metadata": {},
   "outputs": [],
   "source": [
    "names.sort()"
   ]
  },
  {
   "cell_type": "code",
   "execution_count": 49,
   "metadata": {},
   "outputs": [
    {
     "data": {
      "text/plain": [
       "['An', 'Binh', 'Ngoc', 'Van Anh']"
      ]
     },
     "execution_count": 49,
     "metadata": {},
     "output_type": "execute_result"
    }
   ],
   "source": [
    "names"
   ]
  },
  {
   "cell_type": "code",
   "execution_count": 50,
   "metadata": {},
   "outputs": [],
   "source": [
    "numbers = [1, 0.8, 0.2, 4, 20]\n",
    "numbers.sort()"
   ]
  },
  {
   "cell_type": "code",
   "execution_count": 51,
   "metadata": {},
   "outputs": [
    {
     "data": {
      "text/plain": [
       "[0.2, 0.8, 1, 4, 20]"
      ]
     },
     "execution_count": 51,
     "metadata": {},
     "output_type": "execute_result"
    }
   ],
   "source": [
    "numbers"
   ]
  },
  {
   "cell_type": "code",
   "execution_count": 52,
   "metadata": {},
   "outputs": [],
   "source": [
    "addresses = [\"2 Hoang Hoa Tham\", \"30 Tran Thai Tong\", \"11 Nguyen Ngoc Vu\"]\n",
    "addresses.sort()"
   ]
  },
  {
   "cell_type": "code",
   "execution_count": 53,
   "metadata": {},
   "outputs": [
    {
     "data": {
      "text/plain": [
       "['11 Nguyen Ngoc Vu', '2 Hoang Hoa Tham', '30 Tran Thai Tong']"
      ]
     },
     "execution_count": 53,
     "metadata": {},
     "output_type": "execute_result"
    }
   ],
   "source": [
    "addresses"
   ]
  },
  {
   "cell_type": "code",
   "execution_count": 56,
   "metadata": {},
   "outputs": [
    {
     "data": {
      "text/plain": [
       "['30 Tran Thai Tong', '2 Hoang Hoa Tham', '11 Nguyen Ngoc Vu']"
      ]
     },
     "execution_count": 56,
     "metadata": {},
     "output_type": "execute_result"
    }
   ],
   "source": [
    "addresses.sort(reverse=True) # sort ngược. \n",
    "addresses"
   ]
  },
  {
   "cell_type": "code",
   "execution_count": 83,
   "metadata": {},
   "outputs": [
    {
     "name": "stdout",
     "output_type": "stream",
     "text": [
      "Sorted list: [(4, 1), (2, 2), (1, 3), (3, 4)]\n"
     ]
    }
   ],
   "source": [
    "# take second element for sort\n",
    "def takeSecond(elem):\n",
    "    return elem[1]\n",
    "\n",
    "# random list\n",
    "random = [(2, 2), (3, 4), (4, 1), (1, 3)]\n",
    "\n",
    "# sort list with key\n",
    "random.sort(key=takeSecond)\n",
    "\n",
    "# print list\n",
    "print('Sorted list:', random)"
   ]
  },
  {
   "cell_type": "markdown",
   "metadata": {},
   "source": [
    "##### 9. Thay đổi các phần tử trong list"
   ]
  },
  {
   "cell_type": "code",
   "execution_count": 57,
   "metadata": {},
   "outputs": [],
   "source": [
    "my_skills = [\"fullstack\", \"machine learning\", \"devops\", \"chit chat\"]"
   ]
  },
  {
   "cell_type": "code",
   "execution_count": 58,
   "metadata": {},
   "outputs": [],
   "source": [
    "# Thay đổi list từ phần tử có chỉ mục là 2 đến hết\n",
    "my_skills[2:] = [\"public speaking\", \"play piano\"]"
   ]
  },
  {
   "cell_type": "code",
   "execution_count": 59,
   "metadata": {},
   "outputs": [
    {
     "data": {
      "text/plain": [
       "['fullstack', 'machine learning', 'public speaking', 'play piano']"
      ]
     },
     "execution_count": 59,
     "metadata": {},
     "output_type": "execute_result"
    }
   ],
   "source": [
    "my_skills"
   ]
  },
  {
   "cell_type": "code",
   "execution_count": 60,
   "metadata": {},
   "outputs": [],
   "source": [
    "my_skills[3] = \"PR\""
   ]
  },
  {
   "cell_type": "code",
   "execution_count": 61,
   "metadata": {},
   "outputs": [
    {
     "data": {
      "text/plain": [
       "['fullstack', 'machine learning', 'public speaking', 'PR']"
      ]
     },
     "execution_count": 61,
     "metadata": {},
     "output_type": "execute_result"
    }
   ],
   "source": [
    "my_skills"
   ]
  },
  {
   "cell_type": "code",
   "execution_count": 62,
   "metadata": {},
   "outputs": [],
   "source": [
    "# Tương đương với\n",
    "my_skills[-1] = \"PR\""
   ]
  },
  {
   "cell_type": "code",
   "execution_count": 63,
   "metadata": {},
   "outputs": [
    {
     "data": {
      "text/plain": [
       "['fullstack', 'machine learning', 'public speaking', 'PR']"
      ]
     },
     "execution_count": 63,
     "metadata": {},
     "output_type": "execute_result"
    }
   ],
   "source": [
    "my_skills"
   ]
  },
  {
   "cell_type": "markdown",
   "metadata": {},
   "source": [
    "### V. Các hàm (Functions)"
   ]
  },
  {
   "cell_type": "markdown",
   "metadata": {},
   "source": [
    "##### 1. len()\n",
    "Trả về số lượng phần tử của một list"
   ]
  },
  {
   "cell_type": "code",
   "execution_count": 64,
   "metadata": {},
   "outputs": [
    {
     "data": {
      "text/plain": [
       "0"
      ]
     },
     "execution_count": 64,
     "metadata": {},
     "output_type": "execute_result"
    }
   ],
   "source": [
    "len([])"
   ]
  },
  {
   "cell_type": "code",
   "execution_count": 65,
   "metadata": {},
   "outputs": [
    {
     "data": {
      "text/plain": [
       "3"
      ]
     },
     "execution_count": 65,
     "metadata": {},
     "output_type": "execute_result"
    }
   ],
   "source": [
    "len([\"1\", \"2\", \"3\"])"
   ]
  },
  {
   "cell_type": "markdown",
   "metadata": {},
   "source": [
    "##### 2. for in\n",
    "Lặp qua các phần tử của list"
   ]
  },
  {
   "cell_type": "code",
   "execution_count": 66,
   "metadata": {},
   "outputs": [],
   "source": [
    "nums = [1, 2, 3, 5]"
   ]
  },
  {
   "cell_type": "code",
   "execution_count": 67,
   "metadata": {},
   "outputs": [],
   "source": [
    "sum = 0\n",
    "for num in nums:\n",
    "    sum = sum + num"
   ]
  },
  {
   "cell_type": "code",
   "execution_count": 68,
   "metadata": {},
   "outputs": [
    {
     "data": {
      "text/plain": [
       "11"
      ]
     },
     "execution_count": 68,
     "metadata": {},
     "output_type": "execute_result"
    }
   ],
   "source": [
    "sum"
   ]
  },
  {
   "cell_type": "markdown",
   "metadata": {},
   "source": [
    "##### 3. in\n",
    "Kiểm tra một phần tử tồn tại trong list"
   ]
  },
  {
   "cell_type": "code",
   "execution_count": 82,
   "metadata": {},
   "outputs": [
    {
     "name": "stdout",
     "output_type": "stream",
     "text": [
      "Found\n"
     ]
    }
   ],
   "source": [
    "if 1 in [1, 2, 3]:\n",
    "    print (\"Found\")"
   ]
  },
  {
   "cell_type": "markdown",
   "metadata": {},
   "source": [
    "##### 4. range(number)\n",
    "\n",
    "Trả về một list integer bắt đầu bằng 0 và kết thúc là (number - 1)"
   ]
  },
  {
   "cell_type": "code",
   "execution_count": 70,
   "metadata": {},
   "outputs": [
    {
     "data": {
      "text/plain": [
       "range(0, 20)"
      ]
     },
     "execution_count": 70,
     "metadata": {},
     "output_type": "execute_result"
    }
   ],
   "source": [
    "range(20)"
   ]
  },
  {
   "cell_type": "markdown",
   "metadata": {},
   "source": [
    "##### 5. while loop\n",
    "Vòng lặp vô tận"
   ]
  },
  {
   "cell_type": "code",
   "execution_count": 71,
   "metadata": {},
   "outputs": [
    {
     "name": "stdout",
     "output_type": "stream",
     "text": [
      "fridge\n",
      "air conditional\n",
      "fan\n"
     ]
    }
   ],
   "source": [
    "equipments = [\"fridge\", \"air conditional\", \"fan\"]\n",
    "\n",
    "i = 0\n",
    "while i < len(equipments):\n",
    "    print(equipments[i])\n",
    "    i += 1\n",
    "    "
   ]
  },
  {
   "cell_type": "markdown",
   "metadata": {},
   "source": [
    "##### 6. map()\n",
    "Trả về một list được tính toán dựa trên điều kiện cho trước"
   ]
  },
  {
   "cell_type": "code",
   "execution_count": 79,
   "metadata": {},
   "outputs": [],
   "source": [
    "nums = [20, 30, 50, 60]"
   ]
  },
  {
   "cell_type": "code",
   "execution_count": 80,
   "metadata": {},
   "outputs": [],
   "source": [
    "def half(elem):\n",
    "    return elem/2"
   ]
  },
  {
   "cell_type": "code",
   "execution_count": 84,
   "metadata": {},
   "outputs": [
    {
     "data": {
      "text/plain": [
       "[10.0, 15.0, 25.0, 30.0]"
      ]
     },
     "execution_count": 84,
     "metadata": {},
     "output_type": "execute_result"
    }
   ],
   "source": [
    "answer = map(half, nums)\n",
    "list(answer)"
   ]
  },
  {
   "cell_type": "markdown",
   "metadata": {},
   "source": [
    "##### 7. filter()\n",
    "Trả về một list được lọc theo một điều kiện cho trước"
   ]
  },
  {
   "cell_type": "code",
   "execution_count": 85,
   "metadata": {},
   "outputs": [],
   "source": [
    "nums2 = [10, -1, 20, -70, 6]"
   ]
  },
  {
   "cell_type": "code",
   "execution_count": 86,
   "metadata": {},
   "outputs": [],
   "source": [
    "def filterPositive(elem):\n",
    "    return elem > 0"
   ]
  },
  {
   "cell_type": "code",
   "execution_count": 88,
   "metadata": {},
   "outputs": [
    {
     "data": {
      "text/plain": [
       "[10, 20, 6]"
      ]
     },
     "execution_count": 88,
     "metadata": {},
     "output_type": "execute_result"
    }
   ],
   "source": [
    "list(filter(filterPositive, nums2))"
   ]
  },
  {
   "cell_type": "markdown",
   "metadata": {},
   "source": [
    "##### 8. zip()\n",
    "Nhóm các phần tử trong các list ở vị trí có chỉ mục tương ứng, mỗi nhóm trở thành một tuple đồng thời là một phần tử tương ứng trong một list mới"
   ]
  },
  {
   "cell_type": "code",
   "execution_count": 89,
   "metadata": {},
   "outputs": [],
   "source": [
    "nums3 = [1, 2, 3]"
   ]
  },
  {
   "cell_type": "code",
   "execution_count": 90,
   "metadata": {},
   "outputs": [],
   "source": [
    "foods = [\"sushi\", \"steak\", \"caviar\"]"
   ]
  },
  {
   "cell_type": "code",
   "execution_count": 91,
   "metadata": {},
   "outputs": [],
   "source": [
    "countries = [\"Japan\", \"US\", \"UK\"]"
   ]
  },
  {
   "cell_type": "code",
   "execution_count": 93,
   "metadata": {},
   "outputs": [
    {
     "data": {
      "text/plain": [
       "[(1, 'sushi', 'Japan'), (2, 'steak', 'US'), (3, 'caviar', 'UK')]"
      ]
     },
     "execution_count": 93,
     "metadata": {},
     "output_type": "execute_result"
    }
   ],
   "source": [
    "list(zip(nums3, foods, countries))"
   ]
  },
  {
   "cell_type": "markdown",
   "metadata": {},
   "source": [
    "### List, Set, and Dict Comprehension\n",
    "List Comprehension is a very feature of Python, that allow us to create a list by filtering the elements of a collection, transforming the elements pasing the filter in one expression. For example, the following code creates a list of even numbers from a list of numbers"
   ]
  },
  {
   "cell_type": "markdown",
   "metadata": {},
   "source": [
    "List Comprehension (cách viết code ngắn gọn để tạo một danh sách phức tạp) nghe có vẻ phức tạp nhưng thực tế không phải như vậy. Trong Python, nó chỉ đơn giản là cách nhanh chóng để lọc hoặc chỉnh sửa một danh sách dựa trên một số tiêu chí. List Comprehension giúp bạn viết code ngắn gọn (đặc biệt khi đang ở trong một vòng lặp đã có) và dễ đọc, nhìn code hơn"
   ]
  },
  {
   "cell_type": "code",
   "execution_count": 94,
   "metadata": {},
   "outputs": [
    {
     "name": "stdout",
     "output_type": "stream",
     "text": [
      "['a', 'b', 'c', 'd']\n",
      "['A', 'B', 'C', 'D']\n"
     ]
    }
   ],
   "source": [
    "letters = ['a', 'b', 'c', 'd']\n",
    "print(letters)\n",
    "\n",
    "upper_letters = []\n",
    "for letter in letters:\n",
    "    result = letter.upper()\n",
    "    upper_letters.append(result)\n",
    "\n",
    "print(upper_letters)"
   ]
  },
  {
   "cell_type": "markdown",
   "metadata": {},
   "source": [
    " Bây giờ ví dụ dưới đây cũng tương tự như trên, nhưng thực hiện trong một dòng code duy nhất sử dụng List Comprehension Python cơ bản:"
   ]
  },
  {
   "cell_type": "code",
   "execution_count": 96,
   "metadata": {},
   "outputs": [
    {
     "name": "stdout",
     "output_type": "stream",
     "text": [
      "['a', 'b', 'c', 'd']\n",
      "['A', 'B', 'C', 'D']\n"
     ]
    }
   ],
   "source": [
    "letters = ['a', 'b', 'c', 'd']\n",
    "print(letters)\n",
    "\n",
    "upper_letters = [x.upper() for x in letters]\n",
    "\n",
    "print(upper_letters)"
   ]
  },
  {
   "cell_type": "markdown",
   "metadata": {},
   "source": [
    "-  Ví dụ này tạo ra một list (danh sách) được gọi là letters để lưu trữ các chữ thường “a”, “b”, “c” và “d”. Giả sử bạn muốn biến tất cả các phần tử trong danh sách này thành chữ hoa mà không sử dụng List Comprehension, bạn sẽ phải tạo một danh sách mới lưu trữ kết quả (được gọi là upper_letters), lặp qua mọi phần tử trong danh sách letters, chuyển đổi từng chữ cái (và lưu trữ nó trong result), và sau đó thêm chữ viết hoa vào trong danh sách mới. Bạn thấy đấy, có quá nhiều việc cần làm.\n",
    "\n",
    "- List Comprehension ở đây gần như tương đương, thay thế vòng lặp. Nó chuyển đổi mỗi một chữ cái trong danh sách letters và trả về kết quả như một danh sách mới. List Comprehension chỉ làm việc trên danh sách và trả lại trên danh sách mới.\n",
    "\n",
    "- Có ba phần trong List Comprehension. List Comprehension phải bắt đầu và kết thúc bằng dấu ngoặc vuông ([ và ]). Đây là cách nó được thiết kế và cho phép Python biết rằng bạn sẽ làm việc với một danh sách.\n",
    "\n",
    "- Bên trong dấu ngoặc vuông này, bạn cần bắt đầu với kết quả. Đây là những gì bạn muốn làm với mỗi phần tử trong danh sách. Trong ví dụ trên, đoạn code sau chuyển đổi mỗi phần tử (được tham chiếu bằng tên biến x) thành chữ viết hoa sử dụng phương thức upper(), là một phần của thư viện cơ bản Python:"
   ]
  },
  {
   "cell_type": "markdown",
   "metadata": {},
   "source": [
    "### Phần thứ ba của List Comprehension trong Python"
   ]
  },
  {
   "cell_type": "code",
   "execution_count": 100,
   "metadata": {},
   "outputs": [
    {
     "name": "stdout",
     "output_type": "stream",
     "text": [
      "[1, 34, 5, 7, 3, 57, 356]\n",
      "[34, 57, 356]\n"
     ]
    }
   ],
   "source": [
    "ages = [1, 34, 5, 7, 3, 57, 356]\n",
    "print(ages)\n",
    "\n",
    "old_ages = [x for x in ages if x > 10]\n",
    "print(old_ages)"
   ]
  },
  {
   "cell_type": "markdown",
   "metadata": {},
   "source": [
    "-Ví dụ này sử dụng danh sách mới được gọi là ages. Danh sách old_ages được tạo bằng cách sử dụng List Comprehension. Điều kiện if ở cuối nghĩa là chỉ có các phần tử trong danh sách phù hợp với tiêu chí mới được thêm vào danh sách mới. Trong ví dụ này, bất cứ tuổi nào lớn hơn 10 đều được thêm vào danh sách."
   ]
  },
  {
   "cell_type": "markdown",
   "metadata": {},
   "source": [
    "### Trường hợp không nên sử dụng List Comprehension"
   ]
  },
  {
   "cell_type": "code",
   "execution_count": 101,
   "metadata": {},
   "outputs": [],
   "source": [
    "old_ages = [x for x in ages if x > 10 and x < 100 and x is not None]"
   ]
  },
  {
   "cell_type": "markdown",
   "metadata": {},
   "source": [
    "- List Comprehension rất tuyệt nhưng không phải trường hợp nào cũng có thể sử dụng nó. Bạn không nên sử dụng nó khi có nhiều hơn một điều kiện.\n",
    "\n",
    "- Code này vẫn hoạt động nhưng nó bắt đầu dài và khó hiểu. Tương tự như vậy, bất cứ code nào có nhiều hơn một hàm đơn giản cũng không nên sử dụng List Comprehension. Trong ví dụ này, bạn sẽ nhận lỗi:\n"
   ]
  },
  {
   "cell_type": "code",
   "execution_count": 102,
   "metadata": {},
   "outputs": [
    {
     "name": "stdout",
     "output_type": "stream",
     "text": [
      "['a', 'b', 'c', 'd', 2]\n"
     ]
    },
    {
     "ename": "AttributeError",
     "evalue": "'int' object has no attribute 'upper'",
     "output_type": "error",
     "traceback": [
      "\u001b[0;31m---------------------------------------------------------------------------\u001b[0m",
      "\u001b[0;31mAttributeError\u001b[0m                            Traceback (most recent call last)",
      "\u001b[0;32m<ipython-input-102-7f4a3058f13c>\u001b[0m in \u001b[0;36m<module>\u001b[0;34m\u001b[0m\n\u001b[1;32m      2\u001b[0m \u001b[0mprint\u001b[0m\u001b[0;34m(\u001b[0m\u001b[0mletters\u001b[0m\u001b[0;34m)\u001b[0m\u001b[0;34m\u001b[0m\u001b[0;34m\u001b[0m\u001b[0m\n\u001b[1;32m      3\u001b[0m \u001b[0;34m\u001b[0m\u001b[0m\n\u001b[0;32m----> 4\u001b[0;31m \u001b[0mupper_letters\u001b[0m \u001b[0;34m=\u001b[0m \u001b[0;34m[\u001b[0m\u001b[0mx\u001b[0m\u001b[0;34m.\u001b[0m\u001b[0mupper\u001b[0m\u001b[0;34m(\u001b[0m\u001b[0;34m)\u001b[0m \u001b[0;32mfor\u001b[0m \u001b[0mx\u001b[0m \u001b[0;32min\u001b[0m \u001b[0mletters\u001b[0m\u001b[0;34m]\u001b[0m\u001b[0;34m\u001b[0m\u001b[0;34m\u001b[0m\u001b[0m\n\u001b[0m\u001b[1;32m      5\u001b[0m \u001b[0mprint\u001b[0m\u001b[0;34m(\u001b[0m\u001b[0mupper_letters\u001b[0m\u001b[0;34m)\u001b[0m\u001b[0;34m\u001b[0m\u001b[0;34m\u001b[0m\u001b[0m\n",
      "\u001b[0;32m<ipython-input-102-7f4a3058f13c>\u001b[0m in \u001b[0;36m<listcomp>\u001b[0;34m(.0)\u001b[0m\n\u001b[1;32m      2\u001b[0m \u001b[0mprint\u001b[0m\u001b[0;34m(\u001b[0m\u001b[0mletters\u001b[0m\u001b[0;34m)\u001b[0m\u001b[0;34m\u001b[0m\u001b[0;34m\u001b[0m\u001b[0m\n\u001b[1;32m      3\u001b[0m \u001b[0;34m\u001b[0m\u001b[0m\n\u001b[0;32m----> 4\u001b[0;31m \u001b[0mupper_letters\u001b[0m \u001b[0;34m=\u001b[0m \u001b[0;34m[\u001b[0m\u001b[0mx\u001b[0m\u001b[0;34m.\u001b[0m\u001b[0mupper\u001b[0m\u001b[0;34m(\u001b[0m\u001b[0;34m)\u001b[0m \u001b[0;32mfor\u001b[0m \u001b[0mx\u001b[0m \u001b[0;32min\u001b[0m \u001b[0mletters\u001b[0m\u001b[0;34m]\u001b[0m\u001b[0;34m\u001b[0m\u001b[0;34m\u001b[0m\u001b[0m\n\u001b[0m\u001b[1;32m      5\u001b[0m \u001b[0mprint\u001b[0m\u001b[0;34m(\u001b[0m\u001b[0mupper_letters\u001b[0m\u001b[0;34m)\u001b[0m\u001b[0;34m\u001b[0m\u001b[0;34m\u001b[0m\u001b[0m\n",
      "\u001b[0;31mAttributeError\u001b[0m: 'int' object has no attribute 'upper'"
     ]
    }
   ],
   "source": [
    "letters = ['a', 'b', 'c', 'd', 2]\n",
    "print(letters)\n",
    "\n",
    "upper_letters = [x.upper() for x in letters]\n",
    "print(upper_letters)"
   ]
  },
  {
   "cell_type": "code",
   "execution_count": 103,
   "metadata": {},
   "outputs": [
    {
     "name": "stdout",
     "output_type": "stream",
     "text": [
      "['a', 'b', 'c', 'd', 1]\n",
      "['A', 'B', 'C', 'D']\n"
     ]
    }
   ],
   "source": [
    "letters = ['a', 'b', 'c', 'd', 1]\n",
    "print(letters)\n",
    "\n",
    "upper_letters = []\n",
    "\n",
    "for letter in letters:\n",
    "    try:\n",
    "        result = letter.upper()\n",
    "        upper_letters.append(result)\n",
    "    except AttributeError:\n",
    "        pass # do nothing\n",
    "\n",
    "print(upper_letters)"
   ]
  },
  {
   "cell_type": "code",
   "execution_count": null,
   "metadata": {},
   "outputs": [],
   "source": []
  }
 ],
 "metadata": {
  "kernelspec": {
   "display_name": "Python 3",
   "language": "python",
   "name": "python3"
  },
  "language_info": {
   "codemirror_mode": {
    "name": "ipython",
    "version": 3
   },
   "file_extension": ".py",
   "mimetype": "text/x-python",
   "name": "python",
   "nbconvert_exporter": "python",
   "pygments_lexer": "ipython3",
   "version": "3.8.3"
  }
 },
 "nbformat": 4,
 "nbformat_minor": 2
}
