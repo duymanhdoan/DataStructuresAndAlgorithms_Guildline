{
 "cells": [
  {
   "cell_type": "markdown",
   "metadata": {},
   "source": [
    "## I. Node\n",
    "\n",
    "----\n",
    "\n",
    "Xem thêm về [Node](https://www.tutorialspoint.com/python/python_nodes.htm)\n",
    "\n",
    "Một Node không chỉ chứa giá trị của Node đó mà còn chứa địa chỉ của phần từ tiếp theo nó\n"
   ]
  },
  {
   "cell_type": "markdown",
   "metadata": {},
   "source": [
    "### 1. Cách tạo 1 Node"
   ]
  },
  {
   "cell_type": "markdown",
   "metadata": {},
   "source": [
    "![](https://lh3.googleusercontent.com/TCwP9UEkLbD79ZfPoQkZ4RzUlCt4d4CseB5ZW_wkDKraywQveZZg6s41bvA51rqSMgddFBnJF0nQmLV2D4Kyo9b-fH195mQG56HstGHdDobkeERIBGUlLxGNwEUBxogx9WuKkywhdil-AwmfUIzo0Dhb4S5ZcrQiaQfSpWxqSk1wwvWOXlRG9Aef7H0SU1AsxA_6iZt9nOFF6a_4fEJvxjcJARfG6SLzjvu8PvF1Bg_hZXnryjx4jnAAYRaTzeOi6YBumuZF6UtenMu-ZhekNUwvkGU4jaJZZS2vzoMZe-b6og18F6L_h4_T-6Ccvym2oRmdT63EGTlR3Bv-nz6ULU8TurCB0veKr8Pu8xeetGw9CuonG1EJIoSwWqi-LMm2HtgFehF_ZJf2gmTevT6VM5oH_PR8oezMAAZ3csKx8yq0_NpOqQCz-qFV9mV1aEoh0ObF14PsePxwA9EJZGztgvCwpHFozvcrUopH0h5vuRF1ok4jT9G1RTG0cnRWVhVNwA-K6KDXo0lfSYv5-zAQ__xzf1CcZ1ZWHSXnQgTfZrDtGZHe2PxmEsbnFk-60WZPgbzRaV2ZqzTPuC5iu_2168SalwgG7CSi84yAKtrNOFIyvpw3ZVoaQ2xMkUIS1UZEOLjBpczvYulePi6QaNlGuFffIioC7DtdOg=w800-h400-no)"
   ]
  },
  {
   "cell_type": "markdown",
   "metadata": {},
   "source": [
    "Ta tạo ra 1 Class có 2 biến thực thế (instance variable).\n",
    "    - 1 là val sẽ chứa giá trị của thực thể đó\n",
    "    - 2 là nextVal sẽ trỏ đến thực thể kế tiếp"
   ]
  },
  {
   "cell_type": "code",
   "execution_count": 13,
   "metadata": {},
   "outputs": [],
   "source": [
    "class Number:\n",
    "    def __init__(self, val):\n",
    "        self.val = val\n",
    "        self.next = None"
   ]
  },
  {
   "cell_type": "code",
   "execution_count": 14,
   "metadata": {},
   "outputs": [],
   "source": [
    "number1 = Number(1)"
   ]
  },
  {
   "cell_type": "code",
   "execution_count": 15,
   "metadata": {},
   "outputs": [],
   "source": [
    "number2 = Number(2)"
   ]
  },
  {
   "cell_type": "code",
   "execution_count": 16,
   "metadata": {},
   "outputs": [],
   "source": [
    "number3 = Number(3)"
   ]
  },
  {
   "cell_type": "code",
   "execution_count": 17,
   "metadata": {},
   "outputs": [],
   "source": [
    "number1.next = number2"
   ]
  },
  {
   "cell_type": "code",
   "execution_count": 18,
   "metadata": {},
   "outputs": [],
   "source": [
    "number2.next = number3"
   ]
  },
  {
   "cell_type": "markdown",
   "metadata": {},
   "source": [
    "### 2. Truy cập giá trị của các node"
   ]
  },
  {
   "cell_type": "code",
   "execution_count": 19,
   "metadata": {},
   "outputs": [
    {
     "data": {
      "text/plain": [
       "2"
      ]
     },
     "execution_count": 19,
     "metadata": {},
     "output_type": "execute_result"
    }
   ],
   "source": [
    "# Từ number1 truy cập giá trị của nmber2\n",
    "number1.next.val"
   ]
  },
  {
   "cell_type": "code",
   "execution_count": 20,
   "metadata": {},
   "outputs": [
    {
     "data": {
      "text/plain": [
       "3"
      ]
     },
     "execution_count": 20,
     "metadata": {},
     "output_type": "execute_result"
    }
   ],
   "source": [
    "# Từ number1 truy cập giá trị của number3\n",
    "number1.next.next.val"
   ]
  },
  {
   "cell_type": "code",
   "execution_count": 21,
   "metadata": {},
   "outputs": [
    {
     "data": {
      "text/plain": [
       "3"
      ]
     },
     "execution_count": 21,
     "metadata": {},
     "output_type": "execute_result"
    }
   ],
   "source": [
    "# Từ number2 truy cập giá trị của number3\n",
    "number2.next.val"
   ]
  },
  {
   "cell_type": "markdown",
   "metadata": {},
   "source": [
    "### 3. Đọc toàn bộ dữ liệu của các node"
   ]
  },
  {
   "cell_type": "code",
   "execution_count": 22,
   "metadata": {},
   "outputs": [],
   "source": [
    "currentNode = number1"
   ]
  },
  {
   "cell_type": "code",
   "execution_count": 23,
   "metadata": {},
   "outputs": [
    {
     "name": "stdout",
     "output_type": "stream",
     "text": [
      "1\n",
      "2\n",
      "3\n"
     ]
    }
   ],
   "source": [
    "while currentNode:\n",
    "    print(currentNode.val)\n",
    "    currentNode = currentNode.next"
   ]
  },
  {
   "cell_type": "markdown",
   "metadata": {},
   "source": [
    "## II. Linked List\n",
    "----"
   ]
  },
  {
   "cell_type": "markdown",
   "metadata": {},
   "source": [
    "Xem thêm về [Linked List](https://www.tutorialspoint.com/python/python_linked_lists.htm)"
   ]
  },
  {
   "cell_type": "markdown",
   "metadata": {},
   "source": [
    "Linked List là chuỗi các phần tử mà tất cả được kết nối với nhau thông qua các liên kết(link). Mỗi phần tử ngoài việc lưu trữ giá trị của mình, nó còn lưu thêm vị trí của phần tử kế tiếp nó. \n",
    "\n",
    "Bản chất ta có thể thấy Linked List là chuỗi được ghép bởi các **Node** ta đã thực hiện ở phía trên"
   ]
  },
  {
   "cell_type": "code",
   "execution_count": 24,
   "metadata": {},
   "outputs": [],
   "source": [
    "# Implement lại Node\n",
    "class Number:\n",
    "    def __init__(self, val):\n",
    "        self.val = val\n",
    "        self.next = None"
   ]
  },
  {
   "cell_type": "code",
   "execution_count": 25,
   "metadata": {},
   "outputs": [
    {
     "data": {
      "text/plain": [
       "__main__.Number"
      ]
     },
     "execution_count": 25,
     "metadata": {},
     "output_type": "execute_result"
    }
   ],
   "source": [
    "number1 = Number(1)\n",
    "number2 = Number(2)\n",
    "number3 = Number(3)\n",
    "\n",
    "type(number1)"
   ]
  },
  {
   "cell_type": "code",
   "execution_count": 26,
   "metadata": {},
   "outputs": [],
   "source": [
    "class LinkedList:\n",
    "    def __init__(self):\n",
    "        # biến thực thể head đại diện cho Node ở đầu List\n",
    "        self.head = None\n",
    "        \n",
    "    # Hàm in tất cả các giá trị trong List\n",
    "    def printVal(self):\n",
    "        currentNode = self.head\n",
    "        while currentNode:\n",
    "            print(currentNode.val)\n",
    "            currentNode = currentNode.next\n",
    "            \n",
    "    # Thêm một Node vào cuối cùng của List\n",
    "    def appendNode(self, node):\n",
    "        if isinstance(node, Number):\n",
    "            currentNode = self.head\n",
    "            # Lặp qua tất cả các Node. \n",
    "            # Nếu Node tiếp theo tồn tại thì di chuyển vị trí hiện tại sang Node tiếp theo\n",
    "            # Nếu Node tiếp theo không tồn tại thì thêm Node mới\n",
    "            while currentNode:\n",
    "                if currentNode.next is not None:\n",
    "                    currentNode = currentNode.next\n",
    "                else:\n",
    "                    currentNode.next = node\n",
    "                    break\n",
    "        else:\n",
    "            raise ValueError(\"This is not Number Node type.\") \n",
    "    "
   ]
  },
  {
   "cell_type": "code",
   "execution_count": 27,
   "metadata": {},
   "outputs": [],
   "source": [
    "# Khởi tạo một Linked List\n",
    "list1 = LinkedList()"
   ]
  },
  {
   "cell_type": "code",
   "execution_count": 28,
   "metadata": {},
   "outputs": [],
   "source": [
    "# Đặt đầu List là Node number1\n",
    "list1.head = number1"
   ]
  },
  {
   "cell_type": "code",
   "execution_count": 29,
   "metadata": {},
   "outputs": [],
   "source": [
    "# Nối Node đầu với Node thứ hai\n",
    "number1.next = number2"
   ]
  },
  {
   "cell_type": "code",
   "execution_count": 30,
   "metadata": {},
   "outputs": [],
   "source": [
    "# Nối Node thứ hai với Node thứ ba\n",
    "number2.next = number3"
   ]
  },
  {
   "cell_type": "code",
   "execution_count": 31,
   "metadata": {},
   "outputs": [
    {
     "data": {
      "text/plain": [
       "3"
      ]
     },
     "execution_count": 31,
     "metadata": {},
     "output_type": "execute_result"
    }
   ],
   "source": [
    "# In giá trị của Node thứ ba\n",
    "list1.head.next.next.val"
   ]
  },
  {
   "cell_type": "code",
   "execution_count": 32,
   "metadata": {},
   "outputs": [
    {
     "name": "stdout",
     "output_type": "stream",
     "text": [
      "1\n",
      "2\n",
      "3\n"
     ]
    }
   ],
   "source": [
    "# In tất cả các giá trị trong List\n",
    "list1.printVal()"
   ]
  },
  {
   "cell_type": "code",
   "execution_count": 33,
   "metadata": {},
   "outputs": [],
   "source": [
    "# Thêm một Node có giá trị 4 vào cuối List\n",
    "number4 = Number(4)\n",
    "list1.appendNode(number4)"
   ]
  },
  {
   "cell_type": "code",
   "execution_count": 34,
   "metadata": {},
   "outputs": [
    {
     "name": "stdout",
     "output_type": "stream",
     "text": [
      "1\n",
      "2\n",
      "3\n",
      "4\n"
     ]
    }
   ],
   "source": [
    "# Kiểm tra lại giá trị của List\n",
    "list1.printVal()"
   ]
  },
  {
   "cell_type": "markdown",
   "metadata": {},
   "source": [
    "## Một số bài tập luyện tập"
   ]
  },
  {
   "cell_type": "markdown",
   "metadata": {},
   "source": [
    "### 1. Leetcode 1290: Chuyển một Linked List nhị phân thành số nguyên hệ 10"
   ]
  },
  {
   "cell_type": "markdown",
   "metadata": {},
   "source": [
    "![img](./images/Linkedlist/3.png)"
   ]
  },
  {
   "cell_type": "markdown",
   "metadata": {},
   "source": [
    "[Link bài](https://leetcode.com/problems/convert-binary-number-in-a-linked-list-to-integer/)"
   ]
  },
  {
   "cell_type": "code",
   "execution_count": 61,
   "metadata": {},
   "outputs": [],
   "source": [
    "def buildLinkedListFromArray(arr):\n",
    "    linkedList = LinkedList()\n",
    "    if len(arr) == 0:\n",
    "        return linkedList\n",
    "    \n",
    "    head = Number(arr[0])\n",
    "    linkedList.head = head\n",
    "    for idx in range(1, len(arr)):\n",
    "        head.next = Number(arr[idx])\n",
    "        head = head.next\n",
    "        \n",
    "    return linkedList"
   ]
  },
  {
   "cell_type": "code",
   "execution_count": 62,
   "metadata": {},
   "outputs": [],
   "source": [
    "inp = [1,0,0,1,0]"
   ]
  },
  {
   "cell_type": "code",
   "execution_count": 63,
   "metadata": {},
   "outputs": [],
   "source": [
    "linkedList = buildLinkedListFromArray(inp)"
   ]
  },
  {
   "cell_type": "markdown",
   "metadata": {},
   "source": [
    "Ý tưởng:\n",
    "    - Duyệt qua từng phần tử sử dụng công thức chuyển số nhị phân thành hệ 10\n",
    "    - Ví dụ hệ 10 của 110: (((0 * 2 + 1) * 2 + 1) * 2) + 0"
   ]
  },
  {
   "cell_type": "code",
   "execution_count": 64,
   "metadata": {
    "scrolled": false
   },
   "outputs": [
    {
     "data": {
      "text/plain": [
       "6"
      ]
     },
     "execution_count": 64,
     "metadata": {},
     "output_type": "execute_result"
    }
   ],
   "source": [
    "(((0 * 2 + 1) * 2 + 1) * 2) + 0"
   ]
  },
  {
   "cell_type": "code",
   "execution_count": 65,
   "metadata": {
    "scrolled": true
   },
   "outputs": [
    {
     "data": {
      "text/plain": [
       "6"
      ]
     },
     "execution_count": 65,
     "metadata": {},
     "output_type": "execute_result"
    }
   ],
   "source": [
    "int('110', 2)"
   ]
  },
  {
   "cell_type": "markdown",
   "metadata": {},
   "source": [
    "Duyệt qua các phần tử và tính giá trị"
   ]
  },
  {
   "cell_type": "code",
   "execution_count": 66,
   "metadata": {},
   "outputs": [],
   "source": [
    "final = 0"
   ]
  },
  {
   "cell_type": "code",
   "execution_count": 67,
   "metadata": {},
   "outputs": [],
   "source": [
    "currNode = linkedList.head\n",
    "while currNode:\n",
    "    final = (final * 2) + currNode.val\n",
    "    currNode = currNode.next    "
   ]
  },
  {
   "cell_type": "code",
   "execution_count": 68,
   "metadata": {},
   "outputs": [
    {
     "data": {
      "text/plain": [
       "18"
      ]
     },
     "execution_count": 68,
     "metadata": {},
     "output_type": "execute_result"
    }
   ],
   "source": [
    "final"
   ]
  },
  {
   "cell_type": "markdown",
   "metadata": {},
   "source": [
    "### 2. Leetcode 876: Tìm tâm của một Linked List"
   ]
  },
  {
   "cell_type": "markdown",
   "metadata": {},
   "source": [
    "![img](./images/Linkedlist/5.png)"
   ]
  },
  {
   "cell_type": "markdown",
   "metadata": {},
   "source": [
    "[Link bài](https://leetcode.com/problems/middle-of-the-linked-list/)"
   ]
  },
  {
   "cell_type": "code",
   "execution_count": 54,
   "metadata": {},
   "outputs": [],
   "source": [
    "arr = [1, 5, 6, 7, 8, 9, 3]"
   ]
  },
  {
   "cell_type": "code",
   "execution_count": 55,
   "metadata": {},
   "outputs": [],
   "source": [
    "def buildLinkedListFromArray(arr):\n",
    "    linkedList = LinkedList()\n",
    "    if len(arr) == 0:\n",
    "        return linkedList\n",
    "    \n",
    "    head = Number(arr[0])\n",
    "    linkedList.head = head\n",
    "    for idx in range(1, len(arr)):\n",
    "        head.next = Number(arr[idx])\n",
    "        head = head.next\n",
    "        \n",
    "    return linkedList"
   ]
  },
  {
   "cell_type": "code",
   "execution_count": 56,
   "metadata": {},
   "outputs": [],
   "source": [
    "# Tạo một Linked List\n",
    "linkedList = buildLinkedListFromArray(arr)"
   ]
  },
  {
   "cell_type": "markdown",
   "metadata": {},
   "source": [
    "Ý tưởng:\n",
    "    - Tạo 2 con trỏ i và j\n",
    "    - Lặp để duyệt qua Linked List\n",
    "        - Ở một vòng lặp\n",
    "            - Cho con trỏ i nhảy 2 bước\n",
    "            - Cho con trỏ j nhảy 1 bước\n",
    "    - Khi con trỏ j nhảy hết thì i sẽ dừng lại ở tâm Linked List"
   ]
  },
  {
   "cell_type": "code",
   "execution_count": 57,
   "metadata": {},
   "outputs": [],
   "source": [
    "def getMiddleOfLinkedList(linkedList):\n",
    "    i = linkedList.head\n",
    "    j = linkedList.head\n",
    "    \n",
    "    while i and i.next:\n",
    "        i = i.next.next\n",
    "        j = j.next\n",
    "    return j"
   ]
  },
  {
   "cell_type": "markdown",
   "metadata": {},
   "source": [
    "#### 3 chính là điểm chính giữa của Linked List"
   ]
  },
  {
   "cell_type": "code",
   "execution_count": 58,
   "metadata": {
    "scrolled": true
   },
   "outputs": [
    {
     "data": {
      "text/plain": [
       "7"
      ]
     },
     "execution_count": 58,
     "metadata": {},
     "output_type": "execute_result"
    }
   ],
   "source": [
    "getMiddleOfLinkedList(linkedList).val"
   ]
  }
 ],
 "metadata": {
  "kernelspec": {
   "display_name": "Python 3",
   "language": "python",
   "name": "python3"
  },
  "language_info": {
   "codemirror_mode": {
    "name": "ipython",
    "version": 3
   },
   "file_extension": ".py",
   "mimetype": "text/x-python",
   "name": "python",
   "nbconvert_exporter": "python",
   "pygments_lexer": "ipython3",
   "version": "3.8.2"
  }
 },
 "nbformat": 4,
 "nbformat_minor": 2
}
