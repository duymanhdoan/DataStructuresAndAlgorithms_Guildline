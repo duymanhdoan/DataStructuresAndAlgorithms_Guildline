{
 "cells": [
  {
   "cell_type": "code",
   "execution_count": 153,
   "id": "c230616d",
   "metadata": {},
   "outputs": [],
   "source": [
    "from collections import defaultdict\n",
    "class Solution:\n",
    "    def lengthOfLIS(self, nums) -> int:\n",
    "        lis = defaultdict(int)\n",
    "        res = 0 \n",
    "            \n",
    "        def dfs(i) -> int:  \n",
    "            \n",
    "            if i in lis: \n",
    "                return lis[i]\n",
    "            \n",
    "            lp = i + 1\n",
    "            tmp = []\n",
    "            while lp < len(nums): \n",
    "                if nums[lp] > nums[i]: \n",
    "                    tmp.append(lp) \n",
    "                lp += 1\n",
    "\n",
    "            if len(tmp)!=0: \n",
    "                for Next in tmp: \n",
    "                    lis[i] = max(lis[i],dfs(Next)+1)\n",
    "            else:\n",
    "                lis[i] = 1\n",
    "            return lis[i] \n",
    "            \n",
    "        \n",
    "        for i in range(len(nums)): \n",
    "            dfs(i)\n",
    "\n",
    "        for elem in lis: \n",
    "            res = max(res, lis[elem])\n",
    "        return res\n",
    "    \n",
    "    \n",
    "    "
   ]
  },
  {
   "cell_type": "code",
   "execution_count": 154,
   "id": "c80b5308",
   "metadata": {},
   "outputs": [
    {
     "data": {
      "text/plain": [
       "4"
      ]
     },
     "execution_count": 154,
     "metadata": {},
     "output_type": "execute_result"
    }
   ],
   "source": [
    "sol = Solution()  \n",
    "sol.lengthOfLIS([10,9,2,5,3,7,101,18]) # n = 4"
   ]
  },
  {
   "cell_type": "code",
   "execution_count": 75,
   "id": "4421499c",
   "metadata": {},
   "outputs": [],
   "source": [
    "def findMaxEvents(arrival, duration):\n",
    "    '''\n",
    "    link: https://leetcode.com/discuss/interview-question/algorithms/374846/Twitter-or-OA-2019-or-University-Career-Fair/528692\n",
    "    mình không rõ cách này nhưng đây là solution mình copy trên mạng . \n",
    "    và solution này cho output đúng trên các test tay mình đã chạy thử. \n",
    "    '''\n",
    "    dp = [0] * 1001\n",
    "    events = list(sorted(zip(arrival, duration)))\n",
    "    j = 0\n",
    "    for i in range(1, 1001):\n",
    "        dp[i] = max(dp[i], dp[i-1])\n",
    "        while j < len(events) and events[j][0] == i:\n",
    "            dp[i+events[j][1]] = max(dp[i+events[j][1]], dp[i] + 1)\n",
    "            j += 1\n",
    "    return dp[-1]\n",
    "\n",
    "def myMaxEvents(arrival, duration):\n",
    "    '''\n",
    "    mình cũng dp theo thứ tự sort lại:  \n",
    "    evt = [[3, 2], [6, 3], [6, 3], [7, 2], [8, 1]] \n",
    "    arrival = [1, 3, 3, 5, 7]\n",
    "    duration = [2, 3, 3, 2, 1]\n",
    "    duyệt i chạy từ cuối mảng về đầu mảng. j = i + 1 chạy về cuối mảng. So sánh tất cả cặp j với cặp i.  \n",
    "    dp được tính khi thỏa mãn hiệu cặp sau >= cặp trước vd: 8 - 1 >= 7: update lại dp[i] tại cặp [7,2] \n",
    "    dp[i] = max(dp[i], dp[j] + 1) \n",
    "    Độ phức tạp: O(n^2) = 50*50 = 2500 \n",
    "    '''\n",
    "    if len(arrival)==0 or len(duration)==0: \n",
    "        return 0\n",
    "    evt = []\n",
    "    for arr, dur in zip(arrival,duration): \n",
    "        evt.append([arr + dur, dur]) \n",
    "    sorted(evt) \n",
    "#     print(evt)\n",
    "    dp = [1]*(len(evt)) \n",
    "    for i in range(len(evt), -1, -1): \n",
    "        for j in range(i+1, len(evt)): \n",
    "            if evt[j][0] - evt[j][1] >= evt[i][0]: \n",
    "                dp[i] = max(dp[i],dp[j] + 1)\n",
    "#                 print(evt[j][0], evt[i][0], df[i], evt[j][0] - evt[j][1],evt[i][0])\n",
    "    return dp[0]"
   ]
  },
  {
   "cell_type": "code",
   "execution_count": 76,
   "id": "d98d42b7",
   "metadata": {},
   "outputs": [
    {
     "name": "stdout",
     "output_type": "stream",
     "text": [
      "True\n",
      "True\n",
      "True\n",
      "True\n",
      "True\n",
      "True\n"
     ]
    }
   ],
   "source": [
    "# compare output of two solution and all of them corrected \n",
    "print(myMaxEvents([], []) == findMaxEvents([], []))\n",
    "print(myMaxEvents  ([1, 3, 3, 5, 7], [2, 3, 3, 2, 1]) == findMaxEvents([1, 3, 3, 5, 7], [2, 3, 3, 2, 1]))\n",
    "print(myMaxEvents  ([1, 3, 3, 5, 7], [2, 2, 1, 2, 1]) == findMaxEvents([1, 3, 3, 5, 7], [2, 2, 1, 2, 1]))\n",
    "print(myMaxEvents([1, 3, 3, 4, 7], [2, 2, 2, 3, 1]) == findMaxEvents([1, 3, 3, 4, 7], [2, 2, 2, 3, 1]))\n",
    "print(myMaxEvents([1], [2]) == findMaxEvents([1], [2]))\n",
    "print(myMaxEvents([1, 3, 4, 6], [4, 3, 3, 2]) == findMaxEvents([1, 3, 4, 6], [4, 3, 3, 2]))\n"
   ]
  },
  {
   "cell_type": "code",
   "execution_count": 1,
   "id": "0ff51ef1",
   "metadata": {},
   "outputs": [
    {
     "ename": "NameError",
     "evalue": "name 'List' is not defined",
     "output_type": "error",
     "traceback": [
      "\u001b[0;31m---------------------------------------------------------------------------\u001b[0m",
      "\u001b[0;31mNameError\u001b[0m                                 Traceback (most recent call last)",
      "\u001b[0;32m<ipython-input-1-d53bdb55322c>\u001b[0m in \u001b[0;36m<module>\u001b[0;34m\u001b[0m\n\u001b[0;32m----> 1\u001b[0;31m \u001b[0;32mclass\u001b[0m \u001b[0mSolution\u001b[0m\u001b[0;34m:\u001b[0m\u001b[0;34m\u001b[0m\u001b[0;34m\u001b[0m\u001b[0m\n\u001b[0m\u001b[1;32m      2\u001b[0m     \u001b[0;32mdef\u001b[0m \u001b[0mnumIslands\u001b[0m\u001b[0;34m(\u001b[0m\u001b[0mself\u001b[0m\u001b[0;34m,\u001b[0m \u001b[0mgrid\u001b[0m\u001b[0;34m:\u001b[0m \u001b[0mList\u001b[0m\u001b[0;34m[\u001b[0m\u001b[0mList\u001b[0m\u001b[0;34m[\u001b[0m\u001b[0mstr\u001b[0m\u001b[0;34m]\u001b[0m\u001b[0;34m]\u001b[0m\u001b[0;34m)\u001b[0m \u001b[0;34m->\u001b[0m \u001b[0mint\u001b[0m\u001b[0;34m:\u001b[0m\u001b[0;34m\u001b[0m\u001b[0;34m\u001b[0m\u001b[0m\n\u001b[1;32m      3\u001b[0m         \u001b[0mrows\u001b[0m\u001b[0;34m,\u001b[0m \u001b[0mcols\u001b[0m \u001b[0;34m=\u001b[0m \u001b[0mlen\u001b[0m\u001b[0;34m(\u001b[0m\u001b[0mgrid\u001b[0m\u001b[0;34m)\u001b[0m\u001b[0;34m,\u001b[0m \u001b[0mlen\u001b[0m\u001b[0;34m(\u001b[0m\u001b[0mgrid\u001b[0m\u001b[0;34m[\u001b[0m\u001b[0;36m0\u001b[0m\u001b[0;34m]\u001b[0m\u001b[0;34m)\u001b[0m \u001b[0;31m# 4, 5\u001b[0m\u001b[0;34m\u001b[0m\u001b[0;34m\u001b[0m\u001b[0m\n\u001b[1;32m      4\u001b[0m         \u001b[0mmatrix\u001b[0m \u001b[0;34m=\u001b[0m \u001b[0;34m[\u001b[0m\u001b[0;34m[\u001b[0m\u001b[0;36m0\u001b[0m\u001b[0;34m]\u001b[0m\u001b[0;34m*\u001b[0m\u001b[0mcols\u001b[0m\u001b[0;34m]\u001b[0m\u001b[0;34m*\u001b[0m\u001b[0mrows\u001b[0m\u001b[0;34m\u001b[0m\u001b[0;34m\u001b[0m\u001b[0m\n\u001b[1;32m      5\u001b[0m         \u001b[0mcolor\u001b[0m \u001b[0;34m=\u001b[0m \u001b[0;36m1\u001b[0m\u001b[0;34m\u001b[0m\u001b[0;34m\u001b[0m\u001b[0m\n",
      "\u001b[0;32m<ipython-input-1-d53bdb55322c>\u001b[0m in \u001b[0;36mSolution\u001b[0;34m()\u001b[0m\n\u001b[1;32m      1\u001b[0m \u001b[0;32mclass\u001b[0m \u001b[0mSolution\u001b[0m\u001b[0;34m:\u001b[0m\u001b[0;34m\u001b[0m\u001b[0;34m\u001b[0m\u001b[0m\n\u001b[0;32m----> 2\u001b[0;31m     \u001b[0;32mdef\u001b[0m \u001b[0mnumIslands\u001b[0m\u001b[0;34m(\u001b[0m\u001b[0mself\u001b[0m\u001b[0;34m,\u001b[0m \u001b[0mgrid\u001b[0m\u001b[0;34m:\u001b[0m \u001b[0mList\u001b[0m\u001b[0;34m[\u001b[0m\u001b[0mList\u001b[0m\u001b[0;34m[\u001b[0m\u001b[0mstr\u001b[0m\u001b[0;34m]\u001b[0m\u001b[0;34m]\u001b[0m\u001b[0;34m)\u001b[0m \u001b[0;34m->\u001b[0m \u001b[0mint\u001b[0m\u001b[0;34m:\u001b[0m\u001b[0;34m\u001b[0m\u001b[0;34m\u001b[0m\u001b[0m\n\u001b[0m\u001b[1;32m      3\u001b[0m         \u001b[0mrows\u001b[0m\u001b[0;34m,\u001b[0m \u001b[0mcols\u001b[0m \u001b[0;34m=\u001b[0m \u001b[0mlen\u001b[0m\u001b[0;34m(\u001b[0m\u001b[0mgrid\u001b[0m\u001b[0;34m)\u001b[0m\u001b[0;34m,\u001b[0m \u001b[0mlen\u001b[0m\u001b[0;34m(\u001b[0m\u001b[0mgrid\u001b[0m\u001b[0;34m[\u001b[0m\u001b[0;36m0\u001b[0m\u001b[0;34m]\u001b[0m\u001b[0;34m)\u001b[0m \u001b[0;31m# 4, 5\u001b[0m\u001b[0;34m\u001b[0m\u001b[0;34m\u001b[0m\u001b[0m\n\u001b[1;32m      4\u001b[0m         \u001b[0mmatrix\u001b[0m \u001b[0;34m=\u001b[0m \u001b[0;34m[\u001b[0m\u001b[0;34m[\u001b[0m\u001b[0;36m0\u001b[0m\u001b[0;34m]\u001b[0m\u001b[0;34m*\u001b[0m\u001b[0mcols\u001b[0m\u001b[0;34m]\u001b[0m\u001b[0;34m*\u001b[0m\u001b[0mrows\u001b[0m\u001b[0;34m\u001b[0m\u001b[0;34m\u001b[0m\u001b[0m\n\u001b[1;32m      5\u001b[0m         \u001b[0mcolor\u001b[0m \u001b[0;34m=\u001b[0m \u001b[0;36m1\u001b[0m\u001b[0;34m\u001b[0m\u001b[0;34m\u001b[0m\u001b[0m\n",
      "\u001b[0;31mNameError\u001b[0m: name 'List' is not defined"
     ]
    }
   ],
   "source": [
    "class Solution:\n",
    "    def numIslands(self, grid: List[List[str]]) -> int:\n",
    "        rows, cols = len(grid), len(grid[0]) # 4, 5\n",
    "        matrix = [[0]*cols]*rows\n",
    "        color = 1\n",
    "        r = [1, -1, 0,  0]\n",
    "        d = [0,  0, 1, -1] \n",
    "        def valid(row, col):\n",
    "            if 0<= row and row < rows and 0 <= col and col < cols: \n",
    "                return True\n",
    "            return False \n",
    "        \n",
    "        def loang(row, col): \n",
    "            if matrix[row][col] == 0 and grid[row][col] == 1:\n",
    "                matrix[row][col] = color\n",
    "            for i, j in zip(r,d): \n",
    "                idx1,idx2  = row + i, col + j\n",
    "                if valid(idx1,idx2) and grid[idx1][idx2] == \"1\" and matrix[row][col] == 0: \n",
    "                    loang(idx1, idx2)\n",
    "            return \n",
    "        \n",
    "        color = 1\n",
    "        for row in range(rows):\n",
    "            for col in range(cols):\n",
    "                if grid[row][col] == \"1\" and matrix[row][col] == 0: \n",
    "                    loang(row, col)\n",
    "                    color += 1 \n",
    "        print(matrix)           \n",
    "        return color - 1"
   ]
  },
  {
   "cell_type": "code",
   "execution_count": null,
   "id": "8243f595",
   "metadata": {},
   "outputs": [],
   "source": []
  },
  {
   "cell_type": "code",
   "execution_count": null,
   "id": "54b720d7",
   "metadata": {},
   "outputs": [],
   "source": []
  },
  {
   "cell_type": "code",
   "execution_count": null,
   "id": "4c244384",
   "metadata": {},
   "outputs": [],
   "source": []
  }
 ],
 "metadata": {
  "kernelspec": {
   "display_name": "Python 3",
   "language": "python",
   "name": "python3"
  },
  "language_info": {
   "codemirror_mode": {
    "name": "ipython",
    "version": 3
   },
   "file_extension": ".py",
   "mimetype": "text/x-python",
   "name": "python",
   "nbconvert_exporter": "python",
   "pygments_lexer": "ipython3",
   "version": "3.6.13"
  }
 },
 "nbformat": 4,
 "nbformat_minor": 5
}
