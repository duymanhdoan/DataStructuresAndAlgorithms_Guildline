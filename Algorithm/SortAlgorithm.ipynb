{
 "cells": [
  {
   "cell_type": "markdown",
   "metadata": {},
   "source": [
    " [](https://res.cloudinary.com/practicaldev/image/fetch/s--HMFtIGpt--/c_limit%2Cf_auto%2Cfl_progressive%2Cq_auto%2Cw_880/https://www.w3resource.com/w3r_images/selection-short.png)"
   ]
  },
  {
   "cell_type": "markdown",
   "metadata": {},
   "source": [
    "[](https://res.cloudinary.com/practicaldev/image/fetch/s--HMFtIGpt--/c_limit%2Cf_auto%2Cfl_progressive%2Cq_auto%2Cw_880/https://www.w3resource.com/w3r_images/selection-short.png)"
   ]
  },
  {
   "cell_type": "markdown",
   "metadata": {},
   "source": [
    "### Khi so sánh giữa các thuật toán này với nhau, có nhiều vấn đề phải quan tâm.\n",
    "\n",
    "#### Thời gian chạy.\n",
    "- Đối với các dữ liệu rất lớn, các thuật toán không hiệu quả sẽ chạy rất chậm và không thể ứng dụng trong thực tế.\n",
    "#### Bộ nhớ. \n",
    "- Các thuật toán nhanh đòi hỏi đệ quy sẽ có thể phải tạo ra các bản copy của dữ liệu đang xử lí. Với những hệ thống mà bộ nhớ có giới hạn (ví dụ embedded system), một vài thuật toán sẽ không thể chạy được.\n",
    "#### Độ ổn định (stability). \n",
    "- Độ ổn định được định nghĩa dựa trên điều gì sẽ xảy ra với các phần tử có giá trị giống nhau.\n",
    "- Đối với thuật toán sắp xếp ổn định, các phần tử bằng với giá trị bằng nhau sẽ giữ nguyên thứ tự trong mảng trước khi sắp xếp.\n",
    "- Đối với thuật toán sắp xếp không ổn định, các phần tử có giá trị bằng nhau sẽ có thể có thứ tự bất kỳ.\n",
    "\n",
    "\n",
    "\n",
    "\n",
    "+ Trong bài viết này, ta giả sử cần sắp xếp tăng dần các phần tử. Để sắp xếp giảm dần, ta có nhiều cách:\n",
    "\n",
    "     + Sửa đổi thuật toán một cách phù hợp.\n",
    "     + Sắp xếp, sau đó đảo ngược thứ tự các phần tử.\n",
    "     + Định nghĩa lại việc so sánh nhỏ hơn."
   ]
  },
  {
   "cell_type": "markdown",
   "metadata": {},
   "source": [
    "## Sắp xếp nổi bọt (Bubble sort)"
   ]
  },
  {
   "cell_type": "markdown",
   "metadata": {},
   "source": [
    "### Ý Tưởng \n",
    "- Xét lần lượt các cặp 2 phần tử liên tiếp. Nếu phần tử đứng sau nhỏ hơn phần tử đứng trước, ta đổi chỗ 2 phần tử. Nói cách khác, phần tử nhỏ nhất sẽ nổi lên trên. \n",
    "\n",
    "- Lặp lại đến khi không còn 2 phần tử nào thỏa mãn. Có thể chứng minh được số lần lặp không quá N−1, do một phần tử chỉ có thể nổi lên trên không quá N−1 lần."
   ]
  },
  {
   "cell_type": "markdown",
   "metadata": {},
   "source": [
    " ![link Bubble Sort](https://res.cloudinary.com/practicaldev/image/fetch/s--HMFtIGpt--/c_limit%2Cf_auto%2Cfl_progressive%2Cq_auto%2Cw_880/https://www.w3resource.com/w3r_images/selection-short.png)"
   ]
  },
  {
   "cell_type": "markdown",
   "metadata": {},
   "source": [
    "#### Ưu điểm \n",
    "- Code đơn giản, dễ hiểu\n",
    "- Không tốn thêm bộ nhớ\n",
    "\n",
    "#### Nhược điểm \n",
    "- Độ phức tạp O(N^2), không đủ nhanh với dữ liệu lớn."
   ]
  },
  {
   "cell_type": "code",
   "execution_count": 4,
   "metadata": {},
   "outputs": [
    {
     "name": "stdout",
     "output_type": "stream",
     "text": [
      "Sorted array is:\n",
      "11 12 22 25 34 64 90 "
     ]
    }
   ],
   "source": [
    "def bubbleSort(arr):\n",
    "    n = len(arr)\n",
    "\n",
    "    for i in range(n):\n",
    "        for j in range(0, n-i-1):\n",
    "  \n",
    "            if arr[j] > arr[j+1] :\n",
    "                arr[j], arr[j+1] = arr[j+1], arr[j]\n",
    "  \n",
    "\n",
    "arr = [64, 34, 25, 12, 22, 11, 90]\n",
    "  \n",
    "bubbleSort(arr)\n",
    "  \n",
    "print (\"Sorted array is:\")\n",
    "for i in range(len(arr)):\n",
    "    print (\"%d\" %arr[i], end=' ') "
   ]
  },
  {
   "cell_type": "markdown",
   "metadata": {},
   "source": [
    "## Sắp xếp chèn (Insertion Sort)"
   ]
  },
  {
   "cell_type": "markdown",
   "metadata": {},
   "source": [
    "### Ý Tưởng\n",
    "Ý tưởng chính của thuật toán là ta sẽ sắp xếp lần lượt từng đoạn gồm 1 phần tử đầu tiên, 2 phần tử đầu tiên, …, N phần tử.\n",
    "\n",
    "Giả sử ta đã sắp xếp xong i phần tử của mảng. Để sắp xếp i+1 phần tử đầu tiên, ta tìm vị trí phù hợp của phần tử thứ i+1 và \"chèn\" nó vào đó."
   ]
  },
  {
   "cell_type": "markdown",
   "metadata": {},
   "source": [
    " ![](https://media.geeksforgeeks.org/wp-content/uploads/insertionsort.png)"
   ]
  },
  {
   "cell_type": "markdown",
   "metadata": {},
   "source": [
    "#### Ưu điểm \n",
    "- Nếu danh sách đã gần đúng thứ tự, Insertion Sort sẽ chạy rất nhanh. Ví dụ bạn cần sắp xếp Highscore trong game.\n",
    "\n",
    "#### Nhược điểm \n",
    "- Độ phức tạp O(N2), không đủ nhanh với dữ liệu lớn."
   ]
  },
  {
   "cell_type": "code",
   "execution_count": 3,
   "metadata": {},
   "outputs": [
    {
     "name": "stdout",
     "output_type": "stream",
     "text": [
      " 5  6  11  12  13 "
     ]
    }
   ],
   "source": [
    "# Function to do insertion sort\n",
    "def insertionSort(arr):\n",
    " \n",
    "    # Traverse through 1 to len(arr)\n",
    "    for i in range(1, len(arr)):\n",
    " \n",
    "        key = arr[i]\n",
    " \n",
    "        # Move elements of arr[0..i-1], that are\n",
    "        # greater than key, to one position ahead\n",
    "        # of their current position\n",
    "        \n",
    "        j = i-1\n",
    "        while j >= 0 and key < arr[j] :\n",
    "                arr[j + 1] = arr[j]\n",
    "                j -= 1\n",
    "        arr[j + 1] = key\n",
    " \n",
    " \n",
    "# Driver code to test above\n",
    "arr = [12, 11, 13, 5, 6]\n",
    "insertionSort(arr)\n",
    "for i in range(len(arr)):\n",
    "    print (\"% d\" % arr[i], end=' ')"
   ]
  },
  {
   "cell_type": "markdown",
   "metadata": {},
   "source": [
    " \n",
    " ### Merge sort vs Quick Sort\n",
    " https://www.youtube.com/watch?v=es2T6KY45cA&ab_channel=udiprod"
   ]
  },
  {
   "cell_type": "markdown",
   "metadata": {},
   "source": [
    "## Sắp xếp trộn (Merge sort)"
   ]
  },
  {
   "cell_type": "markdown",
   "metadata": {},
   "source": [
    "### Ý Tưởng \n",
    "Sắp xếp trộn hoạt động kiểu đệ quy:"
   ]
  },
  {
   "cell_type": "markdown",
   "metadata": {},
   "source": [
    "- Giống như QuickSort, Merge Sort là một thuật toán Chia để trị. Nó chia mảng đầu vào thành hai nửa, gọi chính nó cho hai nửa và sau đó hợp nhất hai nửa đã sắp xếp. Hàm merge () được sử dụng để hợp nhất hai nửa. Hợp nhất (arr, l, m, r) là quá trình quan trọng giả định rằng arr [l..m] và arr [m + 1..r] được sắp xếp và hợp nhất hai mảng con đã sắp xếp thành một.\n",
    "\n",
    "+ MergeSort (arr [ ], l, r)\n",
    "\n",
    "+ Nếu r> l\n",
    "\n",
    "    1. Tìm điểm giữa để chia mảng thành hai nửa:\n",
    "        Ở giữa m = (l + r) / 2\n",
    "    2. Hợp nhất cuộc gọi Sắp xếp cho nửa đầu:\n",
    "         Gọi mergeSort(arr, l, m)\n",
    "    3. Hợp nhất cuộc gọi Sắp xếp cho nửa sau:\n",
    "        Gọi mergeSort(arr, m + 1, r)\n",
    "    4. Hợp nhất hai nửa được sắp xếp ở bước 2 và 3:\n",
    "         Gọi merge(arr, l, m, r)"
   ]
  },
  {
   "cell_type": "markdown",
   "metadata": {},
   "source": [
    " ![](https://pythonandr.files.wordpress.com/2015/07/mergesort1.jpg)"
   ]
  },
  {
   "cell_type": "markdown",
   "metadata": {},
   "source": [
    "Đánh giá thuật toán sắp xếp merge sort\n",
    "\n",
    "<p style=\"text-align:center;\">Bảng đánh giá thuật toán:</p>\n",
    "\n",
    "\n",
    "\n",
    "|  Trường hợp\t|  Độ phức tạp\t| Bộ nhớ sử dụng | \n",
    "| :-----        |  :---------:  |        -----:  | \n",
    "|  Tốt nhất\t    |  O(nlog(n))\t| O(n)           |\n",
    "|  Trung bình\t|  O(nlog(n))\t| O(n)           |\n",
    "|  Xấu nhất\t    |  O(nlog(n))\t| O(n)           |\n",
    "\n",
    "\n",
    "\n",
    "#### Ưu điểm \n",
    "- Chạy nhanh, độ phức tạp O(N∗logN).\n",
    "- Ổn định\n",
    "#### Nhược điểm \n",
    "- Cần dùng thêm bộ nhớ để lưu mảng A."
   ]
  },
  {
   "cell_type": "code",
   "execution_count": 19,
   "metadata": {},
   "outputs": [
    {
     "name": "stdout",
     "output_type": "stream",
     "text": [
      "Given array is\n",
      "9 5 7 3 4 1 0 2 8 6 \n",
      "Sorted array is: \n",
      "0 1 2 3 4 5 6 7 8 9 \n"
     ]
    }
   ],
   "source": [
    "# Python program for implementation of MergeSort\n",
    "def mergeSort(arr):\n",
    "    if len(arr) > 1:\n",
    "        # Finding the mid of the array\n",
    "        mid = len(arr)//2\n",
    "\n",
    "        # Dividing the array elements\n",
    "        L = arr[:mid]\n",
    "\n",
    "        # into 2 halves\n",
    "        R = arr[mid:]\n",
    "\n",
    "        # Sorting the first half\n",
    "        mergeSort(L)\n",
    "        # Sorting the second half\n",
    "        mergeSort(R)\n",
    "        i = j = k = 0\n",
    "\n",
    "        # Copy data to temp arrays L[] and R[]\n",
    "        while i < len(L) and j < len(R):\n",
    "            if L[i] < R[j]:\n",
    "                arr[k] = L[i]\n",
    "                i += 1\n",
    "            else:\n",
    "                arr[k] = R[j]\n",
    "                j += 1\n",
    "            k += 1\n",
    "\n",
    "        # Checking if any element was left\n",
    "        while i < len(L):\n",
    "            arr[k] = L[i]\n",
    "            i += 1\n",
    "            k += 1\n",
    "        while j < len(R):\n",
    "            arr[k] = R[j]\n",
    "            j += 1\n",
    "            k += 1\n",
    "\n",
    "def printList(arr):\n",
    "    for i in range(len(arr)):\n",
    "        print(arr[i], end=\" \")\n",
    "    print()\n",
    "\n",
    "\n",
    "# Driver Code\n",
    "if __name__ == '__main__':\n",
    "    arr = [9, 5, 7, 3, 4, 1, 0, 2, 8, 6]\n",
    "    print(\"Given array is\", end=\"\\n\")\n",
    "    printList(arr)\n",
    "    mergeSort(arr)\n",
    "    print(\"Sorted array is: \", end=\"\\n\")\n",
    "    printList(arr)\n",
    "\n",
    "#https://www.geeksforgeeks.org/merge-sort/"
   ]
  },
  {
   "cell_type": "markdown",
   "metadata": {},
   "source": [
    "### Sắp xếp vun đống (HeapSort)"
   ]
  },
  {
   "cell_type": "markdown",
   "metadata": {},
   "source": [
    "### Ý Tưởng \n",
    "\n",
    "<dl>\n",
    "<dt>Thuật toán Heap sort lấy ý tưởng giải quyết từ cấu trúc heap, cụ thể:</dt>\n",
    "    \n",
    "<dd> hân hoàn chỉnh, sau đó hiệu chỉnh cây thành dạng cấu trúc heap ( vun đống)</dd> \n",
    "\n",
    "<dd> Dựa vào tính chất của cấu trúc heap, ta có thể lấy được ra phần từ lớn nhất hoặc nhỏ nhất của dãy, phần tử này chính là gốc của heap. Giảm số lượng phần tử của cây nhị phân và tái cấu trúc heap.</dd>\n",
    "\n",
    "<dd> Đưa phần tử đỉnh heap về đúng vị trí của dãy ở cuối mảng, sau đó giảm số lượng phần tử của mảng (không xét tới phần tử cuối nữa) </dd>\n",
    "\n",
    "<dd> Tái cấu trúc heap và lặp lại việc lấy phần tử gốc của cấu trúc heap cho tới khi danh sách ban đầu chỉ còn 1 phần tử. Đưa phần tử này về đúng vị trí và kết thúc thuật toán. </dd> \n",
    "\n",
    "<dd> Ở mỗi bước, ta lấy ra phần tử nhỏ nhất trong heap, cho vào mảng đã sắp xếp.</dd>\n",
    "\n",
    "<dd> Ta phải thực hiện tái cấu trúc heap, vun lại đống bởi vì sau khi lấy ra phần tử gốc heap, cấu trúc heap không còn nữa. </dd>\n",
    "    \n",
    "</dl>\n",
    "\n"
   ]
  },
  {
   "cell_type": "markdown",
   "metadata": {},
   "source": [
    "#### đống nhị phân – binary heap (Cây heap)"
   ]
  },
  {
   "cell_type": "markdown",
   "metadata": {},
   "source": [
    "### Heap có 2 dạng heap dựa vào cách so sánh khóa của node con với node cha.\n",
    "\n",
    "    - Max heap khóa của node cha luôn lớn hơn node node con\n",
    "    - Min heap khóa của node cha luôn nhỏ hơn node con\n"
   ]
  },
  {
   "cell_type": "markdown",
   "metadata": {},
   "source": [
    " ![](https://images.viblo.asia/9041bd1a-8b31-4b8f-b0d8-545cb295f2ee.png)"
   ]
  },
  {
   "cell_type": "markdown",
   "metadata": {},
   "source": [
    "<h3 style=\"text-align:center;\">array [10, 1, 23, 50, 7, -4]</h3>"
   ]
  },
  {
   "cell_type": "markdown",
   "metadata": {},
   "source": [
    "![](https://www.alphacodingskills.com/cs/img/heap-sort-diagram.PNG)"
   ]
  },
  {
   "cell_type": "markdown",
   "metadata": {},
   "source": [
    "![](https://www.alphacodingskills.com/cs/img/heap-sort.PNG)"
   ]
  },
  {
   "cell_type": "markdown",
   "metadata": {},
   "source": [
    "### Đánh giá thuật toán \n",
    "\n",
    "<p style=\"text-align:center;\">Bảng đánh giá thuật toán:</p>\n",
    "\n",
    "\n",
    "\n",
    "|  Trường hợp\t|  Độ phức tạp\t| Bộ nhớ sử dụng | \n",
    "| :-----        |  :---------:  |        -----:  | \n",
    "|  Tốt nhất\t    |  O(n log n)\t| 1              |\n",
    "|  Trung bình\t|  O(n log n)\t| 1              |\n",
    "|  Xấu nhất\t    |  O(n log n)\t| 1              |\n",
    "\n",
    "\n",
    "#### Ưu điểm:\n",
    "\n",
    "- Có độ phức tạp trung bình O (n log n) trong mọi trường hợp. Là một trong các thuật toán sắp xếp nhanh nhất\n",
    "- Ít bị ảnh hưởng bởi dữ liệu đầu vào, có thể ứng dụng nhiều trong thực tế\n",
    "\n",
    "#### Nhược điểm:\n",
    "\n",
    "- Thuật toán cài đặt phức tạp, khó khăn trong việc hiểu thuật toán\n",
    "- Là thuật toán sắp xếp không có tính ổn định\n",
    "- Không tối ưu trong mọi trường hợp\n"
   ]
  },
  {
   "cell_type": "code",
   "execution_count": 16,
   "metadata": {},
   "outputs": [
    {
     "name": "stdout",
     "output_type": "stream",
     "text": [
      "Sorted array is\n",
      "-4 1 7 10 23 50 "
     ]
    }
   ],
   "source": [
    "def heapify(arr, n, i):\n",
    "    largest = i  # Initialize largest as root\n",
    "    l = 2 * i + 1     # left = 2*i + 1\n",
    "    r = 2 * i + 2     # right = 2*i + 2\n",
    " \n",
    "    # See if left child of root exists and is\n",
    "    # greater than root\n",
    "    if l < n and arr[largest] < arr[l]:\n",
    "        largest = l\n",
    " \n",
    "    # See if right child of root exists and is\n",
    "    # greater than root\n",
    "    if r < n and arr[largest] < arr[r]:\n",
    "        largest = r\n",
    " \n",
    "    # Change root, if needed\n",
    "    if largest != i:\n",
    "        arr[i], arr[largest] = arr[largest], arr[i]  # swap\n",
    " \n",
    "        # Heapify the root.\n",
    "        heapify(arr, n, largest)\n",
    "\n",
    "#The main function to sort an array of given size \n",
    "def heapSort(arr):\n",
    "    n = len(arr)\n",
    "    # Build a maxheap.\n",
    "    for i in range(n//2 - 1, -1, -1):\n",
    "        heapify(arr, n, i)\n",
    "\n",
    "    # One by one extract elements\n",
    "    for i in range(n-1, 0, -1):\n",
    "        arr[i], arr[0] = arr[0], arr[i]  # swap\n",
    "        heapify(arr, i, 0)\n",
    "\n",
    "# Driver code\n",
    "arr = [10, 1, 23, 50, 7, -4]\n",
    "heapSort(arr)\n",
    "n = len(arr)\n",
    "\n",
    "print(\"Sorted array is\")\n",
    "for i in range(n):\n",
    "    print(\"%d\" % arr[i], end=' '),\n"
   ]
  },
  {
   "cell_type": "markdown",
   "metadata": {},
   "source": [
    "### Sắp xếp nhanh (QuickSort)"
   ]
  },
  {
   "cell_type": "markdown",
   "metadata": {},
   "source": [
    "### Ý tưởng\n",
    "- Chia dãy thành 2 phần, một phần \"lớn\" và một phần \"nhỏ\".\n",
    "- Chọn một khóa pivot\n",
    "- Những phần tử lớn hơn pivot chia vào phần lớn\n",
    "- Những phần tử nhỏ hơn hoặc bằng pivot chia vào phần nhỏ.\n",
    "- Gọi đệ quy để sắp xếp 2 phần.\n"
   ]
  },
  {
   "cell_type": "markdown",
   "metadata": {},
   "source": [
    " ![](https://2.bp.blogspot.com/-6YYLhmuFUoU/Ua6ZU7rsZFI/AAAAAAAAA0s/e8V4fl9UbP4/s1600/quick_sort.jpg)"
   ]
  },
  {
   "cell_type": "markdown",
   "metadata": {},
   "source": [
    "#### Ưu điểm\n",
    "- Chạy nhanh (nhanh nhất trong các thuật toán sắp xếp dựa trên việc só sánh các phần tử). Do đó quicksort được sử dụng trong nhiều thư viện của các ngôn ngữ như Java, C++ (hàm sort của C++ dùng Intro sort, là kết hợp của Quicksort và Insertion Sort).\n",
    "\n",
    "#### Nhược điểm\n",
    "- Tùy thuộc vào cách chia thành 2 phần, nếu chia không tốt, độ phức tạp trong trường hợp xấu nhất có thể là O(N^2). Nếu ta chọn pivot ngẫu nhiên, thuật toán chạy với độ phức tạp trung bình là O(N∗logN) (trong trường hợp xấu nhất vẫn là O(N^2), nhưng ta sẽ không bao giờ gặp phải trường hợp đó).\n",
    "\n",
    "- Không ổn định."
   ]
  },
  {
   "cell_type": "markdown",
   "metadata": {},
   "source": [
    "<p style=\"text-align:center;\">Độ phức tạp thuật toán của quick sort</p>\n",
    "<p style=\"text-align:center;\">Trường hợp tốt: O(nlog(n))</p>\n",
    "<p style=\"text-align:center;\">Trung bình: O(nlog(n))</p>\n",
    "<p style=\"text-align:center;\">Trường hợp xấu: O(n^2)</p>\n",
    "<p style=\"text-align:center;\">Không gian bộ nhớ sử dụng: O(log(n))</p>\n",
    "\n",
    "\n",
    "\n"
   ]
  },
  {
   "cell_type": "code",
   "execution_count": null,
   "metadata": {},
   "outputs": [],
   "source": []
  },
  {
   "cell_type": "code",
   "execution_count": null,
   "metadata": {},
   "outputs": [],
   "source": []
  }
 ],
 "metadata": {
  "kernelspec": {
   "display_name": "Python 3",
   "language": "python",
   "name": "python3"
  },
  "language_info": {
   "codemirror_mode": {
    "name": "ipython",
    "version": 3
   },
   "file_extension": ".py",
   "mimetype": "text/x-python",
   "name": "python",
   "nbconvert_exporter": "python",
   "pygments_lexer": "ipython3",
   "version": "3.8.3"
  }
 },
 "nbformat": 4,
 "nbformat_minor": 4
}
