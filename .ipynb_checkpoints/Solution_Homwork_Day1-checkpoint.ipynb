{
 "cells": [
  {
   "cell_type": "markdown",
   "metadata": {},
   "source": [
    "###     Homework Day 1 - basic python. "
   ]
  },
  {
   "cell_type": "markdown",
   "metadata": {},
   "source": [
    "#### Bài 11: Roman to Integer\n",
    "    Symbol       Value\n",
    "    I             1\n",
    "    V             5\n",
    "    X             10\n",
    "    L             50\n",
    "    C             100\n",
    "    D             500\n",
    "    M             1000\n",
    "    \n",
    "- Example 1:\n",
    "    \n",
    "    Input: s = \"III\"\n",
    "    \n",
    "    Output: 3\n",
    "\n",
    "- Example 2:\n",
    "\n",
    "    Input: s = \"IV\"\n",
    "    \n",
    "    Output: 4\n",
    "\n",
    "- Example 3:\n",
    "\n",
    "    Input: s = \"IX\"\n",
    "\n",
    "    Output: 9\n",
    "\n",
    "- Example 4:\n",
    "\n",
    "    Input: s = \"LVIII\"\n",
    "    \n",
    "    Output: 58\n",
    "    \n",
    "    Explanation: L = 50, V= 5, III = 3.\n",
    "\n",
    "- Example 5:\n",
    "\n",
    "    Input: s = \"MCMXCIV\"\n",
    "    \n",
    "    Output: 1994\n",
    "\n",
    "    Explanation: M = 1000, CM = 900, XC = 90 and IV = 4.\n",
    "\n",
    "    Constraints:\n",
    "        • 1 <= s.length <= 15\n",
    "        • s contains only the characters ('I', 'V', 'X', 'L', 'C', 'D', 'M').\n",
    "        • It is guaranteed that s is a valid roman numeral in the range [1, 3999].\n"
   ]
  },
  {
   "cell_type": "code",
   "execution_count": 5,
   "metadata": {},
   "outputs": [],
   "source": [
    "def romanToInt(s):\n",
    "        \"\"\"\n",
    "        :type s: str\n",
    "        :rtype: int\n",
    "        \"\"\"\n",
    "        res ,i = 0 , 0\n",
    "        v = {\"I\": 1, \"V\": 5, \"X\": 10, \"L\": 50, \"C\": 100, \"D\": 500, \"M\": 1000}\n",
    "        while  i < len(s):\n",
    "            if i == (len(s) - 1):\n",
    "                res += (v[s[i]])# for evaluating last numeral of the string\n",
    "                i += 1\n",
    "            else:    \n",
    "                if v[s[i]] < v[s[i+1]]: #for evaluating numerals for 4,9 cases\n",
    "                    res += (v[s[i+1]]- v[s[i]]) #prev numeral value will be less than lateral only cases with 4 and 9 eg:XC- 100 - 10 : 90 \n",
    "                    i += 2\n",
    "                else: #for rest cases\n",
    "                    res += (v[s[i]])\n",
    "                    i += 1\n",
    "        return res"
   ]
  },
  {
   "cell_type": "code",
   "execution_count": 6,
   "metadata": {},
   "outputs": [
    {
     "data": {
      "text/plain": [
       "1994"
      ]
     },
     "execution_count": 6,
     "metadata": {},
     "output_type": "execute_result"
    }
   ],
   "source": [
    "romanToInt(\"MCMXCIV\")"
   ]
  },
  {
   "cell_type": "markdown",
   "metadata": {},
   "source": [
    "#####  Bài 13: Shuffle String"
   ]
  },
  {
   "cell_type": "markdown",
   "metadata": {},
   "source": [
    "###### Given a string s and an integer array indices of the same length.The string s will be shuffled such that the character at the ith position moves to indices[i] in the shuffled string.Return the shuffled string.\n",
    " \n",
    "![Example 1](\"/home/minglee/Documents/Guildline_ML/shuffle_string.png\")\n",
    "    \n",
    "Input: s = \"codeleet\", indices = [4,5,6,7,0,2,1,3]\n",
    "\n",
    "Output: \"leetcode\"\n",
    "\n",
    "Explanation: As shown, \"codeleet\" becomes \"leetcode\" after shuffling.\n",
    "    \n",
    "Example 2:\n",
    "    \n",
    "Input: s = \"abc\", indices = [0,1,2]\n",
    "    \n",
    "Output: \"abc\"\n",
    "    \n",
    "Explanation: After shuffling, each character remains in its position.\n",
    "    \n",
    "Example 3:\n",
    "    \n",
    "Input: s = \"aiohn\", indices = [3,1,4,2,0]\n",
    "    \n",
    "Output: \"nihao\"\n",
    "    \n",
    "Example 4:\n",
    "    \n",
    "Input: s = \"aaiougrt\", indices = [4,0,2,6,7,3,1,5]\n",
    "    \n",
    "Output: \"arigatou\"\n",
    "    \n",
    "Example 5:\n",
    "    \n",
    "Input: s = \"art\", indices = [1,0,2]\n",
    "    \n",
    "Output: \"rat\"\n",
    "    \n",
    "##### Constraints:\n",
    "    • s.length == indices.length == n\n",
    "    • 1 <= n <= 100\n",
    "    • s contains only lower-case English letters.\n",
    "    • 0 <= indices[i] < n\n",
    "    • All values of indices are unique (i.e. indices is a permutation of the integers from 0 to n - 1).\n"
   ]
  },
  {
   "cell_type": "code",
   "execution_count": 14,
   "metadata": {},
   "outputs": [],
   "source": [
    "def restoreString(s: str, indices: list) -> str:\n",
    "\n",
    "    output = [''] * len(s) # make empty list same length as s\n",
    "    index = 0\n",
    "\n",
    "    for n in indices:\n",
    "        output[n] = s[index]\n",
    "        index += 1\n",
    "\n",
    "    output = ''.join(output)\n",
    "\n",
    "    return output\n"
   ]
  },
  {
   "cell_type": "code",
   "execution_count": 15,
   "metadata": {},
   "outputs": [
    {
     "data": {
      "text/plain": [
       "'arigatou'"
      ]
     },
     "execution_count": 15,
     "metadata": {},
     "output_type": "execute_result"
    }
   ],
   "source": [
    "restoreString(\"aaiougrt\", indices = [4,0,2,6,7,3,1,5])"
   ]
  },
  {
   "cell_type": "code",
   "execution_count": null,
   "metadata": {},
   "outputs": [],
   "source": []
  }
 ],
 "metadata": {
  "kernelspec": {
   "display_name": "Python 3",
   "language": "python",
   "name": "python3"
  },
  "language_info": {
   "codemirror_mode": {
    "name": "ipython",
    "version": 3
   },
   "file_extension": ".py",
   "mimetype": "text/x-python",
   "name": "python",
   "nbconvert_exporter": "python",
   "pygments_lexer": "ipython3",
   "version": "3.8.3"
  }
 },
 "nbformat": 4,
 "nbformat_minor": 4
}
